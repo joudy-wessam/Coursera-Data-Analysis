{
 "cells": [
  {
   "cell_type": "markdown",
   "id": "f136948a",
   "metadata": {
    "papermill": {
     "duration": 0.018706,
     "end_time": "2021-09-18T14:41:35.291048",
     "exception": false,
     "start_time": "2021-09-18T14:41:35.272342",
     "status": "completed"
    },
    "tags": []
   },
   "source": [
    "## What is Coursera \n",
    "<p>Coursera was founded by Daphne Koller and Andrew Ng in 2012 with a vision of providing life-transforming learning experiences to learners around the world. Today, Coursera is a global online learning platform that offers anyone, anywhere, access to online courses and degrees from leading universities and companies. Coursera received B Corp certification in February 2021, which means that we have a legal duty not only to our shareholders, but to also make a positive impact on society more broadly, as we continue our efforts to reduce barriers to world-class education for all.\n",
    "<p><img src=\"Grid_Coursera_Partners_updated.png\" ></p></p>\n",
    "<p>82 million learners, 100+ Fortune 500 companies, and more than 6,000 campuses, businesses, and governments come to Coursera to access world-class learning—anytime, anywhere.</p>\n"
   ]
  },
  {
   "cell_type": "markdown",
   "id": "1d9c95fc",
   "metadata": {
    "papermill": {
     "duration": 0.016326,
     "end_time": "2021-09-18T14:41:35.324407",
     "exception": false,
     "start_time": "2021-09-18T14:41:35.308081",
     "status": "completed"
    },
    "tags": []
   },
   "source": [
    "Task 1: Instructions Load the required libraries and the coursera dataset. Use pd.read_csv to read in .csv and save it into df Show at least the first six entries of nobel using the head() method"
   ]
  },
  {
   "cell_type": "code",
   "execution_count": 1,
   "id": "9fe2f970",
   "metadata": {
    "execution": {
     "iopub.execute_input": "2021-09-18T14:41:35.371800Z",
     "iopub.status.busy": "2021-09-18T14:41:35.371161Z",
     "iopub.status.idle": "2021-09-18T14:41:47.394448Z",
     "shell.execute_reply": "2021-09-18T14:41:47.393555Z",
     "shell.execute_reply.started": "2021-09-18T14:40:04.546199Z"
    },
    "papermill": {
     "duration": 12.053147,
     "end_time": "2021-09-18T14:41:47.394647",
     "exception": false,
     "start_time": "2021-09-18T14:41:35.341500",
     "status": "completed"
    },
    "tags": []
   },
   "outputs": [
    {
     "name": "stdout",
     "output_type": "stream",
     "text": [
      "Collecting langdetect\r\n",
      "  Downloading langdetect-1.0.9.tar.gz (981 kB)\r\n",
      "\u001b[K     |████████████████████████████████| 981 kB 4.4 MB/s \r\n",
      "\u001b[?25hRequirement already satisfied: six in /opt/conda/lib/python3.7/site-packages (from langdetect) (1.15.0)\r\n",
      "Building wheels for collected packages: langdetect\r\n",
      "  Building wheel for langdetect (setup.py) ... \u001b[?25l-\b \b\\\b \b|\b \b/\b \bdone\r\n",
      "\u001b[?25h  Created wheel for langdetect: filename=langdetect-1.0.9-py3-none-any.whl size=993221 sha256=b34907258a4baf1fb4bfe3c752ab00b524274415c7d6c27db147b245497712ce\r\n",
      "  Stored in directory: /root/.cache/pip/wheels/c5/96/8a/f90c59ed25d75e50a8c10a1b1c2d4c402e4dacfa87f3aff36a\r\n",
      "Successfully built langdetect\r\n",
      "Installing collected packages: langdetect\r\n",
      "Successfully installed langdetect-1.0.9\r\n",
      "\u001b[33mWARNING: Running pip as root will break packages and permissions. You should install packages reliably by using venv: https://pip.pypa.io/warnings/venv\u001b[0m\r\n"
     ]
    },
    {
     "data": {
      "text/html": [
       "<div>\n",
       "<style scoped>\n",
       "    .dataframe tbody tr th:only-of-type {\n",
       "        vertical-align: middle;\n",
       "    }\n",
       "\n",
       "    .dataframe tbody tr th {\n",
       "        vertical-align: top;\n",
       "    }\n",
       "\n",
       "    .dataframe thead th {\n",
       "        text-align: right;\n",
       "    }\n",
       "</style>\n",
       "<table border=\"1\" class=\"dataframe\">\n",
       "  <thead>\n",
       "    <tr style=\"text-align: right;\">\n",
       "      <th></th>\n",
       "      <th>course_title</th>\n",
       "      <th>course_organization</th>\n",
       "      <th>course_Certificate_type</th>\n",
       "      <th>course_rating</th>\n",
       "      <th>course_difficulty</th>\n",
       "      <th>course_students_enrolled</th>\n",
       "    </tr>\n",
       "  </thead>\n",
       "  <tbody>\n",
       "    <tr>\n",
       "      <th>0</th>\n",
       "      <td>(ISC)² Systems Security Certified Practitioner...</td>\n",
       "      <td>(ISC)²</td>\n",
       "      <td>SPECIALIZATION</td>\n",
       "      <td>4.7</td>\n",
       "      <td>Beginner</td>\n",
       "      <td>5.3k</td>\n",
       "    </tr>\n",
       "    <tr>\n",
       "      <th>1</th>\n",
       "      <td>A Crash Course in Causality:  Inferring Causal...</td>\n",
       "      <td>University of Pennsylvania</td>\n",
       "      <td>COURSE</td>\n",
       "      <td>4.7</td>\n",
       "      <td>Intermediate</td>\n",
       "      <td>17k</td>\n",
       "    </tr>\n",
       "    <tr>\n",
       "      <th>2</th>\n",
       "      <td>A Crash Course in Data Science</td>\n",
       "      <td>Johns Hopkins University</td>\n",
       "      <td>COURSE</td>\n",
       "      <td>4.5</td>\n",
       "      <td>Mixed</td>\n",
       "      <td>130k</td>\n",
       "    </tr>\n",
       "    <tr>\n",
       "      <th>3</th>\n",
       "      <td>A Law Student's Toolkit</td>\n",
       "      <td>Yale University</td>\n",
       "      <td>COURSE</td>\n",
       "      <td>4.7</td>\n",
       "      <td>Mixed</td>\n",
       "      <td>91k</td>\n",
       "    </tr>\n",
       "    <tr>\n",
       "      <th>4</th>\n",
       "      <td>A Life of Happiness and Fulfillment</td>\n",
       "      <td>Indian School of Business</td>\n",
       "      <td>COURSE</td>\n",
       "      <td>4.8</td>\n",
       "      <td>Mixed</td>\n",
       "      <td>320k</td>\n",
       "    </tr>\n",
       "    <tr>\n",
       "      <th>5</th>\n",
       "      <td>ADHD: Everyday Strategies for Elementary Students</td>\n",
       "      <td>University at Buffalo</td>\n",
       "      <td>COURSE</td>\n",
       "      <td>4.7</td>\n",
       "      <td>Beginner</td>\n",
       "      <td>39k</td>\n",
       "    </tr>\n",
       "  </tbody>\n",
       "</table>\n",
       "</div>"
      ],
      "text/plain": [
       "                                        course_title  \\\n",
       "0  (ISC)² Systems Security Certified Practitioner...   \n",
       "1  A Crash Course in Causality:  Inferring Causal...   \n",
       "2                     A Crash Course in Data Science   \n",
       "3                            A Law Student's Toolkit   \n",
       "4                A Life of Happiness and Fulfillment   \n",
       "5  ADHD: Everyday Strategies for Elementary Students   \n",
       "\n",
       "          course_organization course_Certificate_type  course_rating  \\\n",
       "0                      (ISC)²          SPECIALIZATION            4.7   \n",
       "1  University of Pennsylvania                  COURSE            4.7   \n",
       "2    Johns Hopkins University                  COURSE            4.5   \n",
       "3             Yale University                  COURSE            4.7   \n",
       "4   Indian School of Business                  COURSE            4.8   \n",
       "5       University at Buffalo                  COURSE            4.7   \n",
       "\n",
       "  course_difficulty course_students_enrolled  \n",
       "0          Beginner                     5.3k  \n",
       "1      Intermediate                      17k  \n",
       "2             Mixed                     130k  \n",
       "3             Mixed                      91k  \n",
       "4             Mixed                     320k  \n",
       "5          Beginner                      39k  "
      ]
     },
     "execution_count": 1,
     "metadata": {},
     "output_type": "execute_result"
    }
   ],
   "source": [
    "# Loading in required libraries\n",
    "import numpy as np\n",
    "import pandas as pd\n",
    "import seaborn as sns\n",
    "import matplotlib.pyplot as plt\n",
    "import plotly.express as px\n",
    "import plotly.graph_objects as go\n",
    "import seaborn as sb\n",
    "from matplotlib.ticker import PercentFormatter\n",
    "!pip install langdetect\n",
    "import langdetect\n",
    "\n",
    "\n",
    "# Reading in the coursera data\n",
    "df=pd.read_csv(\"../input/coursera-data/coursea_data.csv\")\n",
    "\n",
    "# show first entries\n",
    "df.head(6)"
   ]
  },
  {
   "cell_type": "markdown",
   "id": "e868f184",
   "metadata": {
    "papermill": {
     "duration": 0.021266,
     "end_time": "2021-09-18T14:41:47.436817",
     "exception": false,
     "start_time": "2021-09-18T14:41:47.415551",
     "status": "completed"
    },
    "tags": []
   },
   "source": [
    "## Top 10 organizations\n",
    "Coursera partners with more than 200 leading universities and companies to bring flexible, affordable, job-relevant online learning to individuals and organizations worldwide. \n",
    "<p>But who is the most common organizations which provide courses?</p>\n"
   ]
  },
  {
   "cell_type": "markdown",
   "id": "e8b2ef78",
   "metadata": {
    "papermill": {
     "duration": 0.019739,
     "end_time": "2021-09-18T14:41:47.477026",
     "exception": false,
     "start_time": "2021-09-18T14:41:47.457287",
     "status": "completed"
    },
    "tags": []
   },
   "source": [
    "Task 2: plot the top 10 organizations in providing courses \n"
   ]
  },
  {
   "cell_type": "code",
   "execution_count": 2,
   "id": "f4e838b4",
   "metadata": {
    "execution": {
     "iopub.execute_input": "2021-09-18T14:41:47.530904Z",
     "iopub.status.busy": "2021-09-18T14:41:47.530236Z",
     "iopub.status.idle": "2021-09-18T14:41:48.546202Z",
     "shell.execute_reply": "2021-09-18T14:41:48.545294Z",
     "shell.execute_reply.started": "2021-09-18T14:40:20.278429Z"
    },
    "papermill": {
     "duration": 1.047818,
     "end_time": "2021-09-18T14:41:48.546390",
     "exception": false,
     "start_time": "2021-09-18T14:41:47.498572",
     "status": "completed"
    },
    "tags": []
   },
   "outputs": [
    {
     "data": {
      "text/html": [
       "        <script type=\"text/javascript\">\n",
       "        window.PlotlyConfig = {MathJaxConfig: 'local'};\n",
       "        if (window.MathJax) {MathJax.Hub.Config({SVG: {font: \"STIX-Web\"}});}\n",
       "        if (typeof require !== 'undefined') {\n",
       "        require.undef(\"plotly\");\n",
       "        requirejs.config({\n",
       "            paths: {\n",
       "                'plotly': ['https://cdn.plot.ly/plotly-2.2.0.min']\n",
       "            }\n",
       "        });\n",
       "        require(['plotly'], function(Plotly) {\n",
       "            window._Plotly = Plotly;\n",
       "        });\n",
       "        }\n",
       "        </script>\n",
       "        "
      ]
     },
     "metadata": {},
     "output_type": "display_data"
    },
    {
     "data": {
      "text/html": [
       "<div>                            <div id=\"bd7fce1f-41c7-4876-a6bd-ed7cadefca5a\" class=\"plotly-graph-div\" style=\"height:525px; width:100%;\"></div>            <script type=\"text/javascript\">                require([\"plotly\"], function(Plotly) {                    window.PLOTLYENV=window.PLOTLYENV || {};                                    if (document.getElementById(\"bd7fce1f-41c7-4876-a6bd-ed7cadefca5a\")) {                    Plotly.newPlot(                        \"bd7fce1f-41c7-4876-a6bd-ed7cadefca5a\",                        [{\"alignmentgroup\":\"True\",\"hovertemplate\":\"count=%{text}<br>organization=%{y}<extra></extra>\",\"legendgroup\":\"\",\"marker\":{\"color\":\"#0070c0\",\"pattern\":{\"shape\":\"\"}},\"name\":\"\",\"offsetgroup\":\"\",\"orientation\":\"h\",\"showlegend\":false,\"text\":[\"59\",\"41\",\"34\",\"28\",\"28\",\"27\",\"22\",\"22\",\"21\",\"19\"],\"textposition\":\"auto\",\"type\":\"bar\",\"x\":[59,41,34,28,28,27,22,22,21,19],\"xaxis\":\"x\",\"y\":[\"University of Pennsylvania\",\"University of Michigan\",\"Google Cloud\",\"Duke University\",\"Johns Hopkins University\",\"University of California, Irvine\",\"University of Illinois at Urbana-Champaign\",\"IBM\",\"University of California, Davis\",\"University of Colorado Boulder\"],\"yaxis\":\"y\"}],                        {\"barmode\":\"relative\",\"legend\":{\"tracegroupgap\":0},\"margin\":{\"t\":60},\"template\":{\"data\":{\"bar\":[{\"error_x\":{\"color\":\"#2a3f5f\"},\"error_y\":{\"color\":\"#2a3f5f\"},\"marker\":{\"line\":{\"color\":\"#E5ECF6\",\"width\":0.5},\"pattern\":{\"fillmode\":\"overlay\",\"size\":10,\"solidity\":0.2}},\"type\":\"bar\"}],\"barpolar\":[{\"marker\":{\"line\":{\"color\":\"#E5ECF6\",\"width\":0.5},\"pattern\":{\"fillmode\":\"overlay\",\"size\":10,\"solidity\":0.2}},\"type\":\"barpolar\"}],\"carpet\":[{\"aaxis\":{\"endlinecolor\":\"#2a3f5f\",\"gridcolor\":\"white\",\"linecolor\":\"white\",\"minorgridcolor\":\"white\",\"startlinecolor\":\"#2a3f5f\"},\"baxis\":{\"endlinecolor\":\"#2a3f5f\",\"gridcolor\":\"white\",\"linecolor\":\"white\",\"minorgridcolor\":\"white\",\"startlinecolor\":\"#2a3f5f\"},\"type\":\"carpet\"}],\"choropleth\":[{\"colorbar\":{\"outlinewidth\":0,\"ticks\":\"\"},\"type\":\"choropleth\"}],\"contour\":[{\"colorbar\":{\"outlinewidth\":0,\"ticks\":\"\"},\"colorscale\":[[0.0,\"#0d0887\"],[0.1111111111111111,\"#46039f\"],[0.2222222222222222,\"#7201a8\"],[0.3333333333333333,\"#9c179e\"],[0.4444444444444444,\"#bd3786\"],[0.5555555555555556,\"#d8576b\"],[0.6666666666666666,\"#ed7953\"],[0.7777777777777778,\"#fb9f3a\"],[0.8888888888888888,\"#fdca26\"],[1.0,\"#f0f921\"]],\"type\":\"contour\"}],\"contourcarpet\":[{\"colorbar\":{\"outlinewidth\":0,\"ticks\":\"\"},\"type\":\"contourcarpet\"}],\"heatmap\":[{\"colorbar\":{\"outlinewidth\":0,\"ticks\":\"\"},\"colorscale\":[[0.0,\"#0d0887\"],[0.1111111111111111,\"#46039f\"],[0.2222222222222222,\"#7201a8\"],[0.3333333333333333,\"#9c179e\"],[0.4444444444444444,\"#bd3786\"],[0.5555555555555556,\"#d8576b\"],[0.6666666666666666,\"#ed7953\"],[0.7777777777777778,\"#fb9f3a\"],[0.8888888888888888,\"#fdca26\"],[1.0,\"#f0f921\"]],\"type\":\"heatmap\"}],\"heatmapgl\":[{\"colorbar\":{\"outlinewidth\":0,\"ticks\":\"\"},\"colorscale\":[[0.0,\"#0d0887\"],[0.1111111111111111,\"#46039f\"],[0.2222222222222222,\"#7201a8\"],[0.3333333333333333,\"#9c179e\"],[0.4444444444444444,\"#bd3786\"],[0.5555555555555556,\"#d8576b\"],[0.6666666666666666,\"#ed7953\"],[0.7777777777777778,\"#fb9f3a\"],[0.8888888888888888,\"#fdca26\"],[1.0,\"#f0f921\"]],\"type\":\"heatmapgl\"}],\"histogram\":[{\"marker\":{\"pattern\":{\"fillmode\":\"overlay\",\"size\":10,\"solidity\":0.2}},\"type\":\"histogram\"}],\"histogram2d\":[{\"colorbar\":{\"outlinewidth\":0,\"ticks\":\"\"},\"colorscale\":[[0.0,\"#0d0887\"],[0.1111111111111111,\"#46039f\"],[0.2222222222222222,\"#7201a8\"],[0.3333333333333333,\"#9c179e\"],[0.4444444444444444,\"#bd3786\"],[0.5555555555555556,\"#d8576b\"],[0.6666666666666666,\"#ed7953\"],[0.7777777777777778,\"#fb9f3a\"],[0.8888888888888888,\"#fdca26\"],[1.0,\"#f0f921\"]],\"type\":\"histogram2d\"}],\"histogram2dcontour\":[{\"colorbar\":{\"outlinewidth\":0,\"ticks\":\"\"},\"colorscale\":[[0.0,\"#0d0887\"],[0.1111111111111111,\"#46039f\"],[0.2222222222222222,\"#7201a8\"],[0.3333333333333333,\"#9c179e\"],[0.4444444444444444,\"#bd3786\"],[0.5555555555555556,\"#d8576b\"],[0.6666666666666666,\"#ed7953\"],[0.7777777777777778,\"#fb9f3a\"],[0.8888888888888888,\"#fdca26\"],[1.0,\"#f0f921\"]],\"type\":\"histogram2dcontour\"}],\"mesh3d\":[{\"colorbar\":{\"outlinewidth\":0,\"ticks\":\"\"},\"type\":\"mesh3d\"}],\"parcoords\":[{\"line\":{\"colorbar\":{\"outlinewidth\":0,\"ticks\":\"\"}},\"type\":\"parcoords\"}],\"pie\":[{\"automargin\":true,\"type\":\"pie\"}],\"scatter\":[{\"marker\":{\"colorbar\":{\"outlinewidth\":0,\"ticks\":\"\"}},\"type\":\"scatter\"}],\"scatter3d\":[{\"line\":{\"colorbar\":{\"outlinewidth\":0,\"ticks\":\"\"}},\"marker\":{\"colorbar\":{\"outlinewidth\":0,\"ticks\":\"\"}},\"type\":\"scatter3d\"}],\"scattercarpet\":[{\"marker\":{\"colorbar\":{\"outlinewidth\":0,\"ticks\":\"\"}},\"type\":\"scattercarpet\"}],\"scattergeo\":[{\"marker\":{\"colorbar\":{\"outlinewidth\":0,\"ticks\":\"\"}},\"type\":\"scattergeo\"}],\"scattergl\":[{\"marker\":{\"colorbar\":{\"outlinewidth\":0,\"ticks\":\"\"}},\"type\":\"scattergl\"}],\"scattermapbox\":[{\"marker\":{\"colorbar\":{\"outlinewidth\":0,\"ticks\":\"\"}},\"type\":\"scattermapbox\"}],\"scatterpolar\":[{\"marker\":{\"colorbar\":{\"outlinewidth\":0,\"ticks\":\"\"}},\"type\":\"scatterpolar\"}],\"scatterpolargl\":[{\"marker\":{\"colorbar\":{\"outlinewidth\":0,\"ticks\":\"\"}},\"type\":\"scatterpolargl\"}],\"scatterternary\":[{\"marker\":{\"colorbar\":{\"outlinewidth\":0,\"ticks\":\"\"}},\"type\":\"scatterternary\"}],\"surface\":[{\"colorbar\":{\"outlinewidth\":0,\"ticks\":\"\"},\"colorscale\":[[0.0,\"#0d0887\"],[0.1111111111111111,\"#46039f\"],[0.2222222222222222,\"#7201a8\"],[0.3333333333333333,\"#9c179e\"],[0.4444444444444444,\"#bd3786\"],[0.5555555555555556,\"#d8576b\"],[0.6666666666666666,\"#ed7953\"],[0.7777777777777778,\"#fb9f3a\"],[0.8888888888888888,\"#fdca26\"],[1.0,\"#f0f921\"]],\"type\":\"surface\"}],\"table\":[{\"cells\":{\"fill\":{\"color\":\"#EBF0F8\"},\"line\":{\"color\":\"white\"}},\"header\":{\"fill\":{\"color\":\"#C8D4E3\"},\"line\":{\"color\":\"white\"}},\"type\":\"table\"}]},\"layout\":{\"annotationdefaults\":{\"arrowcolor\":\"#2a3f5f\",\"arrowhead\":0,\"arrowwidth\":1},\"autotypenumbers\":\"strict\",\"coloraxis\":{\"colorbar\":{\"outlinewidth\":0,\"ticks\":\"\"}},\"colorscale\":{\"diverging\":[[0,\"#8e0152\"],[0.1,\"#c51b7d\"],[0.2,\"#de77ae\"],[0.3,\"#f1b6da\"],[0.4,\"#fde0ef\"],[0.5,\"#f7f7f7\"],[0.6,\"#e6f5d0\"],[0.7,\"#b8e186\"],[0.8,\"#7fbc41\"],[0.9,\"#4d9221\"],[1,\"#276419\"]],\"sequential\":[[0.0,\"#0d0887\"],[0.1111111111111111,\"#46039f\"],[0.2222222222222222,\"#7201a8\"],[0.3333333333333333,\"#9c179e\"],[0.4444444444444444,\"#bd3786\"],[0.5555555555555556,\"#d8576b\"],[0.6666666666666666,\"#ed7953\"],[0.7777777777777778,\"#fb9f3a\"],[0.8888888888888888,\"#fdca26\"],[1.0,\"#f0f921\"]],\"sequentialminus\":[[0.0,\"#0d0887\"],[0.1111111111111111,\"#46039f\"],[0.2222222222222222,\"#7201a8\"],[0.3333333333333333,\"#9c179e\"],[0.4444444444444444,\"#bd3786\"],[0.5555555555555556,\"#d8576b\"],[0.6666666666666666,\"#ed7953\"],[0.7777777777777778,\"#fb9f3a\"],[0.8888888888888888,\"#fdca26\"],[1.0,\"#f0f921\"]]},\"colorway\":[\"#636efa\",\"#EF553B\",\"#00cc96\",\"#ab63fa\",\"#FFA15A\",\"#19d3f3\",\"#FF6692\",\"#B6E880\",\"#FF97FF\",\"#FECB52\"],\"font\":{\"color\":\"#2a3f5f\"},\"geo\":{\"bgcolor\":\"white\",\"lakecolor\":\"white\",\"landcolor\":\"#E5ECF6\",\"showlakes\":true,\"showland\":true,\"subunitcolor\":\"white\"},\"hoverlabel\":{\"align\":\"left\"},\"hovermode\":\"closest\",\"mapbox\":{\"style\":\"light\"},\"paper_bgcolor\":\"white\",\"plot_bgcolor\":\"#E5ECF6\",\"polar\":{\"angularaxis\":{\"gridcolor\":\"white\",\"linecolor\":\"white\",\"ticks\":\"\"},\"bgcolor\":\"#E5ECF6\",\"radialaxis\":{\"gridcolor\":\"white\",\"linecolor\":\"white\",\"ticks\":\"\"}},\"scene\":{\"xaxis\":{\"backgroundcolor\":\"#E5ECF6\",\"gridcolor\":\"white\",\"gridwidth\":2,\"linecolor\":\"white\",\"showbackground\":true,\"ticks\":\"\",\"zerolinecolor\":\"white\"},\"yaxis\":{\"backgroundcolor\":\"#E5ECF6\",\"gridcolor\":\"white\",\"gridwidth\":2,\"linecolor\":\"white\",\"showbackground\":true,\"ticks\":\"\",\"zerolinecolor\":\"white\"},\"zaxis\":{\"backgroundcolor\":\"#E5ECF6\",\"gridcolor\":\"white\",\"gridwidth\":2,\"linecolor\":\"white\",\"showbackground\":true,\"ticks\":\"\",\"zerolinecolor\":\"white\"}},\"shapedefaults\":{\"line\":{\"color\":\"#2a3f5f\"}},\"ternary\":{\"aaxis\":{\"gridcolor\":\"white\",\"linecolor\":\"white\",\"ticks\":\"\"},\"baxis\":{\"gridcolor\":\"white\",\"linecolor\":\"white\",\"ticks\":\"\"},\"bgcolor\":\"#E5ECF6\",\"caxis\":{\"gridcolor\":\"white\",\"linecolor\":\"white\",\"ticks\":\"\"}},\"title\":{\"x\":0.05},\"xaxis\":{\"automargin\":true,\"gridcolor\":\"white\",\"linecolor\":\"white\",\"ticks\":\"\",\"title\":{\"standoff\":15},\"zerolinecolor\":\"white\",\"zerolinewidth\":2},\"yaxis\":{\"automargin\":true,\"gridcolor\":\"white\",\"linecolor\":\"white\",\"ticks\":\"\",\"title\":{\"standoff\":15},\"zerolinecolor\":\"white\",\"zerolinewidth\":2}}},\"xaxis\":{\"anchor\":\"y\",\"domain\":[0.0,1.0],\"title\":{\"text\":\"count\"}},\"yaxis\":{\"anchor\":\"x\",\"domain\":[0.0,1.0],\"title\":{\"text\":\"organization\"}}},                        {\"responsive\": true}                    ).then(function(){\n",
       "                            \n",
       "var gd = document.getElementById('bd7fce1f-41c7-4876-a6bd-ed7cadefca5a');\n",
       "var x = new MutationObserver(function (mutations, observer) {{\n",
       "        var display = window.getComputedStyle(gd).display;\n",
       "        if (!display || display === 'none') {{\n",
       "            console.log([gd, 'removed!']);\n",
       "            Plotly.purge(gd);\n",
       "            observer.disconnect();\n",
       "        }}\n",
       "}});\n",
       "\n",
       "// Listen for the removal of the full notebook cells\n",
       "var notebookContainer = gd.closest('#notebook-container');\n",
       "if (notebookContainer) {{\n",
       "    x.observe(notebookContainer, {childList: true});\n",
       "}}\n",
       "\n",
       "// Listen for the clearing of the current output cell\n",
       "var outputEl = gd.closest('.output');\n",
       "if (outputEl) {{\n",
       "    x.observe(outputEl, {childList: true});\n",
       "}}\n",
       "\n",
       "                        })                };                });            </script>        </div>"
      ]
     },
     "metadata": {},
     "output_type": "display_data"
    }
   ],
   "source": [
    "\n",
    "reg_df = df.course_organization.value_counts()[:10].reset_index()\n",
    "reg_df.columns = ['organization','count']\n",
    "fig = px.bar(reg_df,y='organization',x='count',color_discrete_sequence=['#0070c0'],text=\"count\")\n",
    "fig.show()"
   ]
  },
  {
   "cell_type": "markdown",
   "id": "4c12311e",
   "metadata": {
    "papermill": {
     "duration": 0.020937,
     "end_time": "2021-09-18T14:41:48.588589",
     "exception": false,
     "start_time": "2021-09-18T14:41:48.567652",
     "status": "completed"
    },
    "tags": []
   },
   "source": [
    "## Courses Ratings distribution\n",
    "\n",
    "Task 3: make a plot to show the distribution of courses ratings by sns.kdeplot"
   ]
  },
  {
   "cell_type": "code",
   "execution_count": 3,
   "id": "187f7773",
   "metadata": {
    "execution": {
     "iopub.execute_input": "2021-09-18T14:41:48.654552Z",
     "iopub.status.busy": "2021-09-18T14:41:48.653903Z",
     "iopub.status.idle": "2021-09-18T14:41:49.015981Z",
     "shell.execute_reply": "2021-09-18T14:41:49.016471Z",
     "shell.execute_reply.started": "2021-09-18T14:40:21.404353Z"
    },
    "papermill": {
     "duration": 0.406205,
     "end_time": "2021-09-18T14:41:49.016646",
     "exception": false,
     "start_time": "2021-09-18T14:41:48.610441",
     "status": "completed"
    },
    "tags": []
   },
   "outputs": [
    {
     "data": {
      "text/plain": [
       "<AxesSubplot:xlabel='course_rating', ylabel='Density'>"
      ]
     },
     "execution_count": 3,
     "metadata": {},
     "output_type": "execute_result"
    },
    {
     "data": {
      "image/png": "[encoded data removed]",
      "text/plain": [
       "<Figure size 1080x720 with 1 Axes>"
      ]
     },
     "metadata": {
      "needs_background": "light"
     },
     "output_type": "display_data"
    }
   ],
   "source": [
    "plt.figure(figsize=(15,10))\n",
    "sns.kdeplot(df['course_rating'],fill=True,color=\"#0070c0\")"
   ]
  },
  {
   "cell_type": "markdown",
   "id": "a95b50ad",
   "metadata": {
    "papermill": {
     "duration": 0.022996,
     "end_time": "2021-09-18T14:41:49.063555",
     "exception": false,
     "start_time": "2021-09-18T14:41:49.040559",
     "status": "completed"
    },
    "tags": []
   },
   "source": [
    "## Certificates type proportion\n",
    "Task 4:show the proportion of the certificates types by ploting"
   ]
  },
  {
   "cell_type": "code",
   "execution_count": 4,
   "id": "e197ca22",
   "metadata": {
    "execution": {
     "iopub.execute_input": "2021-09-18T14:41:49.120117Z",
     "iopub.status.busy": "2021-09-18T14:41:49.119516Z",
     "iopub.status.idle": "2021-09-18T14:41:49.181821Z",
     "shell.execute_reply": "2021-09-18T14:41:49.181160Z",
     "shell.execute_reply.started": "2021-09-18T14:40:21.845666Z"
    },
    "papermill": {
     "duration": 0.095169,
     "end_time": "2021-09-18T14:41:49.181965",
     "exception": false,
     "start_time": "2021-09-18T14:41:49.086796",
     "status": "completed"
    },
    "tags": []
   },
   "outputs": [
    {
     "data": {
      "text/html": [
       "<div>                            <div id=\"a0389bfc-bd24-452e-b3d7-35f5a7a13b2a\" class=\"plotly-graph-div\" style=\"height:525px; width:100%;\"></div>            <script type=\"text/javascript\">                require([\"plotly\"], function(Plotly) {                    window.PLOTLYENV=window.PLOTLYENV || {};                                    if (document.getElementById(\"a0389bfc-bd24-452e-b3d7-35f5a7a13b2a\")) {                    Plotly.newPlot(                        \"a0389bfc-bd24-452e-b3d7-35f5a7a13b2a\",                        [{\"domain\":{\"x\":[0.0,1.0],\"y\":[0.0,1.0]},\"hovertemplate\":\"type=%{label}<br>count=%{value}<extra></extra>\",\"labels\":[\"COURSE\",\"SPECIALIZATION\",\"PROFESSIONAL CERTIFICATE\"],\"legendgroup\":\"\",\"name\":\"\",\"showlegend\":true,\"type\":\"pie\",\"values\":[582,297,12]}],                        {\"legend\":{\"tracegroupgap\":0},\"piecolorway\":[\"#003f5c\",\"#ffa600\",\"#bc5090\"],\"template\":{\"data\":{\"bar\":[{\"error_x\":{\"color\":\"#2a3f5f\"},\"error_y\":{\"color\":\"#2a3f5f\"},\"marker\":{\"line\":{\"color\":\"#E5ECF6\",\"width\":0.5},\"pattern\":{\"fillmode\":\"overlay\",\"size\":10,\"solidity\":0.2}},\"type\":\"bar\"}],\"barpolar\":[{\"marker\":{\"line\":{\"color\":\"#E5ECF6\",\"width\":0.5},\"pattern\":{\"fillmode\":\"overlay\",\"size\":10,\"solidity\":0.2}},\"type\":\"barpolar\"}],\"carpet\":[{\"aaxis\":{\"endlinecolor\":\"#2a3f5f\",\"gridcolor\":\"white\",\"linecolor\":\"white\",\"minorgridcolor\":\"white\",\"startlinecolor\":\"#2a3f5f\"},\"baxis\":{\"endlinecolor\":\"#2a3f5f\",\"gridcolor\":\"white\",\"linecolor\":\"white\",\"minorgridcolor\":\"white\",\"startlinecolor\":\"#2a3f5f\"},\"type\":\"carpet\"}],\"choropleth\":[{\"colorbar\":{\"outlinewidth\":0,\"ticks\":\"\"},\"type\":\"choropleth\"}],\"contour\":[{\"colorbar\":{\"outlinewidth\":0,\"ticks\":\"\"},\"colorscale\":[[0.0,\"#0d0887\"],[0.1111111111111111,\"#46039f\"],[0.2222222222222222,\"#7201a8\"],[0.3333333333333333,\"#9c179e\"],[0.4444444444444444,\"#bd3786\"],[0.5555555555555556,\"#d8576b\"],[0.6666666666666666,\"#ed7953\"],[0.7777777777777778,\"#fb9f3a\"],[0.8888888888888888,\"#fdca26\"],[1.0,\"#f0f921\"]],\"type\":\"contour\"}],\"contourcarpet\":[{\"colorbar\":{\"outlinewidth\":0,\"ticks\":\"\"},\"type\":\"contourcarpet\"}],\"heatmap\":[{\"colorbar\":{\"outlinewidth\":0,\"ticks\":\"\"},\"colorscale\":[[0.0,\"#0d0887\"],[0.1111111111111111,\"#46039f\"],[0.2222222222222222,\"#7201a8\"],[0.3333333333333333,\"#9c179e\"],[0.4444444444444444,\"#bd3786\"],[0.5555555555555556,\"#d8576b\"],[0.6666666666666666,\"#ed7953\"],[0.7777777777777778,\"#fb9f3a\"],[0.8888888888888888,\"#fdca26\"],[1.0,\"#f0f921\"]],\"type\":\"heatmap\"}],\"heatmapgl\":[{\"colorbar\":{\"outlinewidth\":0,\"ticks\":\"\"},\"colorscale\":[[0.0,\"#0d0887\"],[0.1111111111111111,\"#46039f\"],[0.2222222222222222,\"#7201a8\"],[0.3333333333333333,\"#9c179e\"],[0.4444444444444444,\"#bd3786\"],[0.5555555555555556,\"#d8576b\"],[0.6666666666666666,\"#ed7953\"],[0.7777777777777778,\"#fb9f3a\"],[0.8888888888888888,\"#fdca26\"],[1.0,\"#f0f921\"]],\"type\":\"heatmapgl\"}],\"histogram\":[{\"marker\":{\"pattern\":{\"fillmode\":\"overlay\",\"size\":10,\"solidity\":0.2}},\"type\":\"histogram\"}],\"histogram2d\":[{\"colorbar\":{\"outlinewidth\":0,\"ticks\":\"\"},\"colorscale\":[[0.0,\"#0d0887\"],[0.1111111111111111,\"#46039f\"],[0.2222222222222222,\"#7201a8\"],[0.3333333333333333,\"#9c179e\"],[0.4444444444444444,\"#bd3786\"],[0.5555555555555556,\"#d8576b\"],[0.6666666666666666,\"#ed7953\"],[0.7777777777777778,\"#fb9f3a\"],[0.8888888888888888,\"#fdca26\"],[1.0,\"#f0f921\"]],\"type\":\"histogram2d\"}],\"histogram2dcontour\":[{\"colorbar\":{\"outlinewidth\":0,\"ticks\":\"\"},\"colorscale\":[[0.0,\"#0d0887\"],[0.1111111111111111,\"#46039f\"],[0.2222222222222222,\"#7201a8\"],[0.3333333333333333,\"#9c179e\"],[0.4444444444444444,\"#bd3786\"],[0.5555555555555556,\"#d8576b\"],[0.6666666666666666,\"#ed7953\"],[0.7777777777777778,\"#fb9f3a\"],[0.8888888888888888,\"#fdca26\"],[1.0,\"#f0f921\"]],\"type\":\"histogram2dcontour\"}],\"mesh3d\":[{\"colorbar\":{\"outlinewidth\":0,\"ticks\":\"\"},\"type\":\"mesh3d\"}],\"parcoords\":[{\"line\":{\"colorbar\":{\"outlinewidth\":0,\"ticks\":\"\"}},\"type\":\"parcoords\"}],\"pie\":[{\"automargin\":true,\"type\":\"pie\"}],\"scatter\":[{\"marker\":{\"colorbar\":{\"outlinewidth\":0,\"ticks\":\"\"}},\"type\":\"scatter\"}],\"scatter3d\":[{\"line\":{\"colorbar\":{\"outlinewidth\":0,\"ticks\":\"\"}},\"marker\":{\"colorbar\":{\"outlinewidth\":0,\"ticks\":\"\"}},\"type\":\"scatter3d\"}],\"scattercarpet\":[{\"marker\":{\"colorbar\":{\"outlinewidth\":0,\"ticks\":\"\"}},\"type\":\"scattercarpet\"}],\"scattergeo\":[{\"marker\":{\"colorbar\":{\"outlinewidth\":0,\"ticks\":\"\"}},\"type\":\"scattergeo\"}],\"scattergl\":[{\"marker\":{\"colorbar\":{\"outlinewidth\":0,\"ticks\":\"\"}},\"type\":\"scattergl\"}],\"scattermapbox\":[{\"marker\":{\"colorbar\":{\"outlinewidth\":0,\"ticks\":\"\"}},\"type\":\"scattermapbox\"}],\"scatterpolar\":[{\"marker\":{\"colorbar\":{\"outlinewidth\":0,\"ticks\":\"\"}},\"type\":\"scatterpolar\"}],\"scatterpolargl\":[{\"marker\":{\"colorbar\":{\"outlinewidth\":0,\"ticks\":\"\"}},\"type\":\"scatterpolargl\"}],\"scatterternary\":[{\"marker\":{\"colorbar\":{\"outlinewidth\":0,\"ticks\":\"\"}},\"type\":\"scatterternary\"}],\"surface\":[{\"colorbar\":{\"outlinewidth\":0,\"ticks\":\"\"},\"colorscale\":[[0.0,\"#0d0887\"],[0.1111111111111111,\"#46039f\"],[0.2222222222222222,\"#7201a8\"],[0.3333333333333333,\"#9c179e\"],[0.4444444444444444,\"#bd3786\"],[0.5555555555555556,\"#d8576b\"],[0.6666666666666666,\"#ed7953\"],[0.7777777777777778,\"#fb9f3a\"],[0.8888888888888888,\"#fdca26\"],[1.0,\"#f0f921\"]],\"type\":\"surface\"}],\"table\":[{\"cells\":{\"fill\":{\"color\":\"#EBF0F8\"},\"line\":{\"color\":\"white\"}},\"header\":{\"fill\":{\"color\":\"#C8D4E3\"},\"line\":{\"color\":\"white\"}},\"type\":\"table\"}]},\"layout\":{\"annotationdefaults\":{\"arrowcolor\":\"#2a3f5f\",\"arrowhead\":0,\"arrowwidth\":1},\"autotypenumbers\":\"strict\",\"coloraxis\":{\"colorbar\":{\"outlinewidth\":0,\"ticks\":\"\"}},\"colorscale\":{\"diverging\":[[0,\"#8e0152\"],[0.1,\"#c51b7d\"],[0.2,\"#de77ae\"],[0.3,\"#f1b6da\"],[0.4,\"#fde0ef\"],[0.5,\"#f7f7f7\"],[0.6,\"#e6f5d0\"],[0.7,\"#b8e186\"],[0.8,\"#7fbc41\"],[0.9,\"#4d9221\"],[1,\"#276419\"]],\"sequential\":[[0.0,\"#0d0887\"],[0.1111111111111111,\"#46039f\"],[0.2222222222222222,\"#7201a8\"],[0.3333333333333333,\"#9c179e\"],[0.4444444444444444,\"#bd3786\"],[0.5555555555555556,\"#d8576b\"],[0.6666666666666666,\"#ed7953\"],[0.7777777777777778,\"#fb9f3a\"],[0.8888888888888888,\"#fdca26\"],[1.0,\"#f0f921\"]],\"sequentialminus\":[[0.0,\"#0d0887\"],[0.1111111111111111,\"#46039f\"],[0.2222222222222222,\"#7201a8\"],[0.3333333333333333,\"#9c179e\"],[0.4444444444444444,\"#bd3786\"],[0.5555555555555556,\"#d8576b\"],[0.6666666666666666,\"#ed7953\"],[0.7777777777777778,\"#fb9f3a\"],[0.8888888888888888,\"#fdca26\"],[1.0,\"#f0f921\"]]},\"colorway\":[\"#636efa\",\"#EF553B\",\"#00cc96\",\"#ab63fa\",\"#FFA15A\",\"#19d3f3\",\"#FF6692\",\"#B6E880\",\"#FF97FF\",\"#FECB52\"],\"font\":{\"color\":\"#2a3f5f\"},\"geo\":{\"bgcolor\":\"white\",\"lakecolor\":\"white\",\"landcolor\":\"#E5ECF6\",\"showlakes\":true,\"showland\":true,\"subunitcolor\":\"white\"},\"hoverlabel\":{\"align\":\"left\"},\"hovermode\":\"closest\",\"mapbox\":{\"style\":\"light\"},\"paper_bgcolor\":\"white\",\"plot_bgcolor\":\"#E5ECF6\",\"polar\":{\"angularaxis\":{\"gridcolor\":\"white\",\"linecolor\":\"white\",\"ticks\":\"\"},\"bgcolor\":\"#E5ECF6\",\"radialaxis\":{\"gridcolor\":\"white\",\"linecolor\":\"white\",\"ticks\":\"\"}},\"scene\":{\"xaxis\":{\"backgroundcolor\":\"#E5ECF6\",\"gridcolor\":\"white\",\"gridwidth\":2,\"linecolor\":\"white\",\"showbackground\":true,\"ticks\":\"\",\"zerolinecolor\":\"white\"},\"yaxis\":{\"backgroundcolor\":\"#E5ECF6\",\"gridcolor\":\"white\",\"gridwidth\":2,\"linecolor\":\"white\",\"showbackground\":true,\"ticks\":\"\",\"zerolinecolor\":\"white\"},\"zaxis\":{\"backgroundcolor\":\"#E5ECF6\",\"gridcolor\":\"white\",\"gridwidth\":2,\"linecolor\":\"white\",\"showbackground\":true,\"ticks\":\"\",\"zerolinecolor\":\"white\"}},\"shapedefaults\":{\"line\":{\"color\":\"#2a3f5f\"}},\"ternary\":{\"aaxis\":{\"gridcolor\":\"white\",\"linecolor\":\"white\",\"ticks\":\"\"},\"baxis\":{\"gridcolor\":\"white\",\"linecolor\":\"white\",\"ticks\":\"\"},\"bgcolor\":\"#E5ECF6\",\"caxis\":{\"gridcolor\":\"white\",\"linecolor\":\"white\",\"ticks\":\"\"}},\"title\":{\"x\":0.05},\"xaxis\":{\"automargin\":true,\"gridcolor\":\"white\",\"linecolor\":\"white\",\"ticks\":\"\",\"title\":{\"standoff\":15},\"zerolinecolor\":\"white\",\"zerolinewidth\":2},\"yaxis\":{\"automargin\":true,\"gridcolor\":\"white\",\"linecolor\":\"white\",\"ticks\":\"\",\"title\":{\"standoff\":15},\"zerolinecolor\":\"white\",\"zerolinewidth\":2}}},\"title\":{\"text\":\"Proportion of certificates types\"}},                        {\"responsive\": true}                    ).then(function(){\n",
       "                            \n",
       "var gd = document.getElementById('a0389bfc-bd24-452e-b3d7-35f5a7a13b2a');\n",
       "var x = new MutationObserver(function (mutations, observer) {{\n",
       "        var display = window.getComputedStyle(gd).display;\n",
       "        if (!display || display === 'none') {{\n",
       "            console.log([gd, 'removed!']);\n",
       "            Plotly.purge(gd);\n",
       "            observer.disconnect();\n",
       "        }}\n",
       "}});\n",
       "\n",
       "// Listen for the removal of the full notebook cells\n",
       "var notebookContainer = gd.closest('#notebook-container');\n",
       "if (notebookContainer) {{\n",
       "    x.observe(notebookContainer, {childList: true});\n",
       "}}\n",
       "\n",
       "// Listen for the clearing of the current output cell\n",
       "var outputEl = gd.closest('.output');\n",
       "if (outputEl) {{\n",
       "    x.observe(outputEl, {childList: true});\n",
       "}}\n",
       "\n",
       "                        })                };                });            </script>        </div>"
      ]
     },
     "metadata": {},
     "output_type": "display_data"
    }
   ],
   "source": [
    "pie_df = df.course_Certificate_type.value_counts().reset_index()\n",
    "pie_df.columns = ['type','count']\n",
    "fig = px.pie(pie_df, values='count', names='type',title='Proportion of certificates types',\n",
    "\n",
    "             color_discrete_sequence=['#003f5c','#ffa600','#bc5090'])\n",
    "fig.show()"
   ]
  },
  {
   "cell_type": "markdown",
   "id": "3d7c21f1",
   "metadata": {
    "papermill": {
     "duration": 0.023776,
     "end_time": "2021-09-18T14:41:49.230706",
     "exception": false,
     "start_time": "2021-09-18T14:41:49.206930",
     "status": "completed"
    },
    "tags": []
   },
   "source": [
    "## Difficulties proportion\n",
    "Task 5:show the proportion of the difficulties by ploting"
   ]
  },
  {
   "cell_type": "code",
   "execution_count": 5,
   "id": "29a3f79a",
   "metadata": {
    "execution": {
     "iopub.execute_input": "2021-09-18T14:41:49.287105Z",
     "iopub.status.busy": "2021-09-18T14:41:49.284989Z",
     "iopub.status.idle": "2021-09-18T14:41:49.327101Z",
     "shell.execute_reply": "2021-09-18T14:41:49.326558Z",
     "shell.execute_reply.started": "2021-09-18T14:40:21.931709Z"
    },
    "papermill": {
     "duration": 0.073011,
     "end_time": "2021-09-18T14:41:49.327231",
     "exception": false,
     "start_time": "2021-09-18T14:41:49.254220",
     "status": "completed"
    },
    "tags": []
   },
   "outputs": [
    {
     "data": {
      "text/html": [
       "<div>                            <div id=\"1cfe591c-c456-4af9-bd61-4959e325cf77\" class=\"plotly-graph-div\" style=\"height:525px; width:100%;\"></div>            <script type=\"text/javascript\">                require([\"plotly\"], function(Plotly) {                    window.PLOTLYENV=window.PLOTLYENV || {};                                    if (document.getElementById(\"1cfe591c-c456-4af9-bd61-4959e325cf77\")) {                    Plotly.newPlot(                        \"1cfe591c-c456-4af9-bd61-4959e325cf77\",                        [{\"domain\":{\"x\":[0.0,1.0],\"y\":[0.0,1.0]},\"hovertemplate\":\"course_difficulty=%{label}<br>count=%{value}<extra></extra>\",\"labels\":[\"Beginner\",\"Intermediate\",\"Mixed\",\"Advanced\"],\"legendgroup\":\"\",\"name\":\"\",\"showlegend\":true,\"type\":\"pie\",\"values\":[487,198,187,19]}],                        {\"legend\":{\"tracegroupgap\":0},\"piecolorway\":[\"#003f5c\",\"#ffa600\",\"#bc5090\",\"#ff764a\"],\"template\":{\"data\":{\"bar\":[{\"error_x\":{\"color\":\"#2a3f5f\"},\"error_y\":{\"color\":\"#2a3f5f\"},\"marker\":{\"line\":{\"color\":\"#E5ECF6\",\"width\":0.5},\"pattern\":{\"fillmode\":\"overlay\",\"size\":10,\"solidity\":0.2}},\"type\":\"bar\"}],\"barpolar\":[{\"marker\":{\"line\":{\"color\":\"#E5ECF6\",\"width\":0.5},\"pattern\":{\"fillmode\":\"overlay\",\"size\":10,\"solidity\":0.2}},\"type\":\"barpolar\"}],\"carpet\":[{\"aaxis\":{\"endlinecolor\":\"#2a3f5f\",\"gridcolor\":\"white\",\"linecolor\":\"white\",\"minorgridcolor\":\"white\",\"startlinecolor\":\"#2a3f5f\"},\"baxis\":{\"endlinecolor\":\"#2a3f5f\",\"gridcolor\":\"white\",\"linecolor\":\"white\",\"minorgridcolor\":\"white\",\"startlinecolor\":\"#2a3f5f\"},\"type\":\"carpet\"}],\"choropleth\":[{\"colorbar\":{\"outlinewidth\":0,\"ticks\":\"\"},\"type\":\"choropleth\"}],\"contour\":[{\"colorbar\":{\"outlinewidth\":0,\"ticks\":\"\"},\"colorscale\":[[0.0,\"#0d0887\"],[0.1111111111111111,\"#46039f\"],[0.2222222222222222,\"#7201a8\"],[0.3333333333333333,\"#9c179e\"],[0.4444444444444444,\"#bd3786\"],[0.5555555555555556,\"#d8576b\"],[0.6666666666666666,\"#ed7953\"],[0.7777777777777778,\"#fb9f3a\"],[0.8888888888888888,\"#fdca26\"],[1.0,\"#f0f921\"]],\"type\":\"contour\"}],\"contourcarpet\":[{\"colorbar\":{\"outlinewidth\":0,\"ticks\":\"\"},\"type\":\"contourcarpet\"}],\"heatmap\":[{\"colorbar\":{\"outlinewidth\":0,\"ticks\":\"\"},\"colorscale\":[[0.0,\"#0d0887\"],[0.1111111111111111,\"#46039f\"],[0.2222222222222222,\"#7201a8\"],[0.3333333333333333,\"#9c179e\"],[0.4444444444444444,\"#bd3786\"],[0.5555555555555556,\"#d8576b\"],[0.6666666666666666,\"#ed7953\"],[0.7777777777777778,\"#fb9f3a\"],[0.8888888888888888,\"#fdca26\"],[1.0,\"#f0f921\"]],\"type\":\"heatmap\"}],\"heatmapgl\":[{\"colorbar\":{\"outlinewidth\":0,\"ticks\":\"\"},\"colorscale\":[[0.0,\"#0d0887\"],[0.1111111111111111,\"#46039f\"],[0.2222222222222222,\"#7201a8\"],[0.3333333333333333,\"#9c179e\"],[0.4444444444444444,\"#bd3786\"],[0.5555555555555556,\"#d8576b\"],[0.6666666666666666,\"#ed7953\"],[0.7777777777777778,\"#fb9f3a\"],[0.8888888888888888,\"#fdca26\"],[1.0,\"#f0f921\"]],\"type\":\"heatmapgl\"}],\"histogram\":[{\"marker\":{\"pattern\":{\"fillmode\":\"overlay\",\"size\":10,\"solidity\":0.2}},\"type\":\"histogram\"}],\"histogram2d\":[{\"colorbar\":{\"outlinewidth\":0,\"ticks\":\"\"},\"colorscale\":[[0.0,\"#0d0887\"],[0.1111111111111111,\"#46039f\"],[0.2222222222222222,\"#7201a8\"],[0.3333333333333333,\"#9c179e\"],[0.4444444444444444,\"#bd3786\"],[0.5555555555555556,\"#d8576b\"],[0.6666666666666666,\"#ed7953\"],[0.7777777777777778,\"#fb9f3a\"],[0.8888888888888888,\"#fdca26\"],[1.0,\"#f0f921\"]],\"type\":\"histogram2d\"}],\"histogram2dcontour\":[{\"colorbar\":{\"outlinewidth\":0,\"ticks\":\"\"},\"colorscale\":[[0.0,\"#0d0887\"],[0.1111111111111111,\"#46039f\"],[0.2222222222222222,\"#7201a8\"],[0.3333333333333333,\"#9c179e\"],[0.4444444444444444,\"#bd3786\"],[0.5555555555555556,\"#d8576b\"],[0.6666666666666666,\"#ed7953\"],[0.7777777777777778,\"#fb9f3a\"],[0.8888888888888888,\"#fdca26\"],[1.0,\"#f0f921\"]],\"type\":\"histogram2dcontour\"}],\"mesh3d\":[{\"colorbar\":{\"outlinewidth\":0,\"ticks\":\"\"},\"type\":\"mesh3d\"}],\"parcoords\":[{\"line\":{\"colorbar\":{\"outlinewidth\":0,\"ticks\":\"\"}},\"type\":\"parcoords\"}],\"pie\":[{\"automargin\":true,\"type\":\"pie\"}],\"scatter\":[{\"marker\":{\"colorbar\":{\"outlinewidth\":0,\"ticks\":\"\"}},\"type\":\"scatter\"}],\"scatter3d\":[{\"line\":{\"colorbar\":{\"outlinewidth\":0,\"ticks\":\"\"}},\"marker\":{\"colorbar\":{\"outlinewidth\":0,\"ticks\":\"\"}},\"type\":\"scatter3d\"}],\"scattercarpet\":[{\"marker\":{\"colorbar\":{\"outlinewidth\":0,\"ticks\":\"\"}},\"type\":\"scattercarpet\"}],\"scattergeo\":[{\"marker\":{\"colorbar\":{\"outlinewidth\":0,\"ticks\":\"\"}},\"type\":\"scattergeo\"}],\"scattergl\":[{\"marker\":{\"colorbar\":{\"outlinewidth\":0,\"ticks\":\"\"}},\"type\":\"scattergl\"}],\"scattermapbox\":[{\"marker\":{\"colorbar\":{\"outlinewidth\":0,\"ticks\":\"\"}},\"type\":\"scattermapbox\"}],\"scatterpolar\":[{\"marker\":{\"colorbar\":{\"outlinewidth\":0,\"ticks\":\"\"}},\"type\":\"scatterpolar\"}],\"scatterpolargl\":[{\"marker\":{\"colorbar\":{\"outlinewidth\":0,\"ticks\":\"\"}},\"type\":\"scatterpolargl\"}],\"scatterternary\":[{\"marker\":{\"colorbar\":{\"outlinewidth\":0,\"ticks\":\"\"}},\"type\":\"scatterternary\"}],\"surface\":[{\"colorbar\":{\"outlinewidth\":0,\"ticks\":\"\"},\"colorscale\":[[0.0,\"#0d0887\"],[0.1111111111111111,\"#46039f\"],[0.2222222222222222,\"#7201a8\"],[0.3333333333333333,\"#9c179e\"],[0.4444444444444444,\"#bd3786\"],[0.5555555555555556,\"#d8576b\"],[0.6666666666666666,\"#ed7953\"],[0.7777777777777778,\"#fb9f3a\"],[0.8888888888888888,\"#fdca26\"],[1.0,\"#f0f921\"]],\"type\":\"surface\"}],\"table\":[{\"cells\":{\"fill\":{\"color\":\"#EBF0F8\"},\"line\":{\"color\":\"white\"}},\"header\":{\"fill\":{\"color\":\"#C8D4E3\"},\"line\":{\"color\":\"white\"}},\"type\":\"table\"}]},\"layout\":{\"annotationdefaults\":{\"arrowcolor\":\"#2a3f5f\",\"arrowhead\":0,\"arrowwidth\":1},\"autotypenumbers\":\"strict\",\"coloraxis\":{\"colorbar\":{\"outlinewidth\":0,\"ticks\":\"\"}},\"colorscale\":{\"diverging\":[[0,\"#8e0152\"],[0.1,\"#c51b7d\"],[0.2,\"#de77ae\"],[0.3,\"#f1b6da\"],[0.4,\"#fde0ef\"],[0.5,\"#f7f7f7\"],[0.6,\"#e6f5d0\"],[0.7,\"#b8e186\"],[0.8,\"#7fbc41\"],[0.9,\"#4d9221\"],[1,\"#276419\"]],\"sequential\":[[0.0,\"#0d0887\"],[0.1111111111111111,\"#46039f\"],[0.2222222222222222,\"#7201a8\"],[0.3333333333333333,\"#9c179e\"],[0.4444444444444444,\"#bd3786\"],[0.5555555555555556,\"#d8576b\"],[0.6666666666666666,\"#ed7953\"],[0.7777777777777778,\"#fb9f3a\"],[0.8888888888888888,\"#fdca26\"],[1.0,\"#f0f921\"]],\"sequentialminus\":[[0.0,\"#0d0887\"],[0.1111111111111111,\"#46039f\"],[0.2222222222222222,\"#7201a8\"],[0.3333333333333333,\"#9c179e\"],[0.4444444444444444,\"#bd3786\"],[0.5555555555555556,\"#d8576b\"],[0.6666666666666666,\"#ed7953\"],[0.7777777777777778,\"#fb9f3a\"],[0.8888888888888888,\"#fdca26\"],[1.0,\"#f0f921\"]]},\"colorway\":[\"#636efa\",\"#EF553B\",\"#00cc96\",\"#ab63fa\",\"#FFA15A\",\"#19d3f3\",\"#FF6692\",\"#B6E880\",\"#FF97FF\",\"#FECB52\"],\"font\":{\"color\":\"#2a3f5f\"},\"geo\":{\"bgcolor\":\"white\",\"lakecolor\":\"white\",\"landcolor\":\"#E5ECF6\",\"showlakes\":true,\"showland\":true,\"subunitcolor\":\"white\"},\"hoverlabel\":{\"align\":\"left\"},\"hovermode\":\"closest\",\"mapbox\":{\"style\":\"light\"},\"paper_bgcolor\":\"white\",\"plot_bgcolor\":\"#E5ECF6\",\"polar\":{\"angularaxis\":{\"gridcolor\":\"white\",\"linecolor\":\"white\",\"ticks\":\"\"},\"bgcolor\":\"#E5ECF6\",\"radialaxis\":{\"gridcolor\":\"white\",\"linecolor\":\"white\",\"ticks\":\"\"}},\"scene\":{\"xaxis\":{\"backgroundcolor\":\"#E5ECF6\",\"gridcolor\":\"white\",\"gridwidth\":2,\"linecolor\":\"white\",\"showbackground\":true,\"ticks\":\"\",\"zerolinecolor\":\"white\"},\"yaxis\":{\"backgroundcolor\":\"#E5ECF6\",\"gridcolor\":\"white\",\"gridwidth\":2,\"linecolor\":\"white\",\"showbackground\":true,\"ticks\":\"\",\"zerolinecolor\":\"white\"},\"zaxis\":{\"backgroundcolor\":\"#E5ECF6\",\"gridcolor\":\"white\",\"gridwidth\":2,\"linecolor\":\"white\",\"showbackground\":true,\"ticks\":\"\",\"zerolinecolor\":\"white\"}},\"shapedefaults\":{\"line\":{\"color\":\"#2a3f5f\"}},\"ternary\":{\"aaxis\":{\"gridcolor\":\"white\",\"linecolor\":\"white\",\"ticks\":\"\"},\"baxis\":{\"gridcolor\":\"white\",\"linecolor\":\"white\",\"ticks\":\"\"},\"bgcolor\":\"#E5ECF6\",\"caxis\":{\"gridcolor\":\"white\",\"linecolor\":\"white\",\"ticks\":\"\"}},\"title\":{\"x\":0.05},\"xaxis\":{\"automargin\":true,\"gridcolor\":\"white\",\"linecolor\":\"white\",\"ticks\":\"\",\"title\":{\"standoff\":15},\"zerolinecolor\":\"white\",\"zerolinewidth\":2},\"yaxis\":{\"automargin\":true,\"gridcolor\":\"white\",\"linecolor\":\"white\",\"ticks\":\"\",\"title\":{\"standoff\":15},\"zerolinecolor\":\"white\",\"zerolinewidth\":2}}},\"title\":{\"text\":\"Proportion of courses difficulties\"}},                        {\"responsive\": true}                    ).then(function(){\n",
       "                            \n",
       "var gd = document.getElementById('1cfe591c-c456-4af9-bd61-4959e325cf77');\n",
       "var x = new MutationObserver(function (mutations, observer) {{\n",
       "        var display = window.getComputedStyle(gd).display;\n",
       "        if (!display || display === 'none') {{\n",
       "            console.log([gd, 'removed!']);\n",
       "            Plotly.purge(gd);\n",
       "            observer.disconnect();\n",
       "        }}\n",
       "}});\n",
       "\n",
       "// Listen for the removal of the full notebook cells\n",
       "var notebookContainer = gd.closest('#notebook-container');\n",
       "if (notebookContainer) {{\n",
       "    x.observe(notebookContainer, {childList: true});\n",
       "}}\n",
       "\n",
       "// Listen for the clearing of the current output cell\n",
       "var outputEl = gd.closest('.output');\n",
       "if (outputEl) {{\n",
       "    x.observe(outputEl, {childList: true});\n",
       "}}\n",
       "\n",
       "                        })                };                });            </script>        </div>"
      ]
     },
     "metadata": {},
     "output_type": "display_data"
    }
   ],
   "source": [
    "pie_df = df.course_difficulty.value_counts().reset_index()\n",
    "pie_df.columns = ['course_difficulty','count']\n",
    "fig = px.pie(pie_df, values='count', names='course_difficulty', title='Proportion of courses difficulties',\n",
    "             color_discrete_sequence=['#003f5c','#ffa600','#bc5090','#ff764a'])\n",
    "fig.show()"
   ]
  },
  {
   "cell_type": "markdown",
   "id": "8c0c9f0b",
   "metadata": {
    "papermill": {
     "duration": 0.023879,
     "end_time": "2021-09-18T14:41:49.375027",
     "exception": false,
     "start_time": "2021-09-18T14:41:49.351148",
     "status": "completed"
    },
    "tags": []
   },
   "source": [
    "## what is the Language of the course\n",
    "Task 6: make a new coloumn for the language of the course by detecting the title language using langdetect "
   ]
  },
  {
   "cell_type": "code",
   "execution_count": 6,
   "id": "1de2ecd0",
   "metadata": {
    "execution": {
     "iopub.execute_input": "2021-09-18T14:41:49.434539Z",
     "iopub.status.busy": "2021-09-18T14:41:49.433888Z",
     "iopub.status.idle": "2021-09-18T14:41:56.965300Z",
     "shell.execute_reply": "2021-09-18T14:41:56.964814Z",
     "shell.execute_reply.started": "2021-09-18T14:40:21.992018Z"
    },
    "papermill": {
     "duration": 7.566326,
     "end_time": "2021-09-18T14:41:56.965447",
     "exception": false,
     "start_time": "2021-09-18T14:41:49.399121",
     "status": "completed"
    },
    "tags": []
   },
   "outputs": [
    {
     "data": {
      "text/plain": [
       "en    726\n",
       "es     48\n",
       "fr     15\n",
       "de     15\n",
       "ru     14\n",
       "it     14\n",
       "nl     11\n",
       "da      7\n",
       "ca      7\n",
       "pt      6\n",
       "no      6\n",
       "tl      5\n",
       "af      4\n",
       "ro      4\n",
       "id      4\n",
       "cy      1\n",
       "bg      1\n",
       "lt      1\n",
       "hu      1\n",
       "sq      1\n",
       "Name: Language, dtype: int64"
      ]
     },
     "execution_count": 6,
     "metadata": {},
     "output_type": "execute_result"
    }
   ],
   "source": [
    "df['Language'] = df['course_title'].apply(lambda x: langdetect.detect(x))\n",
    "df['Language'].value_counts()"
   ]
  },
  {
   "cell_type": "markdown",
   "id": "62ee9661",
   "metadata": {
    "papermill": {
     "duration": 0.023951,
     "end_time": "2021-09-18T14:41:57.013850",
     "exception": false,
     "start_time": "2021-09-18T14:41:56.989899",
     "status": "completed"
    },
    "tags": []
   },
   "source": [
    "## changing k and m to real numbers\n",
    "In the course_students_enrolled coloumn the number are written in this form 3k , 1m how can we change it to real numbers\n",
    "<p>Task 7: replace k by 000 and m by 000000 "
   ]
  },
  {
   "cell_type": "code",
   "execution_count": 7,
   "id": "d2e3ebc6",
   "metadata": {
    "execution": {
     "iopub.execute_input": "2021-09-18T14:41:57.077064Z",
     "iopub.status.busy": "2021-09-18T14:41:57.076442Z",
     "iopub.status.idle": "2021-09-18T14:41:57.079323Z",
     "shell.execute_reply": "2021-09-18T14:41:57.078871Z",
     "shell.execute_reply.started": "2021-09-18T14:40:34.332064Z"
    },
    "papermill": {
     "duration": 0.039705,
     "end_time": "2021-09-18T14:41:57.079471",
     "exception": false,
     "start_time": "2021-09-18T14:41:57.039766",
     "status": "completed"
    },
    "tags": []
   },
   "outputs": [],
   "source": [
    "df['course_students_enrolled']=df['course_students_enrolled'].str.replace('k', '*1000')\n",
    "df['course_students_enrolled']=df['course_students_enrolled'].str.replace('m', '*1000000')\n",
    "df['course_students_enrolled'] = df['course_students_enrolled'].map(lambda x: eval(x))"
   ]
  },
  {
   "cell_type": "code",
   "execution_count": 8,
   "id": "c5462c0f",
   "metadata": {
    "execution": {
     "iopub.execute_input": "2021-09-18T14:41:57.144244Z",
     "iopub.status.busy": "2021-09-18T14:41:57.143217Z",
     "iopub.status.idle": "2021-09-18T14:41:57.147707Z",
     "shell.execute_reply": "2021-09-18T14:41:57.147205Z",
     "shell.execute_reply.started": "2021-09-18T14:40:34.347752Z"
    },
    "papermill": {
     "duration": 0.044095,
     "end_time": "2021-09-18T14:41:57.147843",
     "exception": false,
     "start_time": "2021-09-18T14:41:57.103748",
     "status": "completed"
    },
    "tags": []
   },
   "outputs": [
    {
     "data": {
      "text/html": [
       "<div>\n",
       "<style scoped>\n",
       "    .dataframe tbody tr th:only-of-type {\n",
       "        vertical-align: middle;\n",
       "    }\n",
       "\n",
       "    .dataframe tbody tr th {\n",
       "        vertical-align: top;\n",
       "    }\n",
       "\n",
       "    .dataframe thead th {\n",
       "        text-align: right;\n",
       "    }\n",
       "</style>\n",
       "<table border=\"1\" class=\"dataframe\">\n",
       "  <thead>\n",
       "    <tr style=\"text-align: right;\">\n",
       "      <th></th>\n",
       "      <th>course_title</th>\n",
       "      <th>course_organization</th>\n",
       "      <th>course_Certificate_type</th>\n",
       "      <th>course_rating</th>\n",
       "      <th>course_difficulty</th>\n",
       "      <th>course_students_enrolled</th>\n",
       "      <th>Language</th>\n",
       "    </tr>\n",
       "  </thead>\n",
       "  <tbody>\n",
       "    <tr>\n",
       "      <th>0</th>\n",
       "      <td>(ISC)² Systems Security Certified Practitioner...</td>\n",
       "      <td>(ISC)²</td>\n",
       "      <td>SPECIALIZATION</td>\n",
       "      <td>4.7</td>\n",
       "      <td>Beginner</td>\n",
       "      <td>5300.0</td>\n",
       "      <td>en</td>\n",
       "    </tr>\n",
       "    <tr>\n",
       "      <th>1</th>\n",
       "      <td>A Crash Course in Causality:  Inferring Causal...</td>\n",
       "      <td>University of Pennsylvania</td>\n",
       "      <td>COURSE</td>\n",
       "      <td>4.7</td>\n",
       "      <td>Intermediate</td>\n",
       "      <td>17000.0</td>\n",
       "      <td>en</td>\n",
       "    </tr>\n",
       "    <tr>\n",
       "      <th>2</th>\n",
       "      <td>A Crash Course in Data Science</td>\n",
       "      <td>Johns Hopkins University</td>\n",
       "      <td>COURSE</td>\n",
       "      <td>4.5</td>\n",
       "      <td>Mixed</td>\n",
       "      <td>130000.0</td>\n",
       "      <td>en</td>\n",
       "    </tr>\n",
       "    <tr>\n",
       "      <th>3</th>\n",
       "      <td>A Law Student's Toolkit</td>\n",
       "      <td>Yale University</td>\n",
       "      <td>COURSE</td>\n",
       "      <td>4.7</td>\n",
       "      <td>Mixed</td>\n",
       "      <td>91000.0</td>\n",
       "      <td>en</td>\n",
       "    </tr>\n",
       "    <tr>\n",
       "      <th>4</th>\n",
       "      <td>A Life of Happiness and Fulfillment</td>\n",
       "      <td>Indian School of Business</td>\n",
       "      <td>COURSE</td>\n",
       "      <td>4.8</td>\n",
       "      <td>Mixed</td>\n",
       "      <td>320000.0</td>\n",
       "      <td>en</td>\n",
       "    </tr>\n",
       "  </tbody>\n",
       "</table>\n",
       "</div>"
      ],
      "text/plain": [
       "                                        course_title  \\\n",
       "0  (ISC)² Systems Security Certified Practitioner...   \n",
       "1  A Crash Course in Causality:  Inferring Causal...   \n",
       "2                     A Crash Course in Data Science   \n",
       "3                            A Law Student's Toolkit   \n",
       "4                A Life of Happiness and Fulfillment   \n",
       "\n",
       "          course_organization course_Certificate_type  course_rating  \\\n",
       "0                      (ISC)²          SPECIALIZATION            4.7   \n",
       "1  University of Pennsylvania                  COURSE            4.7   \n",
       "2    Johns Hopkins University                  COURSE            4.5   \n",
       "3             Yale University                  COURSE            4.7   \n",
       "4   Indian School of Business                  COURSE            4.8   \n",
       "\n",
       "  course_difficulty  course_students_enrolled Language  \n",
       "0          Beginner                    5300.0       en  \n",
       "1      Intermediate                   17000.0       en  \n",
       "2             Mixed                  130000.0       en  \n",
       "3             Mixed                   91000.0       en  \n",
       "4             Mixed                  320000.0       en  "
      ]
     },
     "execution_count": 8,
     "metadata": {},
     "output_type": "execute_result"
    }
   ],
   "source": [
    "df.head()"
   ]
  },
  {
   "cell_type": "markdown",
   "id": "ce5b364c",
   "metadata": {
    "papermill": {
     "duration": 0.024947,
     "end_time": "2021-09-18T14:41:57.197269",
     "exception": false,
     "start_time": "2021-09-18T14:41:57.172322",
     "status": "completed"
    },
    "tags": []
   },
   "source": [
    "## The effect of difficulty on the enrollment \n",
    "Task 8:Use groupby to group by  course_difficulty Then isolate the course_students_enrolled column and take the mean()\n",
    "and sort them and plot them"
   ]
  },
  {
   "cell_type": "code",
   "execution_count": 9,
   "id": "3cd590b0",
   "metadata": {
    "execution": {
     "iopub.execute_input": "2021-09-18T14:41:57.263238Z",
     "iopub.status.busy": "2021-09-18T14:41:57.256053Z",
     "iopub.status.idle": "2021-09-18T14:41:57.267485Z",
     "shell.execute_reply": "2021-09-18T14:41:57.266940Z",
     "shell.execute_reply.started": "2021-09-18T14:40:34.390888Z"
    },
    "papermill": {
     "duration": 0.043531,
     "end_time": "2021-09-18T14:41:57.267626",
     "exception": false,
     "start_time": "2021-09-18T14:41:57.224095",
     "status": "completed"
    },
    "tags": []
   },
   "outputs": [
    {
     "data": {
      "text/html": [
       "<div>\n",
       "<style scoped>\n",
       "    .dataframe tbody tr th:only-of-type {\n",
       "        vertical-align: middle;\n",
       "    }\n",
       "\n",
       "    .dataframe tbody tr th {\n",
       "        vertical-align: top;\n",
       "    }\n",
       "\n",
       "    .dataframe thead th {\n",
       "        text-align: right;\n",
       "    }\n",
       "</style>\n",
       "<table border=\"1\" class=\"dataframe\">\n",
       "  <thead>\n",
       "    <tr style=\"text-align: right;\">\n",
       "      <th></th>\n",
       "      <th>course_difficulty</th>\n",
       "      <th>course_students_enrolled</th>\n",
       "    </tr>\n",
       "  </thead>\n",
       "  <tbody>\n",
       "    <tr>\n",
       "      <th>3</th>\n",
       "      <td>Mixed</td>\n",
       "      <td>133633.155080</td>\n",
       "    </tr>\n",
       "    <tr>\n",
       "      <th>1</th>\n",
       "      <td>Beginner</td>\n",
       "      <td>81974.948665</td>\n",
       "    </tr>\n",
       "    <tr>\n",
       "      <th>2</th>\n",
       "      <td>Intermediate</td>\n",
       "      <td>73264.141414</td>\n",
       "    </tr>\n",
       "    <tr>\n",
       "      <th>0</th>\n",
       "      <td>Advanced</td>\n",
       "      <td>66547.368421</td>\n",
       "    </tr>\n",
       "  </tbody>\n",
       "</table>\n",
       "</div>"
      ],
      "text/plain": [
       "  course_difficulty  course_students_enrolled\n",
       "3             Mixed             133633.155080\n",
       "1          Beginner              81974.948665\n",
       "2      Intermediate              73264.141414\n",
       "0          Advanced              66547.368421"
      ]
     },
     "execution_count": 9,
     "metadata": {},
     "output_type": "execute_result"
    }
   ],
   "source": [
    "diff= df.groupby('course_difficulty',as_index=False)['course_students_enrolled'].mean()\n",
    "diff.sort_values(by='course_students_enrolled',ascending=False)"
   ]
  },
  {
   "cell_type": "code",
   "execution_count": 10,
   "id": "bc37499d",
   "metadata": {
    "execution": {
     "iopub.execute_input": "2021-09-18T14:41:57.378279Z",
     "iopub.status.busy": "2021-09-18T14:41:57.345067Z",
     "iopub.status.idle": "2021-09-18T14:41:57.383363Z",
     "shell.execute_reply": "2021-09-18T14:41:57.382859Z",
     "shell.execute_reply.started": "2021-09-18T14:40:34.414735Z"
    },
    "papermill": {
     "duration": 0.090714,
     "end_time": "2021-09-18T14:41:57.383517",
     "exception": false,
     "start_time": "2021-09-18T14:41:57.292803",
     "status": "completed"
    },
    "tags": []
   },
   "outputs": [
    {
     "data": {
      "text/html": [
       "<div>                            <div id=\"1caa6f20-2de2-4fcc-b169-fd9a7a837f6e\" class=\"plotly-graph-div\" style=\"height:525px; width:100%;\"></div>            <script type=\"text/javascript\">                require([\"plotly\"], function(Plotly) {                    window.PLOTLYENV=window.PLOTLYENV || {};                                    if (document.getElementById(\"1caa6f20-2de2-4fcc-b169-fd9a7a837f6e\")) {                    Plotly.newPlot(                        \"1caa6f20-2de2-4fcc-b169-fd9a7a837f6e\",                        [{\"alignmentgroup\":\"True\",\"hovertemplate\":\"course_difficulty=%{x}<br>course_students_enrolled=%{y}<br>text=%{text}<extra></extra>\",\"legendgroup\":\"\",\"marker\":{\"color\":\"#316394\",\"pattern\":{\"shape\":\"\"}},\"name\":\"\",\"offsetgroup\":\"\",\"orientation\":\"v\",\"showlegend\":false,\"text\":[\"66547.37\",\"81974.95\",\"73264.14\",\"133633.16\"],\"textposition\":\"auto\",\"type\":\"bar\",\"x\":[\"Advanced\",\"Beginner\",\"Intermediate\",\"Mixed\"],\"xaxis\":\"x\",\"y\":[66547.36842105263,81974.94866529774,73264.14141414141,133633.1550802139],\"yaxis\":\"y\"}],                        {\"barmode\":\"relative\",\"legend\":{\"tracegroupgap\":0},\"margin\":{\"t\":60},\"template\":{\"data\":{\"bar\":[{\"error_x\":{\"color\":\"#2a3f5f\"},\"error_y\":{\"color\":\"#2a3f5f\"},\"marker\":{\"line\":{\"color\":\"#E5ECF6\",\"width\":0.5},\"pattern\":{\"fillmode\":\"overlay\",\"size\":10,\"solidity\":0.2}},\"type\":\"bar\"}],\"barpolar\":[{\"marker\":{\"line\":{\"color\":\"#E5ECF6\",\"width\":0.5},\"pattern\":{\"fillmode\":\"overlay\",\"size\":10,\"solidity\":0.2}},\"type\":\"barpolar\"}],\"carpet\":[{\"aaxis\":{\"endlinecolor\":\"#2a3f5f\",\"gridcolor\":\"white\",\"linecolor\":\"white\",\"minorgridcolor\":\"white\",\"startlinecolor\":\"#2a3f5f\"},\"baxis\":{\"endlinecolor\":\"#2a3f5f\",\"gridcolor\":\"white\",\"linecolor\":\"white\",\"minorgridcolor\":\"white\",\"startlinecolor\":\"#2a3f5f\"},\"type\":\"carpet\"}],\"choropleth\":[{\"colorbar\":{\"outlinewidth\":0,\"ticks\":\"\"},\"type\":\"choropleth\"}],\"contour\":[{\"colorbar\":{\"outlinewidth\":0,\"ticks\":\"\"},\"colorscale\":[[0.0,\"#0d0887\"],[0.1111111111111111,\"#46039f\"],[0.2222222222222222,\"#7201a8\"],[0.3333333333333333,\"#9c179e\"],[0.4444444444444444,\"#bd3786\"],[0.5555555555555556,\"#d8576b\"],[0.6666666666666666,\"#ed7953\"],[0.7777777777777778,\"#fb9f3a\"],[0.8888888888888888,\"#fdca26\"],[1.0,\"#f0f921\"]],\"type\":\"contour\"}],\"contourcarpet\":[{\"colorbar\":{\"outlinewidth\":0,\"ticks\":\"\"},\"type\":\"contourcarpet\"}],\"heatmap\":[{\"colorbar\":{\"outlinewidth\":0,\"ticks\":\"\"},\"colorscale\":[[0.0,\"#0d0887\"],[0.1111111111111111,\"#46039f\"],[0.2222222222222222,\"#7201a8\"],[0.3333333333333333,\"#9c179e\"],[0.4444444444444444,\"#bd3786\"],[0.5555555555555556,\"#d8576b\"],[0.6666666666666666,\"#ed7953\"],[0.7777777777777778,\"#fb9f3a\"],[0.8888888888888888,\"#fdca26\"],[1.0,\"#f0f921\"]],\"type\":\"heatmap\"}],\"heatmapgl\":[{\"colorbar\":{\"outlinewidth\":0,\"ticks\":\"\"},\"colorscale\":[[0.0,\"#0d0887\"],[0.1111111111111111,\"#46039f\"],[0.2222222222222222,\"#7201a8\"],[0.3333333333333333,\"#9c179e\"],[0.4444444444444444,\"#bd3786\"],[0.5555555555555556,\"#d8576b\"],[0.6666666666666666,\"#ed7953\"],[0.7777777777777778,\"#fb9f3a\"],[0.8888888888888888,\"#fdca26\"],[1.0,\"#f0f921\"]],\"type\":\"heatmapgl\"}],\"histogram\":[{\"marker\":{\"pattern\":{\"fillmode\":\"overlay\",\"size\":10,\"solidity\":0.2}},\"type\":\"histogram\"}],\"histogram2d\":[{\"colorbar\":{\"outlinewidth\":0,\"ticks\":\"\"},\"colorscale\":[[0.0,\"#0d0887\"],[0.1111111111111111,\"#46039f\"],[0.2222222222222222,\"#7201a8\"],[0.3333333333333333,\"#9c179e\"],[0.4444444444444444,\"#bd3786\"],[0.5555555555555556,\"#d8576b\"],[0.6666666666666666,\"#ed7953\"],[0.7777777777777778,\"#fb9f3a\"],[0.8888888888888888,\"#fdca26\"],[1.0,\"#f0f921\"]],\"type\":\"histogram2d\"}],\"histogram2dcontour\":[{\"colorbar\":{\"outlinewidth\":0,\"ticks\":\"\"},\"colorscale\":[[0.0,\"#0d0887\"],[0.1111111111111111,\"#46039f\"],[0.2222222222222222,\"#7201a8\"],[0.3333333333333333,\"#9c179e\"],[0.4444444444444444,\"#bd3786\"],[0.5555555555555556,\"#d8576b\"],[0.6666666666666666,\"#ed7953\"],[0.7777777777777778,\"#fb9f3a\"],[0.8888888888888888,\"#fdca26\"],[1.0,\"#f0f921\"]],\"type\":\"histogram2dcontour\"}],\"mesh3d\":[{\"colorbar\":{\"outlinewidth\":0,\"ticks\":\"\"},\"type\":\"mesh3d\"}],\"parcoords\":[{\"line\":{\"colorbar\":{\"outlinewidth\":0,\"ticks\":\"\"}},\"type\":\"parcoords\"}],\"pie\":[{\"automargin\":true,\"type\":\"pie\"}],\"scatter\":[{\"marker\":{\"colorbar\":{\"outlinewidth\":0,\"ticks\":\"\"}},\"type\":\"scatter\"}],\"scatter3d\":[{\"line\":{\"colorbar\":{\"outlinewidth\":0,\"ticks\":\"\"}},\"marker\":{\"colorbar\":{\"outlinewidth\":0,\"ticks\":\"\"}},\"type\":\"scatter3d\"}],\"scattercarpet\":[{\"marker\":{\"colorbar\":{\"outlinewidth\":0,\"ticks\":\"\"}},\"type\":\"scattercarpet\"}],\"scattergeo\":[{\"marker\":{\"colorbar\":{\"outlinewidth\":0,\"ticks\":\"\"}},\"type\":\"scattergeo\"}],\"scattergl\":[{\"marker\":{\"colorbar\":{\"outlinewidth\":0,\"ticks\":\"\"}},\"type\":\"scattergl\"}],\"scattermapbox\":[{\"marker\":{\"colorbar\":{\"outlinewidth\":0,\"ticks\":\"\"}},\"type\":\"scattermapbox\"}],\"scatterpolar\":[{\"marker\":{\"colorbar\":{\"outlinewidth\":0,\"ticks\":\"\"}},\"type\":\"scatterpolar\"}],\"scatterpolargl\":[{\"marker\":{\"colorbar\":{\"outlinewidth\":0,\"ticks\":\"\"}},\"type\":\"scatterpolargl\"}],\"scatterternary\":[{\"marker\":{\"colorbar\":{\"outlinewidth\":0,\"ticks\":\"\"}},\"type\":\"scatterternary\"}],\"surface\":[{\"colorbar\":{\"outlinewidth\":0,\"ticks\":\"\"},\"colorscale\":[[0.0,\"#0d0887\"],[0.1111111111111111,\"#46039f\"],[0.2222222222222222,\"#7201a8\"],[0.3333333333333333,\"#9c179e\"],[0.4444444444444444,\"#bd3786\"],[0.5555555555555556,\"#d8576b\"],[0.6666666666666666,\"#ed7953\"],[0.7777777777777778,\"#fb9f3a\"],[0.8888888888888888,\"#fdca26\"],[1.0,\"#f0f921\"]],\"type\":\"surface\"}],\"table\":[{\"cells\":{\"fill\":{\"color\":\"#EBF0F8\"},\"line\":{\"color\":\"white\"}},\"header\":{\"fill\":{\"color\":\"#C8D4E3\"},\"line\":{\"color\":\"white\"}},\"type\":\"table\"}]},\"layout\":{\"annotationdefaults\":{\"arrowcolor\":\"#2a3f5f\",\"arrowhead\":0,\"arrowwidth\":1},\"autotypenumbers\":\"strict\",\"coloraxis\":{\"colorbar\":{\"outlinewidth\":0,\"ticks\":\"\"}},\"colorscale\":{\"diverging\":[[0,\"#8e0152\"],[0.1,\"#c51b7d\"],[0.2,\"#de77ae\"],[0.3,\"#f1b6da\"],[0.4,\"#fde0ef\"],[0.5,\"#f7f7f7\"],[0.6,\"#e6f5d0\"],[0.7,\"#b8e186\"],[0.8,\"#7fbc41\"],[0.9,\"#4d9221\"],[1,\"#276419\"]],\"sequential\":[[0.0,\"#0d0887\"],[0.1111111111111111,\"#46039f\"],[0.2222222222222222,\"#7201a8\"],[0.3333333333333333,\"#9c179e\"],[0.4444444444444444,\"#bd3786\"],[0.5555555555555556,\"#d8576b\"],[0.6666666666666666,\"#ed7953\"],[0.7777777777777778,\"#fb9f3a\"],[0.8888888888888888,\"#fdca26\"],[1.0,\"#f0f921\"]],\"sequentialminus\":[[0.0,\"#0d0887\"],[0.1111111111111111,\"#46039f\"],[0.2222222222222222,\"#7201a8\"],[0.3333333333333333,\"#9c179e\"],[0.4444444444444444,\"#bd3786\"],[0.5555555555555556,\"#d8576b\"],[0.6666666666666666,\"#ed7953\"],[0.7777777777777778,\"#fb9f3a\"],[0.8888888888888888,\"#fdca26\"],[1.0,\"#f0f921\"]]},\"colorway\":[\"#636efa\",\"#EF553B\",\"#00cc96\",\"#ab63fa\",\"#FFA15A\",\"#19d3f3\",\"#FF6692\",\"#B6E880\",\"#FF97FF\",\"#FECB52\"],\"font\":{\"color\":\"#2a3f5f\"},\"geo\":{\"bgcolor\":\"white\",\"lakecolor\":\"white\",\"landcolor\":\"#E5ECF6\",\"showlakes\":true,\"showland\":true,\"subunitcolor\":\"white\"},\"hoverlabel\":{\"align\":\"left\"},\"hovermode\":\"closest\",\"mapbox\":{\"style\":\"light\"},\"paper_bgcolor\":\"white\",\"plot_bgcolor\":\"#E5ECF6\",\"polar\":{\"angularaxis\":{\"gridcolor\":\"white\",\"linecolor\":\"white\",\"ticks\":\"\"},\"bgcolor\":\"#E5ECF6\",\"radialaxis\":{\"gridcolor\":\"white\",\"linecolor\":\"white\",\"ticks\":\"\"}},\"scene\":{\"xaxis\":{\"backgroundcolor\":\"#E5ECF6\",\"gridcolor\":\"white\",\"gridwidth\":2,\"linecolor\":\"white\",\"showbackground\":true,\"ticks\":\"\",\"zerolinecolor\":\"white\"},\"yaxis\":{\"backgroundcolor\":\"#E5ECF6\",\"gridcolor\":\"white\",\"gridwidth\":2,\"linecolor\":\"white\",\"showbackground\":true,\"ticks\":\"\",\"zerolinecolor\":\"white\"},\"zaxis\":{\"backgroundcolor\":\"#E5ECF6\",\"gridcolor\":\"white\",\"gridwidth\":2,\"linecolor\":\"white\",\"showbackground\":true,\"ticks\":\"\",\"zerolinecolor\":\"white\"}},\"shapedefaults\":{\"line\":{\"color\":\"#2a3f5f\"}},\"ternary\":{\"aaxis\":{\"gridcolor\":\"white\",\"linecolor\":\"white\",\"ticks\":\"\"},\"baxis\":{\"gridcolor\":\"white\",\"linecolor\":\"white\",\"ticks\":\"\"},\"bgcolor\":\"#E5ECF6\",\"caxis\":{\"gridcolor\":\"white\",\"linecolor\":\"white\",\"ticks\":\"\"}},\"title\":{\"x\":0.05},\"xaxis\":{\"automargin\":true,\"gridcolor\":\"white\",\"linecolor\":\"white\",\"ticks\":\"\",\"title\":{\"standoff\":15},\"zerolinecolor\":\"white\",\"zerolinewidth\":2},\"yaxis\":{\"automargin\":true,\"gridcolor\":\"white\",\"linecolor\":\"white\",\"ticks\":\"\",\"title\":{\"standoff\":15},\"zerolinecolor\":\"white\",\"zerolinewidth\":2}}},\"xaxis\":{\"anchor\":\"y\",\"domain\":[0.0,1.0],\"title\":{\"text\":\"course_difficulty\"}},\"yaxis\":{\"anchor\":\"x\",\"domain\":[0.0,1.0],\"title\":{\"text\":\"course_students_enrolled\"}}},                        {\"responsive\": true}                    ).then(function(){\n",
       "                            \n",
       "var gd = document.getElementById('1caa6f20-2de2-4fcc-b169-fd9a7a837f6e');\n",
       "var x = new MutationObserver(function (mutations, observer) {{\n",
       "        var display = window.getComputedStyle(gd).display;\n",
       "        if (!display || display === 'none') {{\n",
       "            console.log([gd, 'removed!']);\n",
       "            Plotly.purge(gd);\n",
       "            observer.disconnect();\n",
       "        }}\n",
       "}});\n",
       "\n",
       "// Listen for the removal of the full notebook cells\n",
       "var notebookContainer = gd.closest('#notebook-container');\n",
       "if (notebookContainer) {{\n",
       "    x.observe(notebookContainer, {childList: true});\n",
       "}}\n",
       "\n",
       "// Listen for the clearing of the current output cell\n",
       "var outputEl = gd.closest('.output');\n",
       "if (outputEl) {{\n",
       "    x.observe(outputEl, {childList: true});\n",
       "}}\n",
       "\n",
       "                        })                };                });            </script>        </div>"
      ]
     },
     "metadata": {},
     "output_type": "display_data"
    }
   ],
   "source": [
    "fig = px.bar(diff,y='course_students_enrolled',x='course_difficulty',color_discrete_sequence=['#316394'],text=round(diff[\"course_students_enrolled\"],2))\n",
    "fig.show()"
   ]
  },
  {
   "cell_type": "markdown",
   "id": "6f5ecdc3",
   "metadata": {
    "papermill": {
     "duration": 0.025403,
     "end_time": "2021-09-18T14:41:57.435477",
     "exception": false,
     "start_time": "2021-09-18T14:41:57.410074",
     "status": "completed"
    },
    "tags": []
   },
   "source": [
    "## The effect of Certificate type on the enrollment \n",
    "Task 9:Use groupby to group by course_Certificate_type  Then isolate the course_students_enrolled column and take the mean()\n",
    "and sort them and plot them"
   ]
  },
  {
   "cell_type": "code",
   "execution_count": 11,
   "id": "a4de7a95",
   "metadata": {
    "execution": {
     "iopub.execute_input": "2021-09-18T14:41:57.500672Z",
     "iopub.status.busy": "2021-09-18T14:41:57.499840Z",
     "iopub.status.idle": "2021-09-18T14:41:57.504294Z",
     "shell.execute_reply": "2021-09-18T14:41:57.503734Z",
     "shell.execute_reply.started": "2021-09-18T14:40:34.489373Z"
    },
    "papermill": {
     "duration": 0.043558,
     "end_time": "2021-09-18T14:41:57.504435",
     "exception": false,
     "start_time": "2021-09-18T14:41:57.460877",
     "status": "completed"
    },
    "tags": []
   },
   "outputs": [
    {
     "data": {
      "text/html": [
       "<div>\n",
       "<style scoped>\n",
       "    .dataframe tbody tr th:only-of-type {\n",
       "        vertical-align: middle;\n",
       "    }\n",
       "\n",
       "    .dataframe tbody tr th {\n",
       "        vertical-align: top;\n",
       "    }\n",
       "\n",
       "    .dataframe thead th {\n",
       "        text-align: right;\n",
       "    }\n",
       "</style>\n",
       "<table border=\"1\" class=\"dataframe\">\n",
       "  <thead>\n",
       "    <tr style=\"text-align: right;\">\n",
       "      <th></th>\n",
       "      <th>course_Certificate_type</th>\n",
       "      <th>course_students_enrolled</th>\n",
       "    </tr>\n",
       "  </thead>\n",
       "  <tbody>\n",
       "    <tr>\n",
       "      <th>1</th>\n",
       "      <td>PROFESSIONAL CERTIFICATE</td>\n",
       "      <td>190700.000000</td>\n",
       "    </tr>\n",
       "    <tr>\n",
       "      <th>2</th>\n",
       "      <td>SPECIALIZATION</td>\n",
       "      <td>91791.919192</td>\n",
       "    </tr>\n",
       "    <tr>\n",
       "      <th>0</th>\n",
       "      <td>COURSE</td>\n",
       "      <td>87854.467354</td>\n",
       "    </tr>\n",
       "  </tbody>\n",
       "</table>\n",
       "</div>"
      ],
      "text/plain": [
       "    course_Certificate_type  course_students_enrolled\n",
       "1  PROFESSIONAL CERTIFICATE             190700.000000\n",
       "2            SPECIALIZATION              91791.919192\n",
       "0                    COURSE              87854.467354"
      ]
     },
     "execution_count": 11,
     "metadata": {},
     "output_type": "execute_result"
    }
   ],
   "source": [
    "certy= df.groupby('course_Certificate_type',as_index=False)['course_students_enrolled'].mean()\n",
    "certy.sort_values(by='course_students_enrolled',ascending=False)"
   ]
  },
  {
   "cell_type": "code",
   "execution_count": 12,
   "id": "aa806b53",
   "metadata": {
    "execution": {
     "iopub.execute_input": "2021-09-18T14:41:57.615380Z",
     "iopub.status.busy": "2021-09-18T14:41:57.594437Z",
     "iopub.status.idle": "2021-09-18T14:41:57.622381Z",
     "shell.execute_reply": "2021-09-18T14:41:57.621880Z",
     "shell.execute_reply.started": "2021-09-18T14:40:34.515403Z"
    },
    "papermill": {
     "duration": 0.092091,
     "end_time": "2021-09-18T14:41:57.622536",
     "exception": false,
     "start_time": "2021-09-18T14:41:57.530445",
     "status": "completed"
    },
    "tags": []
   },
   "outputs": [
    {
     "data": {
      "text/html": [
       "<div>                            <div id=\"c98f4b05-b080-4c19-929e-a70a31db4cc8\" class=\"plotly-graph-div\" style=\"height:525px; width:100%;\"></div>            <script type=\"text/javascript\">                require([\"plotly\"], function(Plotly) {                    window.PLOTLYENV=window.PLOTLYENV || {};                                    if (document.getElementById(\"c98f4b05-b080-4c19-929e-a70a31db4cc8\")) {                    Plotly.newPlot(                        \"c98f4b05-b080-4c19-929e-a70a31db4cc8\",                        [{\"alignmentgroup\":\"True\",\"hovertemplate\":\"course_Certificate_type=%{x}<br>course_students_enrolled=%{y}<br>text=%{text}<extra></extra>\",\"legendgroup\":\"\",\"marker\":{\"color\":\"#316394\",\"pattern\":{\"shape\":\"\"}},\"name\":\"\",\"offsetgroup\":\"\",\"orientation\":\"v\",\"showlegend\":false,\"text\":[\"87854.47\",\"190700.0\",\"91791.92\"],\"textposition\":\"auto\",\"type\":\"bar\",\"x\":[\"COURSE\",\"PROFESSIONAL CERTIFICATE\",\"SPECIALIZATION\"],\"xaxis\":\"x\",\"y\":[87854.46735395188,190700.0,91791.9191919192],\"yaxis\":\"y\"}],                        {\"barmode\":\"relative\",\"legend\":{\"tracegroupgap\":0},\"margin\":{\"t\":60},\"template\":{\"data\":{\"bar\":[{\"error_x\":{\"color\":\"#2a3f5f\"},\"error_y\":{\"color\":\"#2a3f5f\"},\"marker\":{\"line\":{\"color\":\"#E5ECF6\",\"width\":0.5},\"pattern\":{\"fillmode\":\"overlay\",\"size\":10,\"solidity\":0.2}},\"type\":\"bar\"}],\"barpolar\":[{\"marker\":{\"line\":{\"color\":\"#E5ECF6\",\"width\":0.5},\"pattern\":{\"fillmode\":\"overlay\",\"size\":10,\"solidity\":0.2}},\"type\":\"barpolar\"}],\"carpet\":[{\"aaxis\":{\"endlinecolor\":\"#2a3f5f\",\"gridcolor\":\"white\",\"linecolor\":\"white\",\"minorgridcolor\":\"white\",\"startlinecolor\":\"#2a3f5f\"},\"baxis\":{\"endlinecolor\":\"#2a3f5f\",\"gridcolor\":\"white\",\"linecolor\":\"white\",\"minorgridcolor\":\"white\",\"startlinecolor\":\"#2a3f5f\"},\"type\":\"carpet\"}],\"choropleth\":[{\"colorbar\":{\"outlinewidth\":0,\"ticks\":\"\"},\"type\":\"choropleth\"}],\"contour\":[{\"colorbar\":{\"outlinewidth\":0,\"ticks\":\"\"},\"colorscale\":[[0.0,\"#0d0887\"],[0.1111111111111111,\"#46039f\"],[0.2222222222222222,\"#7201a8\"],[0.3333333333333333,\"#9c179e\"],[0.4444444444444444,\"#bd3786\"],[0.5555555555555556,\"#d8576b\"],[0.6666666666666666,\"#ed7953\"],[0.7777777777777778,\"#fb9f3a\"],[0.8888888888888888,\"#fdca26\"],[1.0,\"#f0f921\"]],\"type\":\"contour\"}],\"contourcarpet\":[{\"colorbar\":{\"outlinewidth\":0,\"ticks\":\"\"},\"type\":\"contourcarpet\"}],\"heatmap\":[{\"colorbar\":{\"outlinewidth\":0,\"ticks\":\"\"},\"colorscale\":[[0.0,\"#0d0887\"],[0.1111111111111111,\"#46039f\"],[0.2222222222222222,\"#7201a8\"],[0.3333333333333333,\"#9c179e\"],[0.4444444444444444,\"#bd3786\"],[0.5555555555555556,\"#d8576b\"],[0.6666666666666666,\"#ed7953\"],[0.7777777777777778,\"#fb9f3a\"],[0.8888888888888888,\"#fdca26\"],[1.0,\"#f0f921\"]],\"type\":\"heatmap\"}],\"heatmapgl\":[{\"colorbar\":{\"outlinewidth\":0,\"ticks\":\"\"},\"colorscale\":[[0.0,\"#0d0887\"],[0.1111111111111111,\"#46039f\"],[0.2222222222222222,\"#7201a8\"],[0.3333333333333333,\"#9c179e\"],[0.4444444444444444,\"#bd3786\"],[0.5555555555555556,\"#d8576b\"],[0.6666666666666666,\"#ed7953\"],[0.7777777777777778,\"#fb9f3a\"],[0.8888888888888888,\"#fdca26\"],[1.0,\"#f0f921\"]],\"type\":\"heatmapgl\"}],\"histogram\":[{\"marker\":{\"pattern\":{\"fillmode\":\"overlay\",\"size\":10,\"solidity\":0.2}},\"type\":\"histogram\"}],\"histogram2d\":[{\"colorbar\":{\"outlinewidth\":0,\"ticks\":\"\"},\"colorscale\":[[0.0,\"#0d0887\"],[0.1111111111111111,\"#46039f\"],[0.2222222222222222,\"#7201a8\"],[0.3333333333333333,\"#9c179e\"],[0.4444444444444444,\"#bd3786\"],[0.5555555555555556,\"#d8576b\"],[0.6666666666666666,\"#ed7953\"],[0.7777777777777778,\"#fb9f3a\"],[0.8888888888888888,\"#fdca26\"],[1.0,\"#f0f921\"]],\"type\":\"histogram2d\"}],\"histogram2dcontour\":[{\"colorbar\":{\"outlinewidth\":0,\"ticks\":\"\"},\"colorscale\":[[0.0,\"#0d0887\"],[0.1111111111111111,\"#46039f\"],[0.2222222222222222,\"#7201a8\"],[0.3333333333333333,\"#9c179e\"],[0.4444444444444444,\"#bd3786\"],[0.5555555555555556,\"#d8576b\"],[0.6666666666666666,\"#ed7953\"],[0.7777777777777778,\"#fb9f3a\"],[0.8888888888888888,\"#fdca26\"],[1.0,\"#f0f921\"]],\"type\":\"histogram2dcontour\"}],\"mesh3d\":[{\"colorbar\":{\"outlinewidth\":0,\"ticks\":\"\"},\"type\":\"mesh3d\"}],\"parcoords\":[{\"line\":{\"colorbar\":{\"outlinewidth\":0,\"ticks\":\"\"}},\"type\":\"parcoords\"}],\"pie\":[{\"automargin\":true,\"type\":\"pie\"}],\"scatter\":[{\"marker\":{\"colorbar\":{\"outlinewidth\":0,\"ticks\":\"\"}},\"type\":\"scatter\"}],\"scatter3d\":[{\"line\":{\"colorbar\":{\"outlinewidth\":0,\"ticks\":\"\"}},\"marker\":{\"colorbar\":{\"outlinewidth\":0,\"ticks\":\"\"}},\"type\":\"scatter3d\"}],\"scattercarpet\":[{\"marker\":{\"colorbar\":{\"outlinewidth\":0,\"ticks\":\"\"}},\"type\":\"scattercarpet\"}],\"scattergeo\":[{\"marker\":{\"colorbar\":{\"outlinewidth\":0,\"ticks\":\"\"}},\"type\":\"scattergeo\"}],\"scattergl\":[{\"marker\":{\"colorbar\":{\"outlinewidth\":0,\"ticks\":\"\"}},\"type\":\"scattergl\"}],\"scattermapbox\":[{\"marker\":{\"colorbar\":{\"outlinewidth\":0,\"ticks\":\"\"}},\"type\":\"scattermapbox\"}],\"scatterpolar\":[{\"marker\":{\"colorbar\":{\"outlinewidth\":0,\"ticks\":\"\"}},\"type\":\"scatterpolar\"}],\"scatterpolargl\":[{\"marker\":{\"colorbar\":{\"outlinewidth\":0,\"ticks\":\"\"}},\"type\":\"scatterpolargl\"}],\"scatterternary\":[{\"marker\":{\"colorbar\":{\"outlinewidth\":0,\"ticks\":\"\"}},\"type\":\"scatterternary\"}],\"surface\":[{\"colorbar\":{\"outlinewidth\":0,\"ticks\":\"\"},\"colorscale\":[[0.0,\"#0d0887\"],[0.1111111111111111,\"#46039f\"],[0.2222222222222222,\"#7201a8\"],[0.3333333333333333,\"#9c179e\"],[0.4444444444444444,\"#bd3786\"],[0.5555555555555556,\"#d8576b\"],[0.6666666666666666,\"#ed7953\"],[0.7777777777777778,\"#fb9f3a\"],[0.8888888888888888,\"#fdca26\"],[1.0,\"#f0f921\"]],\"type\":\"surface\"}],\"table\":[{\"cells\":{\"fill\":{\"color\":\"#EBF0F8\"},\"line\":{\"color\":\"white\"}},\"header\":{\"fill\":{\"color\":\"#C8D4E3\"},\"line\":{\"color\":\"white\"}},\"type\":\"table\"}]},\"layout\":{\"annotationdefaults\":{\"arrowcolor\":\"#2a3f5f\",\"arrowhead\":0,\"arrowwidth\":1},\"autotypenumbers\":\"strict\",\"coloraxis\":{\"colorbar\":{\"outlinewidth\":0,\"ticks\":\"\"}},\"colorscale\":{\"diverging\":[[0,\"#8e0152\"],[0.1,\"#c51b7d\"],[0.2,\"#de77ae\"],[0.3,\"#f1b6da\"],[0.4,\"#fde0ef\"],[0.5,\"#f7f7f7\"],[0.6,\"#e6f5d0\"],[0.7,\"#b8e186\"],[0.8,\"#7fbc41\"],[0.9,\"#4d9221\"],[1,\"#276419\"]],\"sequential\":[[0.0,\"#0d0887\"],[0.1111111111111111,\"#46039f\"],[0.2222222222222222,\"#7201a8\"],[0.3333333333333333,\"#9c179e\"],[0.4444444444444444,\"#bd3786\"],[0.5555555555555556,\"#d8576b\"],[0.6666666666666666,\"#ed7953\"],[0.7777777777777778,\"#fb9f3a\"],[0.8888888888888888,\"#fdca26\"],[1.0,\"#f0f921\"]],\"sequentialminus\":[[0.0,\"#0d0887\"],[0.1111111111111111,\"#46039f\"],[0.2222222222222222,\"#7201a8\"],[0.3333333333333333,\"#9c179e\"],[0.4444444444444444,\"#bd3786\"],[0.5555555555555556,\"#d8576b\"],[0.6666666666666666,\"#ed7953\"],[0.7777777777777778,\"#fb9f3a\"],[0.8888888888888888,\"#fdca26\"],[1.0,\"#f0f921\"]]},\"colorway\":[\"#636efa\",\"#EF553B\",\"#00cc96\",\"#ab63fa\",\"#FFA15A\",\"#19d3f3\",\"#FF6692\",\"#B6E880\",\"#FF97FF\",\"#FECB52\"],\"font\":{\"color\":\"#2a3f5f\"},\"geo\":{\"bgcolor\":\"white\",\"lakecolor\":\"white\",\"landcolor\":\"#E5ECF6\",\"showlakes\":true,\"showland\":true,\"subunitcolor\":\"white\"},\"hoverlabel\":{\"align\":\"left\"},\"hovermode\":\"closest\",\"mapbox\":{\"style\":\"light\"},\"paper_bgcolor\":\"white\",\"plot_bgcolor\":\"#E5ECF6\",\"polar\":{\"angularaxis\":{\"gridcolor\":\"white\",\"linecolor\":\"white\",\"ticks\":\"\"},\"bgcolor\":\"#E5ECF6\",\"radialaxis\":{\"gridcolor\":\"white\",\"linecolor\":\"white\",\"ticks\":\"\"}},\"scene\":{\"xaxis\":{\"backgroundcolor\":\"#E5ECF6\",\"gridcolor\":\"white\",\"gridwidth\":2,\"linecolor\":\"white\",\"showbackground\":true,\"ticks\":\"\",\"zerolinecolor\":\"white\"},\"yaxis\":{\"backgroundcolor\":\"#E5ECF6\",\"gridcolor\":\"white\",\"gridwidth\":2,\"linecolor\":\"white\",\"showbackground\":true,\"ticks\":\"\",\"zerolinecolor\":\"white\"},\"zaxis\":{\"backgroundcolor\":\"#E5ECF6\",\"gridcolor\":\"white\",\"gridwidth\":2,\"linecolor\":\"white\",\"showbackground\":true,\"ticks\":\"\",\"zerolinecolor\":\"white\"}},\"shapedefaults\":{\"line\":{\"color\":\"#2a3f5f\"}},\"ternary\":{\"aaxis\":{\"gridcolor\":\"white\",\"linecolor\":\"white\",\"ticks\":\"\"},\"baxis\":{\"gridcolor\":\"white\",\"linecolor\":\"white\",\"ticks\":\"\"},\"bgcolor\":\"#E5ECF6\",\"caxis\":{\"gridcolor\":\"white\",\"linecolor\":\"white\",\"ticks\":\"\"}},\"title\":{\"x\":0.05},\"xaxis\":{\"automargin\":true,\"gridcolor\":\"white\",\"linecolor\":\"white\",\"ticks\":\"\",\"title\":{\"standoff\":15},\"zerolinecolor\":\"white\",\"zerolinewidth\":2},\"yaxis\":{\"automargin\":true,\"gridcolor\":\"white\",\"linecolor\":\"white\",\"ticks\":\"\",\"title\":{\"standoff\":15},\"zerolinecolor\":\"white\",\"zerolinewidth\":2}}},\"xaxis\":{\"anchor\":\"y\",\"domain\":[0.0,1.0],\"title\":{\"text\":\"course_Certificate_type\"}},\"yaxis\":{\"anchor\":\"x\",\"domain\":[0.0,1.0],\"title\":{\"text\":\"course_students_enrolled\"}}},                        {\"responsive\": true}                    ).then(function(){\n",
       "                            \n",
       "var gd = document.getElementById('c98f4b05-b080-4c19-929e-a70a31db4cc8');\n",
       "var x = new MutationObserver(function (mutations, observer) {{\n",
       "        var display = window.getComputedStyle(gd).display;\n",
       "        if (!display || display === 'none') {{\n",
       "            console.log([gd, 'removed!']);\n",
       "            Plotly.purge(gd);\n",
       "            observer.disconnect();\n",
       "        }}\n",
       "}});\n",
       "\n",
       "// Listen for the removal of the full notebook cells\n",
       "var notebookContainer = gd.closest('#notebook-container');\n",
       "if (notebookContainer) {{\n",
       "    x.observe(notebookContainer, {childList: true});\n",
       "}}\n",
       "\n",
       "// Listen for the clearing of the current output cell\n",
       "var outputEl = gd.closest('.output');\n",
       "if (outputEl) {{\n",
       "    x.observe(outputEl, {childList: true});\n",
       "}}\n",
       "\n",
       "                        })                };                });            </script>        </div>"
      ]
     },
     "metadata": {},
     "output_type": "display_data"
    }
   ],
   "source": [
    "fig = px.bar(certy,y='course_students_enrolled',x='course_Certificate_type',color_discrete_sequence=['#316394'],text=round(certy[\"course_students_enrolled\"],2))\n",
    "fig.show()"
   ]
  },
  {
   "cell_type": "markdown",
   "id": "26d8b501",
   "metadata": {
    "papermill": {
     "duration": 0.026148,
     "end_time": "2021-09-18T14:41:57.675961",
     "exception": false,
     "start_time": "2021-09-18T14:41:57.649813",
     "status": "completed"
    },
    "tags": []
   },
   "source": [
    "## Top enrolled courses\n",
    "Task 10:sort the course_title by the course_students and  plot them "
   ]
  },
  {
   "cell_type": "code",
   "execution_count": 13,
   "id": "f8d1f784",
   "metadata": {
    "execution": {
     "iopub.execute_input": "2021-09-18T14:41:57.737011Z",
     "iopub.status.busy": "2021-09-18T14:41:57.736041Z",
     "iopub.status.idle": "2021-09-18T14:41:57.747273Z",
     "shell.execute_reply": "2021-09-18T14:41:57.747868Z",
     "shell.execute_reply.started": "2021-09-18T14:40:34.593911Z"
    },
    "papermill": {
     "duration": 0.044263,
     "end_time": "2021-09-18T14:41:57.748064",
     "exception": false,
     "start_time": "2021-09-18T14:41:57.703801",
     "status": "completed"
    },
    "tags": []
   },
   "outputs": [
    {
     "data": {
      "text/html": [
       "<div>\n",
       "<style scoped>\n",
       "    .dataframe tbody tr th:only-of-type {\n",
       "        vertical-align: middle;\n",
       "    }\n",
       "\n",
       "    .dataframe tbody tr th {\n",
       "        vertical-align: top;\n",
       "    }\n",
       "\n",
       "    .dataframe thead th {\n",
       "        text-align: right;\n",
       "    }\n",
       "</style>\n",
       "<table border=\"1\" class=\"dataframe\">\n",
       "  <thead>\n",
       "    <tr style=\"text-align: right;\">\n",
       "      <th></th>\n",
       "      <th>course_title</th>\n",
       "      <th>course_students_enrolled</th>\n",
       "    </tr>\n",
       "  </thead>\n",
       "  <tbody>\n",
       "    <tr>\n",
       "      <th>564</th>\n",
       "      <td>Machine Learning</td>\n",
       "      <td>3200000.0</td>\n",
       "    </tr>\n",
       "    <tr>\n",
       "      <th>815</th>\n",
       "      <td>The Science of Well-Being</td>\n",
       "      <td>2500000.0</td>\n",
       "    </tr>\n",
       "    <tr>\n",
       "      <th>688</th>\n",
       "      <td>Python for Everybody</td>\n",
       "      <td>1500000.0</td>\n",
       "    </tr>\n",
       "    <tr>\n",
       "      <th>674</th>\n",
       "      <td>Programming for Everybody (Getting Started wit...</td>\n",
       "      <td>1300000.0</td>\n",
       "    </tr>\n",
       "    <tr>\n",
       "      <th>196</th>\n",
       "      <td>Data Science</td>\n",
       "      <td>830000.0</td>\n",
       "    </tr>\n",
       "    <tr>\n",
       "      <th>129</th>\n",
       "      <td>Career Success</td>\n",
       "      <td>790000.0</td>\n",
       "    </tr>\n",
       "    <tr>\n",
       "      <th>261</th>\n",
       "      <td>English for Career Development</td>\n",
       "      <td>760000.0</td>\n",
       "    </tr>\n",
       "    <tr>\n",
       "      <th>765</th>\n",
       "      <td>Successful Negotiation: Essential Strategies a...</td>\n",
       "      <td>750000.0</td>\n",
       "    </tr>\n",
       "    <tr>\n",
       "      <th>199</th>\n",
       "      <td>Data Science: Foundations using R</td>\n",
       "      <td>740000.0</td>\n",
       "    </tr>\n",
       "    <tr>\n",
       "      <th>211</th>\n",
       "      <td>Deep Learning</td>\n",
       "      <td>690000.0</td>\n",
       "    </tr>\n",
       "  </tbody>\n",
       "</table>\n",
       "</div>"
      ],
      "text/plain": [
       "                                          course_title  \\\n",
       "564                                   Machine Learning   \n",
       "815                          The Science of Well-Being   \n",
       "688                               Python for Everybody   \n",
       "674  Programming for Everybody (Getting Started wit...   \n",
       "196                                       Data Science   \n",
       "129                                     Career Success   \n",
       "261                     English for Career Development   \n",
       "765  Successful Negotiation: Essential Strategies a...   \n",
       "199                  Data Science: Foundations using R   \n",
       "211                                      Deep Learning   \n",
       "\n",
       "     course_students_enrolled  \n",
       "564                 3200000.0  \n",
       "815                 2500000.0  \n",
       "688                 1500000.0  \n",
       "674                 1300000.0  \n",
       "196                  830000.0  \n",
       "129                  790000.0  \n",
       "261                  760000.0  \n",
       "765                  750000.0  \n",
       "199                  740000.0  \n",
       "211                  690000.0  "
      ]
     },
     "execution_count": 13,
     "metadata": {},
     "output_type": "execute_result"
    }
   ],
   "source": [
    "x=df[['course_title','course_students_enrolled']].sort_values(by='course_students_enrolled',ascending=False).head(10)\n",
    "x"
   ]
  },
  {
   "cell_type": "code",
   "execution_count": 14,
   "id": "87e0090e",
   "metadata": {
    "execution": {
     "iopub.execute_input": "2021-09-18T14:41:57.805202Z",
     "iopub.status.busy": "2021-09-18T14:41:57.804619Z",
     "iopub.status.idle": "2021-09-18T14:41:57.860598Z",
     "shell.execute_reply": "2021-09-18T14:41:57.860013Z",
     "shell.execute_reply.started": "2021-09-18T14:40:34.611761Z"
    },
    "papermill": {
     "duration": 0.08552,
     "end_time": "2021-09-18T14:41:57.860735",
     "exception": false,
     "start_time": "2021-09-18T14:41:57.775215",
     "status": "completed"
    },
    "tags": []
   },
   "outputs": [
    {
     "data": {
      "text/html": [
       "<div>                            <div id=\"55a37c52-6397-4fa4-a481-98dc6a36ee7d\" class=\"plotly-graph-div\" style=\"height:525px; width:100%;\"></div>            <script type=\"text/javascript\">                require([\"plotly\"], function(Plotly) {                    window.PLOTLYENV=window.PLOTLYENV || {};                                    if (document.getElementById(\"55a37c52-6397-4fa4-a481-98dc6a36ee7d\")) {                    Plotly.newPlot(                        \"55a37c52-6397-4fa4-a481-98dc6a36ee7d\",                        [{\"alignmentgroup\":\"True\",\"hovertemplate\":\"course_students_enrolled=%{text}<br>course_title=%{y}<extra></extra>\",\"legendgroup\":\"\",\"marker\":{\"color\":\"#316394\",\"pattern\":{\"shape\":\"\"}},\"name\":\"\",\"offsetgroup\":\"\",\"orientation\":\"h\",\"showlegend\":false,\"text\":[\"3200000.0\",\"2500000.0\",\"1500000.0\",\"1300000.0\",\"830000.0\",\"790000.0\",\"760000.0\",\"750000.0\",\"740000.0\",\"690000.0\"],\"textposition\":\"auto\",\"type\":\"bar\",\"x\":[3200000.0,2500000.0,1500000.0,1300000.0,830000.0,790000.0,760000.0,750000.0,740000.0,690000.0],\"xaxis\":\"x\",\"y\":[\"Machine Learning\",\"The Science of Well-Being\",\"Python for Everybody\",\"Programming for Everybody (Getting Started with Python)\",\"Data Science\",\"Career Success\",\"English for Career Development\",\"Successful Negotiation: Essential Strategies and Skills\",\"Data Science: Foundations using R\",\"Deep Learning\"],\"yaxis\":\"y\"}],                        {\"barmode\":\"relative\",\"legend\":{\"tracegroupgap\":0},\"margin\":{\"t\":60},\"template\":{\"data\":{\"bar\":[{\"error_x\":{\"color\":\"#2a3f5f\"},\"error_y\":{\"color\":\"#2a3f5f\"},\"marker\":{\"line\":{\"color\":\"#E5ECF6\",\"width\":0.5},\"pattern\":{\"fillmode\":\"overlay\",\"size\":10,\"solidity\":0.2}},\"type\":\"bar\"}],\"barpolar\":[{\"marker\":{\"line\":{\"color\":\"#E5ECF6\",\"width\":0.5},\"pattern\":{\"fillmode\":\"overlay\",\"size\":10,\"solidity\":0.2}},\"type\":\"barpolar\"}],\"carpet\":[{\"aaxis\":{\"endlinecolor\":\"#2a3f5f\",\"gridcolor\":\"white\",\"linecolor\":\"white\",\"minorgridcolor\":\"white\",\"startlinecolor\":\"#2a3f5f\"},\"baxis\":{\"endlinecolor\":\"#2a3f5f\",\"gridcolor\":\"white\",\"linecolor\":\"white\",\"minorgridcolor\":\"white\",\"startlinecolor\":\"#2a3f5f\"},\"type\":\"carpet\"}],\"choropleth\":[{\"colorbar\":{\"outlinewidth\":0,\"ticks\":\"\"},\"type\":\"choropleth\"}],\"contour\":[{\"colorbar\":{\"outlinewidth\":0,\"ticks\":\"\"},\"colorscale\":[[0.0,\"#0d0887\"],[0.1111111111111111,\"#46039f\"],[0.2222222222222222,\"#7201a8\"],[0.3333333333333333,\"#9c179e\"],[0.4444444444444444,\"#bd3786\"],[0.5555555555555556,\"#d8576b\"],[0.6666666666666666,\"#ed7953\"],[0.7777777777777778,\"#fb9f3a\"],[0.8888888888888888,\"#fdca26\"],[1.0,\"#f0f921\"]],\"type\":\"contour\"}],\"contourcarpet\":[{\"colorbar\":{\"outlinewidth\":0,\"ticks\":\"\"},\"type\":\"contourcarpet\"}],\"heatmap\":[{\"colorbar\":{\"outlinewidth\":0,\"ticks\":\"\"},\"colorscale\":[[0.0,\"#0d0887\"],[0.1111111111111111,\"#46039f\"],[0.2222222222222222,\"#7201a8\"],[0.3333333333333333,\"#9c179e\"],[0.4444444444444444,\"#bd3786\"],[0.5555555555555556,\"#d8576b\"],[0.6666666666666666,\"#ed7953\"],[0.7777777777777778,\"#fb9f3a\"],[0.8888888888888888,\"#fdca26\"],[1.0,\"#f0f921\"]],\"type\":\"heatmap\"}],\"heatmapgl\":[{\"colorbar\":{\"outlinewidth\":0,\"ticks\":\"\"},\"colorscale\":[[0.0,\"#0d0887\"],[0.1111111111111111,\"#46039f\"],[0.2222222222222222,\"#7201a8\"],[0.3333333333333333,\"#9c179e\"],[0.4444444444444444,\"#bd3786\"],[0.5555555555555556,\"#d8576b\"],[0.6666666666666666,\"#ed7953\"],[0.7777777777777778,\"#fb9f3a\"],[0.8888888888888888,\"#fdca26\"],[1.0,\"#f0f921\"]],\"type\":\"heatmapgl\"}],\"histogram\":[{\"marker\":{\"pattern\":{\"fillmode\":\"overlay\",\"size\":10,\"solidity\":0.2}},\"type\":\"histogram\"}],\"histogram2d\":[{\"colorbar\":{\"outlinewidth\":0,\"ticks\":\"\"},\"colorscale\":[[0.0,\"#0d0887\"],[0.1111111111111111,\"#46039f\"],[0.2222222222222222,\"#7201a8\"],[0.3333333333333333,\"#9c179e\"],[0.4444444444444444,\"#bd3786\"],[0.5555555555555556,\"#d8576b\"],[0.6666666666666666,\"#ed7953\"],[0.7777777777777778,\"#fb9f3a\"],[0.8888888888888888,\"#fdca26\"],[1.0,\"#f0f921\"]],\"type\":\"histogram2d\"}],\"histogram2dcontour\":[{\"colorbar\":{\"outlinewidth\":0,\"ticks\":\"\"},\"colorscale\":[[0.0,\"#0d0887\"],[0.1111111111111111,\"#46039f\"],[0.2222222222222222,\"#7201a8\"],[0.3333333333333333,\"#9c179e\"],[0.4444444444444444,\"#bd3786\"],[0.5555555555555556,\"#d8576b\"],[0.6666666666666666,\"#ed7953\"],[0.7777777777777778,\"#fb9f3a\"],[0.8888888888888888,\"#fdca26\"],[1.0,\"#f0f921\"]],\"type\":\"histogram2dcontour\"}],\"mesh3d\":[{\"colorbar\":{\"outlinewidth\":0,\"ticks\":\"\"},\"type\":\"mesh3d\"}],\"parcoords\":[{\"line\":{\"colorbar\":{\"outlinewidth\":0,\"ticks\":\"\"}},\"type\":\"parcoords\"}],\"pie\":[{\"automargin\":true,\"type\":\"pie\"}],\"scatter\":[{\"marker\":{\"colorbar\":{\"outlinewidth\":0,\"ticks\":\"\"}},\"type\":\"scatter\"}],\"scatter3d\":[{\"line\":{\"colorbar\":{\"outlinewidth\":0,\"ticks\":\"\"}},\"marker\":{\"colorbar\":{\"outlinewidth\":0,\"ticks\":\"\"}},\"type\":\"scatter3d\"}],\"scattercarpet\":[{\"marker\":{\"colorbar\":{\"outlinewidth\":0,\"ticks\":\"\"}},\"type\":\"scattercarpet\"}],\"scattergeo\":[{\"marker\":{\"colorbar\":{\"outlinewidth\":0,\"ticks\":\"\"}},\"type\":\"scattergeo\"}],\"scattergl\":[{\"marker\":{\"colorbar\":{\"outlinewidth\":0,\"ticks\":\"\"}},\"type\":\"scattergl\"}],\"scattermapbox\":[{\"marker\":{\"colorbar\":{\"outlinewidth\":0,\"ticks\":\"\"}},\"type\":\"scattermapbox\"}],\"scatterpolar\":[{\"marker\":{\"colorbar\":{\"outlinewidth\":0,\"ticks\":\"\"}},\"type\":\"scatterpolar\"}],\"scatterpolargl\":[{\"marker\":{\"colorbar\":{\"outlinewidth\":0,\"ticks\":\"\"}},\"type\":\"scatterpolargl\"}],\"scatterternary\":[{\"marker\":{\"colorbar\":{\"outlinewidth\":0,\"ticks\":\"\"}},\"type\":\"scatterternary\"}],\"surface\":[{\"colorbar\":{\"outlinewidth\":0,\"ticks\":\"\"},\"colorscale\":[[0.0,\"#0d0887\"],[0.1111111111111111,\"#46039f\"],[0.2222222222222222,\"#7201a8\"],[0.3333333333333333,\"#9c179e\"],[0.4444444444444444,\"#bd3786\"],[0.5555555555555556,\"#d8576b\"],[0.6666666666666666,\"#ed7953\"],[0.7777777777777778,\"#fb9f3a\"],[0.8888888888888888,\"#fdca26\"],[1.0,\"#f0f921\"]],\"type\":\"surface\"}],\"table\":[{\"cells\":{\"fill\":{\"color\":\"#EBF0F8\"},\"line\":{\"color\":\"white\"}},\"header\":{\"fill\":{\"color\":\"#C8D4E3\"},\"line\":{\"color\":\"white\"}},\"type\":\"table\"}]},\"layout\":{\"annotationdefaults\":{\"arrowcolor\":\"#2a3f5f\",\"arrowhead\":0,\"arrowwidth\":1},\"autotypenumbers\":\"strict\",\"coloraxis\":{\"colorbar\":{\"outlinewidth\":0,\"ticks\":\"\"}},\"colorscale\":{\"diverging\":[[0,\"#8e0152\"],[0.1,\"#c51b7d\"],[0.2,\"#de77ae\"],[0.3,\"#f1b6da\"],[0.4,\"#fde0ef\"],[0.5,\"#f7f7f7\"],[0.6,\"#e6f5d0\"],[0.7,\"#b8e186\"],[0.8,\"#7fbc41\"],[0.9,\"#4d9221\"],[1,\"#276419\"]],\"sequential\":[[0.0,\"#0d0887\"],[0.1111111111111111,\"#46039f\"],[0.2222222222222222,\"#7201a8\"],[0.3333333333333333,\"#9c179e\"],[0.4444444444444444,\"#bd3786\"],[0.5555555555555556,\"#d8576b\"],[0.6666666666666666,\"#ed7953\"],[0.7777777777777778,\"#fb9f3a\"],[0.8888888888888888,\"#fdca26\"],[1.0,\"#f0f921\"]],\"sequentialminus\":[[0.0,\"#0d0887\"],[0.1111111111111111,\"#46039f\"],[0.2222222222222222,\"#7201a8\"],[0.3333333333333333,\"#9c179e\"],[0.4444444444444444,\"#bd3786\"],[0.5555555555555556,\"#d8576b\"],[0.6666666666666666,\"#ed7953\"],[0.7777777777777778,\"#fb9f3a\"],[0.8888888888888888,\"#fdca26\"],[1.0,\"#f0f921\"]]},\"colorway\":[\"#636efa\",\"#EF553B\",\"#00cc96\",\"#ab63fa\",\"#FFA15A\",\"#19d3f3\",\"#FF6692\",\"#B6E880\",\"#FF97FF\",\"#FECB52\"],\"font\":{\"color\":\"#2a3f5f\"},\"geo\":{\"bgcolor\":\"white\",\"lakecolor\":\"white\",\"landcolor\":\"#E5ECF6\",\"showlakes\":true,\"showland\":true,\"subunitcolor\":\"white\"},\"hoverlabel\":{\"align\":\"left\"},\"hovermode\":\"closest\",\"mapbox\":{\"style\":\"light\"},\"paper_bgcolor\":\"white\",\"plot_bgcolor\":\"#E5ECF6\",\"polar\":{\"angularaxis\":{\"gridcolor\":\"white\",\"linecolor\":\"white\",\"ticks\":\"\"},\"bgcolor\":\"#E5ECF6\",\"radialaxis\":{\"gridcolor\":\"white\",\"linecolor\":\"white\",\"ticks\":\"\"}},\"scene\":{\"xaxis\":{\"backgroundcolor\":\"#E5ECF6\",\"gridcolor\":\"white\",\"gridwidth\":2,\"linecolor\":\"white\",\"showbackground\":true,\"ticks\":\"\",\"zerolinecolor\":\"white\"},\"yaxis\":{\"backgroundcolor\":\"#E5ECF6\",\"gridcolor\":\"white\",\"gridwidth\":2,\"linecolor\":\"white\",\"showbackground\":true,\"ticks\":\"\",\"zerolinecolor\":\"white\"},\"zaxis\":{\"backgroundcolor\":\"#E5ECF6\",\"gridcolor\":\"white\",\"gridwidth\":2,\"linecolor\":\"white\",\"showbackground\":true,\"ticks\":\"\",\"zerolinecolor\":\"white\"}},\"shapedefaults\":{\"line\":{\"color\":\"#2a3f5f\"}},\"ternary\":{\"aaxis\":{\"gridcolor\":\"white\",\"linecolor\":\"white\",\"ticks\":\"\"},\"baxis\":{\"gridcolor\":\"white\",\"linecolor\":\"white\",\"ticks\":\"\"},\"bgcolor\":\"#E5ECF6\",\"caxis\":{\"gridcolor\":\"white\",\"linecolor\":\"white\",\"ticks\":\"\"}},\"title\":{\"x\":0.05},\"xaxis\":{\"automargin\":true,\"gridcolor\":\"white\",\"linecolor\":\"white\",\"ticks\":\"\",\"title\":{\"standoff\":15},\"zerolinecolor\":\"white\",\"zerolinewidth\":2},\"yaxis\":{\"automargin\":true,\"gridcolor\":\"white\",\"linecolor\":\"white\",\"ticks\":\"\",\"title\":{\"standoff\":15},\"zerolinecolor\":\"white\",\"zerolinewidth\":2}}},\"xaxis\":{\"anchor\":\"y\",\"domain\":[0.0,1.0],\"title\":{\"text\":\"course_students_enrolled\"}},\"yaxis\":{\"anchor\":\"x\",\"domain\":[0.0,1.0],\"title\":{\"text\":\"course_title\"}}},                        {\"responsive\": true}                    ).then(function(){\n",
       "                            \n",
       "var gd = document.getElementById('55a37c52-6397-4fa4-a481-98dc6a36ee7d');\n",
       "var x = new MutationObserver(function (mutations, observer) {{\n",
       "        var display = window.getComputedStyle(gd).display;\n",
       "        if (!display || display === 'none') {{\n",
       "            console.log([gd, 'removed!']);\n",
       "            Plotly.purge(gd);\n",
       "            observer.disconnect();\n",
       "        }}\n",
       "}});\n",
       "\n",
       "// Listen for the removal of the full notebook cells\n",
       "var notebookContainer = gd.closest('#notebook-container');\n",
       "if (notebookContainer) {{\n",
       "    x.observe(notebookContainer, {childList: true});\n",
       "}}\n",
       "\n",
       "// Listen for the clearing of the current output cell\n",
       "var outputEl = gd.closest('.output');\n",
       "if (outputEl) {{\n",
       "    x.observe(outputEl, {childList: true});\n",
       "}}\n",
       "\n",
       "                        })                };                });            </script>        </div>"
      ]
     },
     "metadata": {},
     "output_type": "display_data"
    }
   ],
   "source": [
    "fig = px.bar(x,y='course_title',x='course_students_enrolled',color_discrete_sequence=['#316394'],text=\"course_students_enrolled\")\n",
    "fig.show()"
   ]
  },
  {
   "cell_type": "markdown",
   "id": "794a89cb",
   "metadata": {
    "papermill": {
     "duration": 0.026963,
     "end_time": "2021-09-18T14:41:57.915023",
     "exception": false,
     "start_time": "2021-09-18T14:41:57.888060",
     "status": "completed"
    },
    "tags": []
   },
   "source": [
    "## 5 stars courses\n",
    "Task 11:make the same as the previous task to plot the courses with rate 5 "
   ]
  },
  {
   "cell_type": "code",
   "execution_count": 15,
   "id": "9fb665f0",
   "metadata": {
    "execution": {
     "iopub.execute_input": "2021-09-18T14:41:57.976546Z",
     "iopub.status.busy": "2021-09-18T14:41:57.975933Z",
     "iopub.status.idle": "2021-09-18T14:41:57.984700Z",
     "shell.execute_reply": "2021-09-18T14:41:57.984120Z",
     "shell.execute_reply.started": "2021-09-18T14:40:34.689171Z"
    },
    "papermill": {
     "duration": 0.04181,
     "end_time": "2021-09-18T14:41:57.984846",
     "exception": false,
     "start_time": "2021-09-18T14:41:57.943036",
     "status": "completed"
    },
    "tags": []
   },
   "outputs": [
    {
     "data": {
      "text/html": [
       "<div>\n",
       "<style scoped>\n",
       "    .dataframe tbody tr th:only-of-type {\n",
       "        vertical-align: middle;\n",
       "    }\n",
       "\n",
       "    .dataframe tbody tr th {\n",
       "        vertical-align: top;\n",
       "    }\n",
       "\n",
       "    .dataframe thead th {\n",
       "        text-align: right;\n",
       "    }\n",
       "</style>\n",
       "<table border=\"1\" class=\"dataframe\">\n",
       "  <thead>\n",
       "    <tr style=\"text-align: right;\">\n",
       "      <th></th>\n",
       "      <th>course_title</th>\n",
       "      <th>course_rating</th>\n",
       "    </tr>\n",
       "  </thead>\n",
       "  <tbody>\n",
       "    <tr>\n",
       "      <th>251</th>\n",
       "      <td>El Abogado del Futuro: Legaltech y la Transfor...</td>\n",
       "      <td>5.0</td>\n",
       "    </tr>\n",
       "    <tr>\n",
       "      <th>432</th>\n",
       "      <td>Infectious Disease Modelling</td>\n",
       "      <td>5.0</td>\n",
       "    </tr>\n",
       "  </tbody>\n",
       "</table>\n",
       "</div>"
      ],
      "text/plain": [
       "                                          course_title  course_rating\n",
       "251  El Abogado del Futuro: Legaltech y la Transfor...            5.0\n",
       "432                       Infectious Disease Modelling            5.0"
      ]
     },
     "execution_count": 15,
     "metadata": {},
     "output_type": "execute_result"
    }
   ],
   "source": [
    "yi=df[['course_title','course_rating']].sort_values(by='course_rating',ascending=False).head(2)\n",
    "yi"
   ]
  },
  {
   "cell_type": "code",
   "execution_count": 16,
   "id": "d79c02fe",
   "metadata": {
    "execution": {
     "iopub.execute_input": "2021-09-18T14:41:58.079584Z",
     "iopub.status.busy": "2021-09-18T14:41:58.074360Z",
     "iopub.status.idle": "2021-09-18T14:41:58.098478Z",
     "shell.execute_reply": "2021-09-18T14:41:58.098940Z",
     "shell.execute_reply.started": "2021-09-18T14:40:34.710083Z"
    },
    "papermill": {
     "duration": 0.085445,
     "end_time": "2021-09-18T14:41:58.099105",
     "exception": false,
     "start_time": "2021-09-18T14:41:58.013660",
     "status": "completed"
    },
    "tags": []
   },
   "outputs": [
    {
     "data": {
      "text/html": [
       "<div>                            <div id=\"833ef6ec-94c7-4a38-9d54-bd11fcd762ce\" class=\"plotly-graph-div\" style=\"height:525px; width:100%;\"></div>            <script type=\"text/javascript\">                require([\"plotly\"], function(Plotly) {                    window.PLOTLYENV=window.PLOTLYENV || {};                                    if (document.getElementById(\"833ef6ec-94c7-4a38-9d54-bd11fcd762ce\")) {                    Plotly.newPlot(                        \"833ef6ec-94c7-4a38-9d54-bd11fcd762ce\",                        [{\"alignmentgroup\":\"True\",\"hovertemplate\":\"course_rating=%{text}<br>course_title=%{y}<extra></extra>\",\"legendgroup\":\"\",\"marker\":{\"color\":\"#316394\",\"pattern\":{\"shape\":\"\"}},\"name\":\"\",\"offsetgroup\":\"\",\"orientation\":\"h\",\"showlegend\":false,\"text\":[\"5.0\",\"5.0\"],\"textposition\":\"auto\",\"type\":\"bar\",\"x\":[5.0,5.0],\"xaxis\":\"x\",\"y\":[\"El Abogado del Futuro: Legaltech y la Transformaci\\u00f3n Digital del Derecho\",\"Infectious Disease Modelling\"],\"yaxis\":\"y\"}],                        {\"barmode\":\"relative\",\"legend\":{\"tracegroupgap\":0},\"margin\":{\"t\":60},\"template\":{\"data\":{\"bar\":[{\"error_x\":{\"color\":\"#2a3f5f\"},\"error_y\":{\"color\":\"#2a3f5f\"},\"marker\":{\"line\":{\"color\":\"#E5ECF6\",\"width\":0.5},\"pattern\":{\"fillmode\":\"overlay\",\"size\":10,\"solidity\":0.2}},\"type\":\"bar\"}],\"barpolar\":[{\"marker\":{\"line\":{\"color\":\"#E5ECF6\",\"width\":0.5},\"pattern\":{\"fillmode\":\"overlay\",\"size\":10,\"solidity\":0.2}},\"type\":\"barpolar\"}],\"carpet\":[{\"aaxis\":{\"endlinecolor\":\"#2a3f5f\",\"gridcolor\":\"white\",\"linecolor\":\"white\",\"minorgridcolor\":\"white\",\"startlinecolor\":\"#2a3f5f\"},\"baxis\":{\"endlinecolor\":\"#2a3f5f\",\"gridcolor\":\"white\",\"linecolor\":\"white\",\"minorgridcolor\":\"white\",\"startlinecolor\":\"#2a3f5f\"},\"type\":\"carpet\"}],\"choropleth\":[{\"colorbar\":{\"outlinewidth\":0,\"ticks\":\"\"},\"type\":\"choropleth\"}],\"contour\":[{\"colorbar\":{\"outlinewidth\":0,\"ticks\":\"\"},\"colorscale\":[[0.0,\"#0d0887\"],[0.1111111111111111,\"#46039f\"],[0.2222222222222222,\"#7201a8\"],[0.3333333333333333,\"#9c179e\"],[0.4444444444444444,\"#bd3786\"],[0.5555555555555556,\"#d8576b\"],[0.6666666666666666,\"#ed7953\"],[0.7777777777777778,\"#fb9f3a\"],[0.8888888888888888,\"#fdca26\"],[1.0,\"#f0f921\"]],\"type\":\"contour\"}],\"contourcarpet\":[{\"colorbar\":{\"outlinewidth\":0,\"ticks\":\"\"},\"type\":\"contourcarpet\"}],\"heatmap\":[{\"colorbar\":{\"outlinewidth\":0,\"ticks\":\"\"},\"colorscale\":[[0.0,\"#0d0887\"],[0.1111111111111111,\"#46039f\"],[0.2222222222222222,\"#7201a8\"],[0.3333333333333333,\"#9c179e\"],[0.4444444444444444,\"#bd3786\"],[0.5555555555555556,\"#d8576b\"],[0.6666666666666666,\"#ed7953\"],[0.7777777777777778,\"#fb9f3a\"],[0.8888888888888888,\"#fdca26\"],[1.0,\"#f0f921\"]],\"type\":\"heatmap\"}],\"heatmapgl\":[{\"colorbar\":{\"outlinewidth\":0,\"ticks\":\"\"},\"colorscale\":[[0.0,\"#0d0887\"],[0.1111111111111111,\"#46039f\"],[0.2222222222222222,\"#7201a8\"],[0.3333333333333333,\"#9c179e\"],[0.4444444444444444,\"#bd3786\"],[0.5555555555555556,\"#d8576b\"],[0.6666666666666666,\"#ed7953\"],[0.7777777777777778,\"#fb9f3a\"],[0.8888888888888888,\"#fdca26\"],[1.0,\"#f0f921\"]],\"type\":\"heatmapgl\"}],\"histogram\":[{\"marker\":{\"pattern\":{\"fillmode\":\"overlay\",\"size\":10,\"solidity\":0.2}},\"type\":\"histogram\"}],\"histogram2d\":[{\"colorbar\":{\"outlinewidth\":0,\"ticks\":\"\"},\"colorscale\":[[0.0,\"#0d0887\"],[0.1111111111111111,\"#46039f\"],[0.2222222222222222,\"#7201a8\"],[0.3333333333333333,\"#9c179e\"],[0.4444444444444444,\"#bd3786\"],[0.5555555555555556,\"#d8576b\"],[0.6666666666666666,\"#ed7953\"],[0.7777777777777778,\"#fb9f3a\"],[0.8888888888888888,\"#fdca26\"],[1.0,\"#f0f921\"]],\"type\":\"histogram2d\"}],\"histogram2dcontour\":[{\"colorbar\":{\"outlinewidth\":0,\"ticks\":\"\"},\"colorscale\":[[0.0,\"#0d0887\"],[0.1111111111111111,\"#46039f\"],[0.2222222222222222,\"#7201a8\"],[0.3333333333333333,\"#9c179e\"],[0.4444444444444444,\"#bd3786\"],[0.5555555555555556,\"#d8576b\"],[0.6666666666666666,\"#ed7953\"],[0.7777777777777778,\"#fb9f3a\"],[0.8888888888888888,\"#fdca26\"],[1.0,\"#f0f921\"]],\"type\":\"histogram2dcontour\"}],\"mesh3d\":[{\"colorbar\":{\"outlinewidth\":0,\"ticks\":\"\"},\"type\":\"mesh3d\"}],\"parcoords\":[{\"line\":{\"colorbar\":{\"outlinewidth\":0,\"ticks\":\"\"}},\"type\":\"parcoords\"}],\"pie\":[{\"automargin\":true,\"type\":\"pie\"}],\"scatter\":[{\"marker\":{\"colorbar\":{\"outlinewidth\":0,\"ticks\":\"\"}},\"type\":\"scatter\"}],\"scatter3d\":[{\"line\":{\"colorbar\":{\"outlinewidth\":0,\"ticks\":\"\"}},\"marker\":{\"colorbar\":{\"outlinewidth\":0,\"ticks\":\"\"}},\"type\":\"scatter3d\"}],\"scattercarpet\":[{\"marker\":{\"colorbar\":{\"outlinewidth\":0,\"ticks\":\"\"}},\"type\":\"scattercarpet\"}],\"scattergeo\":[{\"marker\":{\"colorbar\":{\"outlinewidth\":0,\"ticks\":\"\"}},\"type\":\"scattergeo\"}],\"scattergl\":[{\"marker\":{\"colorbar\":{\"outlinewidth\":0,\"ticks\":\"\"}},\"type\":\"scattergl\"}],\"scattermapbox\":[{\"marker\":{\"colorbar\":{\"outlinewidth\":0,\"ticks\":\"\"}},\"type\":\"scattermapbox\"}],\"scatterpolar\":[{\"marker\":{\"colorbar\":{\"outlinewidth\":0,\"ticks\":\"\"}},\"type\":\"scatterpolar\"}],\"scatterpolargl\":[{\"marker\":{\"colorbar\":{\"outlinewidth\":0,\"ticks\":\"\"}},\"type\":\"scatterpolargl\"}],\"scatterternary\":[{\"marker\":{\"colorbar\":{\"outlinewidth\":0,\"ticks\":\"\"}},\"type\":\"scatterternary\"}],\"surface\":[{\"colorbar\":{\"outlinewidth\":0,\"ticks\":\"\"},\"colorscale\":[[0.0,\"#0d0887\"],[0.1111111111111111,\"#46039f\"],[0.2222222222222222,\"#7201a8\"],[0.3333333333333333,\"#9c179e\"],[0.4444444444444444,\"#bd3786\"],[0.5555555555555556,\"#d8576b\"],[0.6666666666666666,\"#ed7953\"],[0.7777777777777778,\"#fb9f3a\"],[0.8888888888888888,\"#fdca26\"],[1.0,\"#f0f921\"]],\"type\":\"surface\"}],\"table\":[{\"cells\":{\"fill\":{\"color\":\"#EBF0F8\"},\"line\":{\"color\":\"white\"}},\"header\":{\"fill\":{\"color\":\"#C8D4E3\"},\"line\":{\"color\":\"white\"}},\"type\":\"table\"}]},\"layout\":{\"annotationdefaults\":{\"arrowcolor\":\"#2a3f5f\",\"arrowhead\":0,\"arrowwidth\":1},\"autotypenumbers\":\"strict\",\"coloraxis\":{\"colorbar\":{\"outlinewidth\":0,\"ticks\":\"\"}},\"colorscale\":{\"diverging\":[[0,\"#8e0152\"],[0.1,\"#c51b7d\"],[0.2,\"#de77ae\"],[0.3,\"#f1b6da\"],[0.4,\"#fde0ef\"],[0.5,\"#f7f7f7\"],[0.6,\"#e6f5d0\"],[0.7,\"#b8e186\"],[0.8,\"#7fbc41\"],[0.9,\"#4d9221\"],[1,\"#276419\"]],\"sequential\":[[0.0,\"#0d0887\"],[0.1111111111111111,\"#46039f\"],[0.2222222222222222,\"#7201a8\"],[0.3333333333333333,\"#9c179e\"],[0.4444444444444444,\"#bd3786\"],[0.5555555555555556,\"#d8576b\"],[0.6666666666666666,\"#ed7953\"],[0.7777777777777778,\"#fb9f3a\"],[0.8888888888888888,\"#fdca26\"],[1.0,\"#f0f921\"]],\"sequentialminus\":[[0.0,\"#0d0887\"],[0.1111111111111111,\"#46039f\"],[0.2222222222222222,\"#7201a8\"],[0.3333333333333333,\"#9c179e\"],[0.4444444444444444,\"#bd3786\"],[0.5555555555555556,\"#d8576b\"],[0.6666666666666666,\"#ed7953\"],[0.7777777777777778,\"#fb9f3a\"],[0.8888888888888888,\"#fdca26\"],[1.0,\"#f0f921\"]]},\"colorway\":[\"#636efa\",\"#EF553B\",\"#00cc96\",\"#ab63fa\",\"#FFA15A\",\"#19d3f3\",\"#FF6692\",\"#B6E880\",\"#FF97FF\",\"#FECB52\"],\"font\":{\"color\":\"#2a3f5f\"},\"geo\":{\"bgcolor\":\"white\",\"lakecolor\":\"white\",\"landcolor\":\"#E5ECF6\",\"showlakes\":true,\"showland\":true,\"subunitcolor\":\"white\"},\"hoverlabel\":{\"align\":\"left\"},\"hovermode\":\"closest\",\"mapbox\":{\"style\":\"light\"},\"paper_bgcolor\":\"white\",\"plot_bgcolor\":\"#E5ECF6\",\"polar\":{\"angularaxis\":{\"gridcolor\":\"white\",\"linecolor\":\"white\",\"ticks\":\"\"},\"bgcolor\":\"#E5ECF6\",\"radialaxis\":{\"gridcolor\":\"white\",\"linecolor\":\"white\",\"ticks\":\"\"}},\"scene\":{\"xaxis\":{\"backgroundcolor\":\"#E5ECF6\",\"gridcolor\":\"white\",\"gridwidth\":2,\"linecolor\":\"white\",\"showbackground\":true,\"ticks\":\"\",\"zerolinecolor\":\"white\"},\"yaxis\":{\"backgroundcolor\":\"#E5ECF6\",\"gridcolor\":\"white\",\"gridwidth\":2,\"linecolor\":\"white\",\"showbackground\":true,\"ticks\":\"\",\"zerolinecolor\":\"white\"},\"zaxis\":{\"backgroundcolor\":\"#E5ECF6\",\"gridcolor\":\"white\",\"gridwidth\":2,\"linecolor\":\"white\",\"showbackground\":true,\"ticks\":\"\",\"zerolinecolor\":\"white\"}},\"shapedefaults\":{\"line\":{\"color\":\"#2a3f5f\"}},\"ternary\":{\"aaxis\":{\"gridcolor\":\"white\",\"linecolor\":\"white\",\"ticks\":\"\"},\"baxis\":{\"gridcolor\":\"white\",\"linecolor\":\"white\",\"ticks\":\"\"},\"bgcolor\":\"#E5ECF6\",\"caxis\":{\"gridcolor\":\"white\",\"linecolor\":\"white\",\"ticks\":\"\"}},\"title\":{\"x\":0.05},\"xaxis\":{\"automargin\":true,\"gridcolor\":\"white\",\"linecolor\":\"white\",\"ticks\":\"\",\"title\":{\"standoff\":15},\"zerolinecolor\":\"white\",\"zerolinewidth\":2},\"yaxis\":{\"automargin\":true,\"gridcolor\":\"white\",\"linecolor\":\"white\",\"ticks\":\"\",\"title\":{\"standoff\":15},\"zerolinecolor\":\"white\",\"zerolinewidth\":2}}},\"xaxis\":{\"anchor\":\"y\",\"domain\":[0.0,1.0],\"title\":{\"text\":\"course_rating\"}},\"yaxis\":{\"anchor\":\"x\",\"domain\":[0.0,1.0],\"title\":{\"text\":\"course_title\"}}},                        {\"responsive\": true}                    ).then(function(){\n",
       "                            \n",
       "var gd = document.getElementById('833ef6ec-94c7-4a38-9d54-bd11fcd762ce');\n",
       "var x = new MutationObserver(function (mutations, observer) {{\n",
       "        var display = window.getComputedStyle(gd).display;\n",
       "        if (!display || display === 'none') {{\n",
       "            console.log([gd, 'removed!']);\n",
       "            Plotly.purge(gd);\n",
       "            observer.disconnect();\n",
       "        }}\n",
       "}});\n",
       "\n",
       "// Listen for the removal of the full notebook cells\n",
       "var notebookContainer = gd.closest('#notebook-container');\n",
       "if (notebookContainer) {{\n",
       "    x.observe(notebookContainer, {childList: true});\n",
       "}}\n",
       "\n",
       "// Listen for the clearing of the current output cell\n",
       "var outputEl = gd.closest('.output');\n",
       "if (outputEl) {{\n",
       "    x.observe(outputEl, {childList: true});\n",
       "}}\n",
       "\n",
       "                        })                };                });            </script>        </div>"
      ]
     },
     "metadata": {},
     "output_type": "display_data"
    }
   ],
   "source": [
    "fig = px.bar(yi,y='course_title',x='course_rating',color_discrete_sequence=['#316394'],text=\"course_rating\")\n",
    "fig.show()"
   ]
  },
  {
   "cell_type": "markdown",
   "id": "ba3e8fdd",
   "metadata": {
    "papermill": {
     "duration": 0.02792,
     "end_time": "2021-09-18T14:41:58.155573",
     "exception": false,
     "start_time": "2021-09-18T14:41:58.127653",
     "status": "completed"
    },
    "tags": []
   },
   "source": [
    "## Relations between difficulty , enrollment and language\n",
    "Task 12:plot this relation by a box plot and let the color key be the language"
   ]
  },
  {
   "cell_type": "code",
   "execution_count": 17,
   "id": "bf0aeee9",
   "metadata": {
    "execution": {
     "iopub.execute_input": "2021-09-18T14:41:58.224611Z",
     "iopub.status.busy": "2021-09-18T14:41:58.223940Z",
     "iopub.status.idle": "2021-09-18T14:41:58.366047Z",
     "shell.execute_reply": "2021-09-18T14:41:58.365529Z",
     "shell.execute_reply.started": "2021-09-18T14:40:34.786122Z"
    },
    "papermill": {
     "duration": 0.181016,
     "end_time": "2021-09-18T14:41:58.366177",
     "exception": false,
     "start_time": "2021-09-18T14:41:58.185161",
     "status": "completed"
    },
    "tags": []
   },
   "outputs": [
    {
     "data": {
      "text/html": [
       "<div>                            <div id=\"7a7c336d-9b4e-4ef1-8605-13e5842c7ded\" class=\"plotly-graph-div\" style=\"height:525px; width:100%;\"></div>            <script type=\"text/javascript\">                require([\"plotly\"], function(Plotly) {                    window.PLOTLYENV=window.PLOTLYENV || {};                                    if (document.getElementById(\"7a7c336d-9b4e-4ef1-8605-13e5842c7ded\")) {                    Plotly.newPlot(                        \"7a7c336d-9b4e-4ef1-8605-13e5842c7ded\",                        [{\"alignmentgroup\":\"True\",\"hovertemplate\":\"Language=en<br>course_difficulty=%{x}<br>course_students_enrolled=%{y}<extra></extra>\",\"legendgroup\":\"en\",\"marker\":{\"color\":\"#636efa\"},\"name\":\"en\",\"notched\":false,\"offsetgroup\":\"en\",\"orientation\":\"v\",\"showlegend\":true,\"type\":\"box\",\"x\":[\"Beginner\",\"Intermediate\",\"Mixed\",\"Mixed\",\"Mixed\",\"Beginner\",\"Beginner\",\"Intermediate\",\"Beginner\",\"Intermediate\",\"Beginner\",\"Beginner\",\"Beginner\",\"Intermediate\",\"Mixed\",\"Beginner\",\"Intermediate\",\"Beginner\",\"Mixed\",\"Intermediate\",\"Beginner\",\"Beginner\",\"Intermediate\",\"Advanced\",\"Advanced\",\"Advanced\",\"Advanced\",\"Mixed\",\"Beginner\",\"Beginner\",\"Beginner\",\"Intermediate\",\"Intermediate\",\"Beginner\",\"Beginner\",\"Beginner\",\"Beginner\",\"Beginner\",\"Intermediate\",\"Beginner\",\"Mixed\",\"Mixed\",\"Advanced\",\"Intermediate\",\"Beginner\",\"Intermediate\",\"Intermediate\",\"Intermediate\",\"Intermediate\",\"Beginner\",\"Intermediate\",\"Intermediate\",\"Beginner\",\"Beginner\",\"Mixed\",\"Mixed\",\"Mixed\",\"Mixed\",\"Intermediate\",\"Intermediate\",\"Advanced\",\"Advanced\",\"Beginner\",\"Beginner\",\"Intermediate\",\"Intermediate\",\"Mixed\",\"Beginner\",\"Intermediate\",\"Beginner\",\"Beginner\",\"Mixed\",\"Mixed\",\"Beginner\",\"Beginner\",\"Beginner\",\"Intermediate\",\"Intermediate\",\"Beginner\",\"Beginner\",\"Beginner\",\"Beginner\",\"Beginner\",\"Beginner\",\"Mixed\",\"Beginner\",\"Mixed\",\"Intermediate\",\"Beginner\",\"Intermediate\",\"Intermediate\",\"Mixed\",\"Beginner\",\"Intermediate\",\"Intermediate\",\"Beginner\",\"Beginner\",\"Beginner\",\"Beginner\",\"Beginner\",\"Beginner\",\"Beginner\",\"Beginner\",\"Beginner\",\"Beginner\",\"Mixed\",\"Mixed\",\"Beginner\",\"Beginner\",\"Beginner\",\"Mixed\",\"Beginner\",\"Beginner\",\"Beginner\",\"Mixed\",\"Beginner\",\"Beginner\",\"Intermediate\",\"Beginner\",\"Intermediate\",\"Intermediate\",\"Beginner\",\"Beginner\",\"Beginner\",\"Beginner\",\"Intermediate\",\"Beginner\",\"Beginner\",\"Beginner\",\"Beginner\",\"Beginner\",\"Beginner\",\"Beginner\",\"Beginner\",\"Mixed\",\"Intermediate\",\"Intermediate\",\"Intermediate\",\"Mixed\",\"Beginner\",\"Mixed\",\"Beginner\",\"Beginner\",\"Mixed\",\"Beginner\",\"Mixed\",\"Beginner\",\"Beginner\",\"Beginner\",\"Intermediate\",\"Beginner\",\"Beginner\",\"Mixed\",\"Beginner\",\"Beginner\",\"Beginner\",\"Beginner\",\"Intermediate\",\"Intermediate\",\"Intermediate\",\"Intermediate\",\"Beginner\",\"Beginner\",\"Beginner\",\"Beginner\",\"Intermediate\",\"Mixed\",\"Beginner\",\"Intermediate\",\"Beginner\",\"Advanced\",\"Beginner\",\"Beginner\",\"Beginner\",\"Mixed\",\"Beginner\",\"Beginner\",\"Beginner\",\"Beginner\",\"Mixed\",\"Mixed\",\"Intermediate\",\"Intermediate\",\"Intermediate\",\"Intermediate\",\"Intermediate\",\"Mixed\",\"Beginner\",\"Beginner\",\"Beginner\",\"Beginner\",\"Intermediate\",\"Mixed\",\"Beginner\",\"Beginner\",\"Beginner\",\"Beginner\",\"Intermediate\",\"Mixed\",\"Mixed\",\"Intermediate\",\"Mixed\",\"Intermediate\",\"Beginner\",\"Intermediate\",\"Beginner\",\"Beginner\",\"Beginner\",\"Beginner\",\"Beginner\",\"Beginner\",\"Mixed\",\"Mixed\",\"Intermediate\",\"Beginner\",\"Beginner\",\"Intermediate\",\"Mixed\",\"Mixed\",\"Beginner\",\"Beginner\",\"Beginner\",\"Mixed\",\"Mixed\",\"Beginner\",\"Beginner\",\"Mixed\",\"Mixed\",\"Beginner\",\"Intermediate\",\"Intermediate\",\"Intermediate\",\"Mixed\",\"Beginner\",\"Beginner\",\"Intermediate\",\"Intermediate\",\"Intermediate\",\"Beginner\",\"Beginner\",\"Beginner\",\"Beginner\",\"Beginner\",\"Beginner\",\"Beginner\",\"Beginner\",\"Beginner\",\"Beginner\",\"Intermediate\",\"Beginner\",\"Beginner\",\"Mixed\",\"Beginner\",\"Beginner\",\"Beginner\",\"Mixed\",\"Beginner\",\"Beginner\",\"Beginner\",\"Mixed\",\"Beginner\",\"Beginner\",\"Mixed\",\"Beginner\",\"Beginner\",\"Intermediate\",\"Beginner\",\"Beginner\",\"Beginner\",\"Beginner\",\"Intermediate\",\"Intermediate\",\"Intermediate\",\"Intermediate\",\"Intermediate\",\"Beginner\",\"Beginner\",\"Mixed\",\"Beginner\",\"Beginner\",\"Intermediate\",\"Intermediate\",\"Beginner\",\"Beginner\",\"Mixed\",\"Intermediate\",\"Beginner\",\"Beginner\",\"Beginner\",\"Intermediate\",\"Beginner\",\"Beginner\",\"Beginner\",\"Mixed\",\"Beginner\",\"Beginner\",\"Intermediate\",\"Intermediate\",\"Intermediate\",\"Beginner\",\"Beginner\",\"Mixed\",\"Beginner\",\"Beginner\",\"Mixed\",\"Mixed\",\"Intermediate\",\"Beginner\",\"Intermediate\",\"Intermediate\",\"Beginner\",\"Mixed\",\"Beginner\",\"Mixed\",\"Beginner\",\"Mixed\",\"Mixed\",\"Intermediate\",\"Mixed\",\"Beginner\",\"Intermediate\",\"Intermediate\",\"Beginner\",\"Beginner\",\"Mixed\",\"Beginner\",\"Intermediate\",\"Mixed\",\"Beginner\",\"Beginner\",\"Advanced\",\"Beginner\",\"Beginner\",\"Beginner\",\"Beginner\",\"Beginner\",\"Beginner\",\"Beginner\",\"Beginner\",\"Beginner\",\"Beginner\",\"Beginner\",\"Intermediate\",\"Intermediate\",\"Beginner\",\"Beginner\",\"Beginner\",\"Mixed\",\"Beginner\",\"Beginner\",\"Beginner\",\"Intermediate\",\"Mixed\",\"Mixed\",\"Intermediate\",\"Beginner\",\"Intermediate\",\"Intermediate\",\"Intermediate\",\"Mixed\",\"Beginner\",\"Mixed\",\"Mixed\",\"Mixed\",\"Beginner\",\"Beginner\",\"Beginner\",\"Beginner\",\"Beginner\",\"Beginner\",\"Mixed\",\"Intermediate\",\"Mixed\",\"Beginner\",\"Mixed\",\"Beginner\",\"Mixed\",\"Intermediate\",\"Mixed\",\"Intermediate\",\"Beginner\",\"Mixed\",\"Beginner\",\"Beginner\",\"Beginner\",\"Mixed\",\"Beginner\",\"Beginner\",\"Beginner\",\"Mixed\",\"Beginner\",\"Intermediate\",\"Beginner\",\"Beginner\",\"Mixed\",\"Intermediate\",\"Mixed\",\"Mixed\",\"Mixed\",\"Mixed\",\"Mixed\",\"Mixed\",\"Mixed\",\"Mixed\",\"Beginner\",\"Beginner\",\"Mixed\",\"Mixed\",\"Intermediate\",\"Mixed\",\"Beginner\",\"Mixed\",\"Mixed\",\"Beginner\",\"Beginner\",\"Beginner\",\"Beginner\",\"Beginner\",\"Advanced\",\"Mixed\",\"Beginner\",\"Mixed\",\"Mixed\",\"Mixed\",\"Intermediate\",\"Beginner\",\"Intermediate\",\"Beginner\",\"Beginner\",\"Beginner\",\"Beginner\",\"Beginner\",\"Mixed\",\"Beginner\",\"Beginner\",\"Beginner\",\"Beginner\",\"Beginner\",\"Beginner\",\"Mixed\",\"Beginner\",\"Beginner\",\"Intermediate\",\"Intermediate\",\"Beginner\",\"Beginner\",\"Intermediate\",\"Advanced\",\"Intermediate\",\"Beginner\",\"Beginner\",\"Beginner\",\"Beginner\",\"Beginner\",\"Beginner\",\"Mixed\",\"Beginner\",\"Intermediate\",\"Mixed\",\"Mixed\",\"Intermediate\",\"Beginner\",\"Intermediate\",\"Intermediate\",\"Intermediate\",\"Intermediate\",\"Beginner\",\"Beginner\",\"Mixed\",\"Beginner\",\"Beginner\",\"Beginner\",\"Mixed\",\"Beginner\",\"Beginner\",\"Intermediate\",\"Beginner\",\"Intermediate\",\"Beginner\",\"Mixed\",\"Beginner\",\"Beginner\",\"Mixed\",\"Beginner\",\"Beginner\",\"Beginner\",\"Beginner\",\"Intermediate\",\"Beginner\",\"Beginner\",\"Beginner\",\"Mixed\",\"Beginner\",\"Beginner\",\"Mixed\",\"Beginner\",\"Intermediate\",\"Intermediate\",\"Mixed\",\"Mixed\",\"Mixed\",\"Intermediate\",\"Mixed\",\"Beginner\",\"Mixed\",\"Intermediate\",\"Beginner\",\"Intermediate\",\"Intermediate\",\"Intermediate\",\"Mixed\",\"Beginner\",\"Beginner\",\"Intermediate\",\"Intermediate\",\"Beginner\",\"Intermediate\",\"Mixed\",\"Beginner\",\"Beginner\",\"Mixed\",\"Advanced\",\"Intermediate\",\"Beginner\",\"Beginner\",\"Beginner\",\"Intermediate\",\"Mixed\",\"Beginner\",\"Mixed\",\"Intermediate\",\"Beginner\",\"Beginner\",\"Beginner\",\"Mixed\",\"Mixed\",\"Beginner\",\"Beginner\",\"Beginner\",\"Intermediate\",\"Beginner\",\"Intermediate\",\"Beginner\",\"Mixed\",\"Beginner\",\"Beginner\",\"Mixed\",\"Beginner\",\"Intermediate\",\"Beginner\",\"Mixed\",\"Intermediate\",\"Beginner\",\"Beginner\",\"Beginner\",\"Beginner\",\"Mixed\",\"Beginner\",\"Beginner\",\"Intermediate\",\"Mixed\",\"Beginner\",\"Intermediate\",\"Beginner\",\"Mixed\",\"Beginner\",\"Beginner\",\"Mixed\",\"Intermediate\",\"Beginner\",\"Beginner\",\"Mixed\",\"Mixed\",\"Beginner\",\"Mixed\",\"Beginner\",\"Beginner\",\"Beginner\",\"Beginner\",\"Beginner\",\"Beginner\",\"Intermediate\",\"Mixed\",\"Beginner\",\"Beginner\",\"Mixed\",\"Beginner\",\"Intermediate\",\"Advanced\",\"Beginner\",\"Intermediate\",\"Beginner\",\"Beginner\",\"Beginner\",\"Beginner\",\"Beginner\",\"Beginner\",\"Advanced\",\"Beginner\",\"Intermediate\",\"Mixed\",\"Beginner\",\"Beginner\",\"Beginner\",\"Advanced\",\"Beginner\",\"Mixed\",\"Intermediate\",\"Mixed\",\"Beginner\",\"Beginner\",\"Beginner\",\"Beginner\",\"Beginner\",\"Intermediate\",\"Advanced\",\"Beginner\",\"Beginner\",\"Mixed\",\"Beginner\",\"Intermediate\",\"Intermediate\",\"Beginner\",\"Beginner\",\"Mixed\",\"Beginner\",\"Beginner\",\"Intermediate\",\"Beginner\",\"Beginner\",\"Beginner\",\"Mixed\",\"Mixed\",\"Beginner\",\"Beginner\",\"Beginner\",\"Beginner\",\"Intermediate\",\"Mixed\",\"Beginner\",\"Beginner\",\"Mixed\",\"Intermediate\",\"Mixed\",\"Beginner\",\"Intermediate\",\"Intermediate\",\"Beginner\",\"Beginner\",\"Intermediate\",\"Beginner\",\"Beginner\",\"Beginner\",\"Beginner\",\"Beginner\",\"Intermediate\",\"Beginner\",\"Beginner\",\"Mixed\",\"Mixed\",\"Mixed\",\"Mixed\",\"Mixed\",\"Beginner\",\"Beginner\",\"Intermediate\",\"Mixed\",\"Mixed\",\"Beginner\",\"Mixed\",\"Intermediate\",\"Beginner\",\"Beginner\",\"Mixed\",\"Beginner\",\"Mixed\",\"Intermediate\",\"Beginner\",\"Beginner\",\"Beginner\",\"Mixed\",\"Beginner\",\"Beginner\",\"Beginner\",\"Mixed\",\"Beginner\",\"Intermediate\",\"Beginner\",\"Mixed\",\"Beginner\",\"Beginner\",\"Beginner\",\"Mixed\",\"Beginner\",\"Beginner\",\"Intermediate\",\"Beginner\",\"Beginner\",\"Intermediate\",\"Beginner\",\"Mixed\",\"Mixed\",\"Beginner\",\"Mixed\",\"Mixed\",\"Beginner\",\"Beginner\",\"Mixed\",\"Intermediate\",\"Beginner\",\"Beginner\",\"Beginner\",\"Mixed\",\"Mixed\",\"Beginner\",\"Mixed\",\"Beginner\",\"Intermediate\",\"Beginner\",\"Mixed\",\"Beginner\",\"Beginner\",\"Mixed\",\"Intermediate\",\"Intermediate\",\"Beginner\"],\"x0\":\" \",\"xaxis\":\"x\",\"y\":[5300.0,17000.0,130000.0,91000.0,320000.0,39000.0,350000.0,2400.0,61000.0,13000.0,11000.0,27000.0,110000.0,13000.0,6600.0,540000.0,22000.0,2900.0,80000.0,9900.0,110000.0,9200.0,78000.0,320000.0,190000.0,35000.0,29000.0,14000.0,21000.0,69000.0,40000.0,220000.0,14000.0,18000.0,23000.0,69000.0,270000.0,7900.0,36000.0,20000.0,8100.0,71000.0,11000.0,63000.0,220000.0,42000.0,480000.0,150000.0,97000.0,6600.0,4200.0,310000.0,3900.0,150000.0,79000.0,31000.0,15000.0,66000.0,7300.0,9200.0,22000.0,9700.0,13000.0,180000.0,91000.0,29000.0,210000.0,28000.0,4200.0,6500.0,61000.0,55000.0,2300.0,35000.0,88000.0,14000.0,1900.0,68000.0,21000.0,1600.0,31000.0,9500.0,57000.0,26000.0,84000.0,15000.0,95000.0,7300.0,22000.0,5800.0,24000.0,67000.0,280000.0,120000.0,77000.0,510000.0,110000.0,24000.0,67000.0,10000.0,48000.0,160000.0,36000.0,220000.0,32000.0,130000.0,82000.0,790000.0,31000.0,23000.0,19000.0,30000.0,22000.0,57000.0,51000.0,4800.0,32000.0,110000.0,37000.0,310000.0,37000.0,120000.0,15000.0,43000.0,6400.0,350000.0,5800.0,33000.0,27000.0,19000.0,43000.0,15000.0,27000.0,26000.0,49000.0,240000.0,46000.0,10000.0,56000.0,7800.0,10000.0,15000.0,81000.0,140000.0,140000.0,120000.0,17000.0,5500.0,18000.0,99000.0,140000.0,23000.0,23000.0,100000.0,220000.0,110000.0,24000.0,19000.0,3000.0,120000.0,120000.0,42000.0,140000.0,89000.0,740000.0,210000.0,130000.0,60000.0,66000.0,96000.0,140000.0,18000.0,120000.0,110000.0,31000.0,4500.0,8200.0,240000.0,17000.0,67000.0,97000.0,19000.0,16000.0,300000.0,4000.0,8000.0,41000.0,54000.0,9000.0,37000.0,140000.0,130000.0,150000.0,5600.0,39000.0,110000.0,7100.0,18000.0,110000.0,83000.0,16000.0,3400.0,57000.0,12000.0,110000.0,17000.0,37000.0,14000.0,23000.0,200000.0,230000.0,760000.0,130000.0,42000.0,110000.0,2400.0,7900.0,86000.0,38000.0,31000.0,20000.0,69000.0,45000.0,23000.0,6400.0,31000.0,130000.0,35000.0,14000.0,68000.0,4100.0,54000.0,31000.0,11000.0,86000.0,39000.0,76000.0,39000.0,490000.0,56000.0,54000.0,180000.0,18000.0,9700.0,13000.0,12000.0,260000.0,69000.0,12000.0,65000.0,10000.0,100000.0,470000.0,60000.0,6500.0,24000.0,36000.0,20000.0,400000.0,42000.0,14000.0,63000.0,62000.0,31000.0,64000.0,27000.0,89000.0,3200.0,26000.0,52000.0,45000.0,150000.0,140000.0,170000.0,220000.0,39000.0,200000.0,49000.0,86000.0,290000.0,20000.0,18000.0,180000.0,120000.0,110000.0,22000.0,81000.0,4900.0,9400.0,100000.0,260000.0,14000.0,97000.0,19000.0,14000.0,59000.0,73000.0,59000.0,75000.0,18000.0,22000.0,79000.0,29000.0,10000.0,37000.0,7600.0,44000.0,3800.0,120000.0,36000.0,93000.0,430000.0,10000.0,260000.0,56000.0,62000.0,240000.0,7400.0,39000.0,8100.0,5400.0,1700.0,36000.0,5500.0,46000.0,5500.0,170000.0,140000.0,34000.0,98000.0,3500.0,220000.0,3300.0,35000.0,62000.0,1700.0,2200.0,610000.0,270000.0,18000.0,79000.0,34000.0,1600.0,12000.0,22000.0,32000.0,16000.0,180000.0,10000.0,25000.0,72000.0,97000.0,85000.0,12000.0,9700.0,14000.0,8700.0,150000.0,22000.0,25000.0,22000.0,36000.0,19000.0,41000.0,26000.0,20000.0,2200.0,35000.0,11000.0,36000.0,38000.0,66000.0,60000.0,44000.0,160000.0,16000.0,27000.0,14000.0,84000.0,53000.0,46000.0,150000.0,2600.0,20000.0,32000.0,130000.0,27000.0,32000.0,30000.0,99000.0,310000.0,390000.0,25000.0,75000.0,110000.0,41000.0,150000.0,34000.0,200000.0,47000.0,79000.0,74000.0,42000.0,220000.0,54000.0,6000.0,82000.0,220000.0,270000.0,87000.0,140000.0,370000.0,11000.0,160000.0,82000.0,270000.0,270000.0,49000.0,39000.0,76000.0,12000.0,69000.0,67000.0,33000.0,150000.0,4100.0,13000.0,72000.0,87000.0,16000.0,76000.0,110000.0,270000.0,14000.0,49000.0,380000.0,160000.0,22000.0,17000.0,34000.0,16000.0,220000.0,5900.0,16000.0,43000.0,22000.0,78000.0,52000.0,120000.0,39000.0,160000.0,80000.0,180000.0,120000.0,68000.0,29000.0,14000.0,290000.0,3200000.0,240000.0,29000.0,19000.0,58000.0,15000.0,120000.0,72000.0,78000.0,43000.0,120000.0,11000.0,55000.0,23000.0,71000.0,47000.0,22000.0,49000.0,93000.0,60000.0,310000.0,280000.0,8400.0,52000.0,48000.0,12000.0,150000.0,140000.0,51000.0,33000.0,4800.0,13000.0,260000.0,34000.0,230000.0,120000.0,130000.0,14000.0,21000.0,9100.0,100000.0,40000.0,44000.0,59000.0,34000.0,70000.0,21000.0,40000.0,22000.0,17000.0,290000.0,630000.0,41000.0,12000.0,5300.0,35000.0,250000.0,330000.0,21000.0,57000.0,13000.0,76000.0,80000.0,6200.0,92000.0,22000.0,3200.0,9100.0,30000.0,42000.0,8800.0,84000.0,79000.0,160000.0,83000.0,34000.0,72000.0,180000.0,23000.0,50000.0,40000.0,67000.0,10000.0,39000.0,22000.0,68000.0,47000.0,20000.0,79000.0,36000.0,39000.0,250000.0,1300000.0,18000.0,70000.0,190000.0,440000.0,230000.0,190000.0,52000.0,110000.0,21000.0,420000.0,26000.0,41000.0,170000.0,69000.0,3000.0,7700.0,35000.0,23000.0,24000.0,7200.0,16000.0,15000.0,170000.0,36000.0,120000.0,30000.0,3200.0,2600.0,160000.0,16000.0,6800.0,12000.0,9100.0,140000.0,47000.0,14000.0,300000.0,39000.0,61000.0,15000.0,20000.0,22000.0,130000.0,78000.0,4200.0,220000.0,42000.0,60000.0,34000.0,60000.0,110000.0,17000.0,68000.0,12000.0,71000.0,430000.0,12000.0,16000.0,370000.0,17000.0,16000.0,34000.0,220000.0,28000.0,60000.0,9500.0,100000.0,58000.0,68000.0,9200.0,30000.0,11000.0,220000.0,750000.0,11000.0,7900.0,4900.0,66000.0,82000.0,24000.0,29000.0,50000.0,45000.0,9400.0,3900.0,62000.0,48000.0,33000.0,100000.0,62000.0,81000.0,8500.0,53000.0,49000.0,170000.0,12000.0,90000.0,130000.0,47000.0,23000.0,73000.0,130000.0,22000.0,84000.0,23000.0,11000.0,120000.0,420000.0,7200.0,84000.0,29000.0,47000.0,130000.0,47000.0,9400.0,180000.0,120000.0,1700.0,50000.0,12000.0,59000.0,13000.0,2500000.0,320000.0,19000.0,100000.0,26000.0,5200.0,28000.0,33000.0,14000.0,200000.0,120000.0,45000.0,110000.0,12000.0,29000.0,78000.0,89000.0,24000.0,49000.0,120000.0,30000.0,130000.0,6100.0,12000.0,9500.0,3900.0,23000.0,220000.0,310000.0,19000.0,40000.0,150000.0,37000.0,23000.0,190000.0,120000.0,280000.0,34000.0,120000.0,35000.0,6200.0,260000.0,94000.0,32000.0,17000.0,12000.0,270000.0,18000.0,140000.0,17000.0,76000.0,190000.0,69000.0],\"y0\":\" \",\"yaxis\":\"y\"},{\"alignmentgroup\":\"True\",\"hovertemplate\":\"Language=it<br>course_difficulty=%{x}<br>course_students_enrolled=%{y}<extra></extra>\",\"legendgroup\":\"it\",\"marker\":{\"color\":\"#EF553B\"},\"name\":\"it\",\"notched\":false,\"offsetgroup\":\"it\",\"orientation\":\"v\",\"showlegend\":true,\"type\":\"box\",\"x\":[\"Intermediate\",\"Intermediate\",\"Mixed\",\"Beginner\",\"Intermediate\",\"Beginner\",\"Intermediate\",\"Beginner\",\"Mixed\",\"Intermediate\",\"Beginner\",\"Beginner\",\"Beginner\",\"Beginner\"],\"x0\":\" \",\"xaxis\":\"x\",\"y\":[12000.0,4000.0,13000.0,830000.0,40000.0,17000.0,30000.0,30000.0,110000.0,80000.0,350000.0,480000.0,10000.0,38000.0],\"y0\":\" \",\"yaxis\":\"y\"},{\"alignmentgroup\":\"True\",\"hovertemplate\":\"Language=ca<br>course_difficulty=%{x}<br>course_students_enrolled=%{y}<extra></extra>\",\"legendgroup\":\"ca\",\"marker\":{\"color\":\"#00cc96\"},\"name\":\"ca\",\"notched\":false,\"offsetgroup\":\"ca\",\"orientation\":\"v\",\"showlegend\":true,\"type\":\"box\",\"x\":[\"Beginner\",\"Beginner\",\"Beginner\",\"Intermediate\",\"Beginner\",\"Advanced\",\"Beginner\"],\"x0\":\" \",\"xaxis\":\"x\",\"y\":[130000.0,240000.0,200000.0,22000.0,73000.0,68000.0,13000.0],\"y0\":\" \",\"yaxis\":\"y\"},{\"alignmentgroup\":\"True\",\"hovertemplate\":\"Language=es<br>course_difficulty=%{x}<br>course_students_enrolled=%{y}<extra></extra>\",\"legendgroup\":\"es\",\"marker\":{\"color\":\"#ab63fa\"},\"name\":\"es\",\"notched\":false,\"offsetgroup\":\"es\",\"orientation\":\"v\",\"showlegend\":true,\"type\":\"box\",\"x\":[\"Mixed\",\"Beginner\",\"Beginner\",\"Beginner\",\"Intermediate\",\"Beginner\",\"Beginner\",\"Beginner\",\"Beginner\",\"Beginner\",\"Beginner\",\"Intermediate\",\"Beginner\",\"Intermediate\",\"Intermediate\",\"Beginner\",\"Beginner\",\"Beginner\",\"Beginner\",\"Beginner\",\"Beginner\",\"Beginner\",\"Beginner\",\"Beginner\",\"Intermediate\",\"Mixed\",\"Intermediate\",\"Beginner\",\"Beginner\",\"Beginner\",\"Beginner\",\"Mixed\",\"Mixed\",\"Beginner\",\"Mixed\",\"Beginner\",\"Beginner\",\"Beginner\",\"Intermediate\",\"Advanced\",\"Mixed\",\"Beginner\",\"Beginner\",\"Mixed\",\"Intermediate\",\"Beginner\",\"Beginner\",\"Beginner\"],\"x0\":\" \",\"xaxis\":\"x\",\"y\":[23000.0,11000.0,180000.0,10000.0,33000.0,8800.0,340000.0,51000.0,43000.0,220000.0,75000.0,43000.0,150000.0,26000.0,22000.0,55000.0,44000.0,4000.0,21000.0,1500.0,1800.0,27000.0,13000.0,28000.0,12000.0,310000.0,4400.0,25000.0,150000.0,110000.0,47000.0,34000.0,47000.0,43000.0,62000.0,23000.0,140000.0,100000.0,23000.0,170000.0,95000.0,100000.0,8900.0,280000.0,14000.0,110000.0,8800.0,25000.0],\"y0\":\" \",\"yaxis\":\"y\"},{\"alignmentgroup\":\"True\",\"hovertemplate\":\"Language=nl<br>course_difficulty=%{x}<br>course_students_enrolled=%{y}<extra></extra>\",\"legendgroup\":\"nl\",\"marker\":{\"color\":\"#FFA15A\"},\"name\":\"nl\",\"notched\":false,\"offsetgroup\":\"nl\",\"orientation\":\"v\",\"showlegend\":true,\"type\":\"box\",\"x\":[\"Beginner\",\"Beginner\",\"Beginner\",\"Intermediate\",\"Mixed\",\"Beginner\",\"Beginner\",\"Beginner\",\"Intermediate\",\"Intermediate\",\"Beginner\"],\"x0\":\" \",\"xaxis\":\"x\",\"y\":[94000.0,120000.0,66000.0,690000.0,57000.0,28000.0,40000.0,99000.0,33000.0,18000.0,44000.0],\"y0\":\" \",\"yaxis\":\"y\"},{\"alignmentgroup\":\"True\",\"hovertemplate\":\"Language=ru<br>course_difficulty=%{x}<br>course_students_enrolled=%{y}<extra></extra>\",\"legendgroup\":\"ru\",\"marker\":{\"color\":\"#19d3f3\"},\"name\":\"ru\",\"notched\":false,\"offsetgroup\":\"ru\",\"orientation\":\"v\",\"showlegend\":true,\"type\":\"box\",\"x\":[\"Beginner\",\"Beginner\",\"Intermediate\",\"Beginner\",\"Beginner\",\"Intermediate\",\"Intermediate\",\"Beginner\",\"Intermediate\",\"Intermediate\",\"Intermediate\",\"Intermediate\",\"Intermediate\",\"Beginner\"],\"x0\":\" \",\"xaxis\":\"x\",\"y\":[12000.0,14000.0,68000.0,16000.0,67000.0,77000.0,19000.0,83000.0,41000.0,45000.0,52000.0,30000.0,9800.0,38000.0],\"y0\":\" \",\"yaxis\":\"y\"},{\"alignmentgroup\":\"True\",\"hovertemplate\":\"Language=sq<br>course_difficulty=%{x}<br>course_students_enrolled=%{y}<extra></extra>\",\"legendgroup\":\"sq\",\"marker\":{\"color\":\"#FF6692\"},\"name\":\"sq\",\"notched\":false,\"offsetgroup\":\"sq\",\"orientation\":\"v\",\"showlegend\":true,\"type\":\"box\",\"x\":[\"Intermediate\"],\"x0\":\" \",\"xaxis\":\"x\",\"y\":[150000.0],\"y0\":\" \",\"yaxis\":\"y\"},{\"alignmentgroup\":\"True\",\"hovertemplate\":\"Language=tl<br>course_difficulty=%{x}<br>course_students_enrolled=%{y}<extra></extra>\",\"legendgroup\":\"tl\",\"marker\":{\"color\":\"#B6E880\"},\"name\":\"tl\",\"notched\":false,\"offsetgroup\":\"tl\",\"orientation\":\"v\",\"showlegend\":true,\"type\":\"box\",\"x\":[\"Beginner\",\"Intermediate\",\"Beginner\",\"Beginner\",\"Advanced\"],\"x0\":\" \",\"xaxis\":\"x\",\"y\":[30000.0,140000.0,140000.0,27000.0,16000.0],\"y0\":\" \",\"yaxis\":\"y\"},{\"alignmentgroup\":\"True\",\"hovertemplate\":\"Language=af<br>course_difficulty=%{x}<br>course_students_enrolled=%{y}<extra></extra>\",\"legendgroup\":\"af\",\"marker\":{\"color\":\"#FF97FF\"},\"name\":\"af\",\"notched\":false,\"offsetgroup\":\"af\",\"orientation\":\"v\",\"showlegend\":true,\"type\":\"box\",\"x\":[\"Mixed\",\"Mixed\",\"Intermediate\",\"Intermediate\"],\"x0\":\" \",\"xaxis\":\"x\",\"y\":[200000.0,57000.0,89000.0,140000.0],\"y0\":\" \",\"yaxis\":\"y\"},{\"alignmentgroup\":\"True\",\"hovertemplate\":\"Language=de<br>course_difficulty=%{x}<br>course_students_enrolled=%{y}<extra></extra>\",\"legendgroup\":\"de\",\"marker\":{\"color\":\"#FECB52\"},\"name\":\"de\",\"notched\":false,\"offsetgroup\":\"de\",\"orientation\":\"v\",\"showlegend\":true,\"type\":\"box\",\"x\":[\"Mixed\",\"Mixed\",\"Intermediate\",\"Beginner\",\"Beginner\",\"Beginner\",\"Intermediate\",\"Beginner\",\"Beginner\",\"Beginner\",\"Beginner\",\"Beginner\",\"Beginner\",\"Intermediate\",\"Intermediate\"],\"x0\":\" \",\"xaxis\":\"x\",\"y\":[15000.0,56000.0,38000.0,89000.0,21000.0,58000.0,7200.0,310000.0,42000.0,19000.0,280000.0,68000.0,25000.0,11000.0,43000.0],\"y0\":\" \",\"yaxis\":\"y\"},{\"alignmentgroup\":\"True\",\"hovertemplate\":\"Language=da<br>course_difficulty=%{x}<br>course_students_enrolled=%{y}<extra></extra>\",\"legendgroup\":\"da\",\"marker\":{\"color\":\"#636efa\"},\"name\":\"da\",\"notched\":false,\"offsetgroup\":\"da\",\"orientation\":\"v\",\"showlegend\":true,\"type\":\"box\",\"x\":[\"Beginner\",\"Mixed\",\"Mixed\",\"Intermediate\",\"Intermediate\",\"Beginner\",\"Beginner\"],\"x0\":\" \",\"xaxis\":\"x\",\"y\":[31000.0,58000.0,36000.0,480000.0,29000.0,370000.0,68000.0],\"y0\":\" \",\"yaxis\":\"y\"},{\"alignmentgroup\":\"True\",\"hovertemplate\":\"Language=fr<br>course_difficulty=%{x}<br>course_students_enrolled=%{y}<extra></extra>\",\"legendgroup\":\"fr\",\"marker\":{\"color\":\"#EF553B\"},\"name\":\"fr\",\"notched\":false,\"offsetgroup\":\"fr\",\"orientation\":\"v\",\"showlegend\":true,\"type\":\"box\",\"x\":[\"Beginner\",\"Mixed\",\"Beginner\",\"Beginner\",\"Intermediate\",\"Intermediate\",\"Mixed\",\"Beginner\",\"Beginner\",\"Beginner\",\"Beginner\",\"Mixed\",\"Beginner\",\"Intermediate\",\"Intermediate\"],\"x0\":\" \",\"xaxis\":\"x\",\"y\":[61000.0,54000.0,110000.0,7200.0,83000.0,3600.0,46000.0,8000.0,6300.0,10000.0,5200.0,33000.0,5600.0,5400.0,63000.0],\"y0\":\" \",\"yaxis\":\"y\"},{\"alignmentgroup\":\"True\",\"hovertemplate\":\"Language=no<br>course_difficulty=%{x}<br>course_students_enrolled=%{y}<extra></extra>\",\"legendgroup\":\"no\",\"marker\":{\"color\":\"#00cc96\"},\"name\":\"no\",\"notched\":false,\"offsetgroup\":\"no\",\"orientation\":\"v\",\"showlegend\":true,\"type\":\"box\",\"x\":[\"Beginner\",\"Mixed\",\"Beginner\",\"Intermediate\",\"Beginner\",\"Beginner\"],\"x0\":\" \",\"xaxis\":\"x\",\"y\":[150000.0,210000.0,4400.0,37000.0,57000.0,7000.0],\"y0\":\" \",\"yaxis\":\"y\"},{\"alignmentgroup\":\"True\",\"hovertemplate\":\"Language=id<br>course_difficulty=%{x}<br>course_students_enrolled=%{y}<extra></extra>\",\"legendgroup\":\"id\",\"marker\":{\"color\":\"#ab63fa\"},\"name\":\"id\",\"notched\":false,\"offsetgroup\":\"id\",\"orientation\":\"v\",\"showlegend\":true,\"type\":\"box\",\"x\":[\"Beginner\",\"Mixed\",\"Beginner\",\"Beginner\"],\"x0\":\" \",\"xaxis\":\"x\",\"y\":[380000.0,51000.0,81000.0,39000.0],\"y0\":\" \",\"yaxis\":\"y\"},{\"alignmentgroup\":\"True\",\"hovertemplate\":\"Language=lt<br>course_difficulty=%{x}<br>course_students_enrolled=%{y}<extra></extra>\",\"legendgroup\":\"lt\",\"marker\":{\"color\":\"#FFA15A\"},\"name\":\"lt\",\"notched\":false,\"offsetgroup\":\"lt\",\"orientation\":\"v\",\"showlegend\":true,\"type\":\"box\",\"x\":[\"Beginner\"],\"x0\":\" \",\"xaxis\":\"x\",\"y\":[35000.0],\"y0\":\" \",\"yaxis\":\"y\"},{\"alignmentgroup\":\"True\",\"hovertemplate\":\"Language=hu<br>course_difficulty=%{x}<br>course_students_enrolled=%{y}<extra></extra>\",\"legendgroup\":\"hu\",\"marker\":{\"color\":\"#19d3f3\"},\"name\":\"hu\",\"notched\":false,\"offsetgroup\":\"hu\",\"orientation\":\"v\",\"showlegend\":true,\"type\":\"box\",\"x\":[\"Beginner\"],\"x0\":\" \",\"xaxis\":\"x\",\"y\":[46000.0],\"y0\":\" \",\"yaxis\":\"y\"},{\"alignmentgroup\":\"True\",\"hovertemplate\":\"Language=ro<br>course_difficulty=%{x}<br>course_students_enrolled=%{y}<extra></extra>\",\"legendgroup\":\"ro\",\"marker\":{\"color\":\"#FF6692\"},\"name\":\"ro\",\"notched\":false,\"offsetgroup\":\"ro\",\"orientation\":\"v\",\"showlegend\":true,\"type\":\"box\",\"x\":[\"Beginner\",\"Beginner\",\"Beginner\",\"Intermediate\"],\"x0\":\" \",\"xaxis\":\"x\",\"y\":[170000.0,10000.0,6500.0,6400.0],\"y0\":\" \",\"yaxis\":\"y\"},{\"alignmentgroup\":\"True\",\"hovertemplate\":\"Language=pt<br>course_difficulty=%{x}<br>course_students_enrolled=%{y}<extra></extra>\",\"legendgroup\":\"pt\",\"marker\":{\"color\":\"#B6E880\"},\"name\":\"pt\",\"notched\":false,\"offsetgroup\":\"pt\",\"orientation\":\"v\",\"showlegend\":true,\"type\":\"box\",\"x\":[\"Intermediate\",\"Beginner\",\"Beginner\",\"Beginner\",\"Beginner\",\"Intermediate\"],\"x0\":\" \",\"xaxis\":\"x\",\"y\":[76000.0,56000.0,4500.0,120000.0,12000.0,17000.0],\"y0\":\" \",\"yaxis\":\"y\"},{\"alignmentgroup\":\"True\",\"hovertemplate\":\"Language=cy<br>course_difficulty=%{x}<br>course_students_enrolled=%{y}<extra></extra>\",\"legendgroup\":\"cy\",\"marker\":{\"color\":\"#FF97FF\"},\"name\":\"cy\",\"notched\":false,\"offsetgroup\":\"cy\",\"orientation\":\"v\",\"showlegend\":true,\"type\":\"box\",\"x\":[\"Beginner\"],\"x0\":\" \",\"xaxis\":\"x\",\"y\":[1500000.0],\"y0\":\" \",\"yaxis\":\"y\"},{\"alignmentgroup\":\"True\",\"hovertemplate\":\"Language=bg<br>course_difficulty=%{x}<br>course_students_enrolled=%{y}<extra></extra>\",\"legendgroup\":\"bg\",\"marker\":{\"color\":\"#FECB52\"},\"name\":\"bg\",\"notched\":false,\"offsetgroup\":\"bg\",\"orientation\":\"v\",\"showlegend\":true,\"type\":\"box\",\"x\":[\"Mixed\"],\"x0\":\" \",\"xaxis\":\"x\",\"y\":[21000.0],\"y0\":\" \",\"yaxis\":\"y\"}],                        {\"boxmode\":\"group\",\"legend\":{\"title\":{\"text\":\"Language\"},\"tracegroupgap\":0},\"margin\":{\"t\":60},\"template\":{\"data\":{\"bar\":[{\"error_x\":{\"color\":\"#2a3f5f\"},\"error_y\":{\"color\":\"#2a3f5f\"},\"marker\":{\"line\":{\"color\":\"#E5ECF6\",\"width\":0.5},\"pattern\":{\"fillmode\":\"overlay\",\"size\":10,\"solidity\":0.2}},\"type\":\"bar\"}],\"barpolar\":[{\"marker\":{\"line\":{\"color\":\"#E5ECF6\",\"width\":0.5},\"pattern\":{\"fillmode\":\"overlay\",\"size\":10,\"solidity\":0.2}},\"type\":\"barpolar\"}],\"carpet\":[{\"aaxis\":{\"endlinecolor\":\"#2a3f5f\",\"gridcolor\":\"white\",\"linecolor\":\"white\",\"minorgridcolor\":\"white\",\"startlinecolor\":\"#2a3f5f\"},\"baxis\":{\"endlinecolor\":\"#2a3f5f\",\"gridcolor\":\"white\",\"linecolor\":\"white\",\"minorgridcolor\":\"white\",\"startlinecolor\":\"#2a3f5f\"},\"type\":\"carpet\"}],\"choropleth\":[{\"colorbar\":{\"outlinewidth\":0,\"ticks\":\"\"},\"type\":\"choropleth\"}],\"contour\":[{\"colorbar\":{\"outlinewidth\":0,\"ticks\":\"\"},\"colorscale\":[[0.0,\"#0d0887\"],[0.1111111111111111,\"#46039f\"],[0.2222222222222222,\"#7201a8\"],[0.3333333333333333,\"#9c179e\"],[0.4444444444444444,\"#bd3786\"],[0.5555555555555556,\"#d8576b\"],[0.6666666666666666,\"#ed7953\"],[0.7777777777777778,\"#fb9f3a\"],[0.8888888888888888,\"#fdca26\"],[1.0,\"#f0f921\"]],\"type\":\"contour\"}],\"contourcarpet\":[{\"colorbar\":{\"outlinewidth\":0,\"ticks\":\"\"},\"type\":\"contourcarpet\"}],\"heatmap\":[{\"colorbar\":{\"outlinewidth\":0,\"ticks\":\"\"},\"colorscale\":[[0.0,\"#0d0887\"],[0.1111111111111111,\"#46039f\"],[0.2222222222222222,\"#7201a8\"],[0.3333333333333333,\"#9c179e\"],[0.4444444444444444,\"#bd3786\"],[0.5555555555555556,\"#d8576b\"],[0.6666666666666666,\"#ed7953\"],[0.7777777777777778,\"#fb9f3a\"],[0.8888888888888888,\"#fdca26\"],[1.0,\"#f0f921\"]],\"type\":\"heatmap\"}],\"heatmapgl\":[{\"colorbar\":{\"outlinewidth\":0,\"ticks\":\"\"},\"colorscale\":[[0.0,\"#0d0887\"],[0.1111111111111111,\"#46039f\"],[0.2222222222222222,\"#7201a8\"],[0.3333333333333333,\"#9c179e\"],[0.4444444444444444,\"#bd3786\"],[0.5555555555555556,\"#d8576b\"],[0.6666666666666666,\"#ed7953\"],[0.7777777777777778,\"#fb9f3a\"],[0.8888888888888888,\"#fdca26\"],[1.0,\"#f0f921\"]],\"type\":\"heatmapgl\"}],\"histogram\":[{\"marker\":{\"pattern\":{\"fillmode\":\"overlay\",\"size\":10,\"solidity\":0.2}},\"type\":\"histogram\"}],\"histogram2d\":[{\"colorbar\":{\"outlinewidth\":0,\"ticks\":\"\"},\"colorscale\":[[0.0,\"#0d0887\"],[0.1111111111111111,\"#46039f\"],[0.2222222222222222,\"#7201a8\"],[0.3333333333333333,\"#9c179e\"],[0.4444444444444444,\"#bd3786\"],[0.5555555555555556,\"#d8576b\"],[0.6666666666666666,\"#ed7953\"],[0.7777777777777778,\"#fb9f3a\"],[0.8888888888888888,\"#fdca26\"],[1.0,\"#f0f921\"]],\"type\":\"histogram2d\"}],\"histogram2dcontour\":[{\"colorbar\":{\"outlinewidth\":0,\"ticks\":\"\"},\"colorscale\":[[0.0,\"#0d0887\"],[0.1111111111111111,\"#46039f\"],[0.2222222222222222,\"#7201a8\"],[0.3333333333333333,\"#9c179e\"],[0.4444444444444444,\"#bd3786\"],[0.5555555555555556,\"#d8576b\"],[0.6666666666666666,\"#ed7953\"],[0.7777777777777778,\"#fb9f3a\"],[0.8888888888888888,\"#fdca26\"],[1.0,\"#f0f921\"]],\"type\":\"histogram2dcontour\"}],\"mesh3d\":[{\"colorbar\":{\"outlinewidth\":0,\"ticks\":\"\"},\"type\":\"mesh3d\"}],\"parcoords\":[{\"line\":{\"colorbar\":{\"outlinewidth\":0,\"ticks\":\"\"}},\"type\":\"parcoords\"}],\"pie\":[{\"automargin\":true,\"type\":\"pie\"}],\"scatter\":[{\"marker\":{\"colorbar\":{\"outlinewidth\":0,\"ticks\":\"\"}},\"type\":\"scatter\"}],\"scatter3d\":[{\"line\":{\"colorbar\":{\"outlinewidth\":0,\"ticks\":\"\"}},\"marker\":{\"colorbar\":{\"outlinewidth\":0,\"ticks\":\"\"}},\"type\":\"scatter3d\"}],\"scattercarpet\":[{\"marker\":{\"colorbar\":{\"outlinewidth\":0,\"ticks\":\"\"}},\"type\":\"scattercarpet\"}],\"scattergeo\":[{\"marker\":{\"colorbar\":{\"outlinewidth\":0,\"ticks\":\"\"}},\"type\":\"scattergeo\"}],\"scattergl\":[{\"marker\":{\"colorbar\":{\"outlinewidth\":0,\"ticks\":\"\"}},\"type\":\"scattergl\"}],\"scattermapbox\":[{\"marker\":{\"colorbar\":{\"outlinewidth\":0,\"ticks\":\"\"}},\"type\":\"scattermapbox\"}],\"scatterpolar\":[{\"marker\":{\"colorbar\":{\"outlinewidth\":0,\"ticks\":\"\"}},\"type\":\"scatterpolar\"}],\"scatterpolargl\":[{\"marker\":{\"colorbar\":{\"outlinewidth\":0,\"ticks\":\"\"}},\"type\":\"scatterpolargl\"}],\"scatterternary\":[{\"marker\":{\"colorbar\":{\"outlinewidth\":0,\"ticks\":\"\"}},\"type\":\"scatterternary\"}],\"surface\":[{\"colorbar\":{\"outlinewidth\":0,\"ticks\":\"\"},\"colorscale\":[[0.0,\"#0d0887\"],[0.1111111111111111,\"#46039f\"],[0.2222222222222222,\"#7201a8\"],[0.3333333333333333,\"#9c179e\"],[0.4444444444444444,\"#bd3786\"],[0.5555555555555556,\"#d8576b\"],[0.6666666666666666,\"#ed7953\"],[0.7777777777777778,\"#fb9f3a\"],[0.8888888888888888,\"#fdca26\"],[1.0,\"#f0f921\"]],\"type\":\"surface\"}],\"table\":[{\"cells\":{\"fill\":{\"color\":\"#EBF0F8\"},\"line\":{\"color\":\"white\"}},\"header\":{\"fill\":{\"color\":\"#C8D4E3\"},\"line\":{\"color\":\"white\"}},\"type\":\"table\"}]},\"layout\":{\"annotationdefaults\":{\"arrowcolor\":\"#2a3f5f\",\"arrowhead\":0,\"arrowwidth\":1},\"autotypenumbers\":\"strict\",\"coloraxis\":{\"colorbar\":{\"outlinewidth\":0,\"ticks\":\"\"}},\"colorscale\":{\"diverging\":[[0,\"#8e0152\"],[0.1,\"#c51b7d\"],[0.2,\"#de77ae\"],[0.3,\"#f1b6da\"],[0.4,\"#fde0ef\"],[0.5,\"#f7f7f7\"],[0.6,\"#e6f5d0\"],[0.7,\"#b8e186\"],[0.8,\"#7fbc41\"],[0.9,\"#4d9221\"],[1,\"#276419\"]],\"sequential\":[[0.0,\"#0d0887\"],[0.1111111111111111,\"#46039f\"],[0.2222222222222222,\"#7201a8\"],[0.3333333333333333,\"#9c179e\"],[0.4444444444444444,\"#bd3786\"],[0.5555555555555556,\"#d8576b\"],[0.6666666666666666,\"#ed7953\"],[0.7777777777777778,\"#fb9f3a\"],[0.8888888888888888,\"#fdca26\"],[1.0,\"#f0f921\"]],\"sequentialminus\":[[0.0,\"#0d0887\"],[0.1111111111111111,\"#46039f\"],[0.2222222222222222,\"#7201a8\"],[0.3333333333333333,\"#9c179e\"],[0.4444444444444444,\"#bd3786\"],[0.5555555555555556,\"#d8576b\"],[0.6666666666666666,\"#ed7953\"],[0.7777777777777778,\"#fb9f3a\"],[0.8888888888888888,\"#fdca26\"],[1.0,\"#f0f921\"]]},\"colorway\":[\"#636efa\",\"#EF553B\",\"#00cc96\",\"#ab63fa\",\"#FFA15A\",\"#19d3f3\",\"#FF6692\",\"#B6E880\",\"#FF97FF\",\"#FECB52\"],\"font\":{\"color\":\"#2a3f5f\"},\"geo\":{\"bgcolor\":\"white\",\"lakecolor\":\"white\",\"landcolor\":\"#E5ECF6\",\"showlakes\":true,\"showland\":true,\"subunitcolor\":\"white\"},\"hoverlabel\":{\"align\":\"left\"},\"hovermode\":\"closest\",\"mapbox\":{\"style\":\"light\"},\"paper_bgcolor\":\"white\",\"plot_bgcolor\":\"#E5ECF6\",\"polar\":{\"angularaxis\":{\"gridcolor\":\"white\",\"linecolor\":\"white\",\"ticks\":\"\"},\"bgcolor\":\"#E5ECF6\",\"radialaxis\":{\"gridcolor\":\"white\",\"linecolor\":\"white\",\"ticks\":\"\"}},\"scene\":{\"xaxis\":{\"backgroundcolor\":\"#E5ECF6\",\"gridcolor\":\"white\",\"gridwidth\":2,\"linecolor\":\"white\",\"showbackground\":true,\"ticks\":\"\",\"zerolinecolor\":\"white\"},\"yaxis\":{\"backgroundcolor\":\"#E5ECF6\",\"gridcolor\":\"white\",\"gridwidth\":2,\"linecolor\":\"white\",\"showbackground\":true,\"ticks\":\"\",\"zerolinecolor\":\"white\"},\"zaxis\":{\"backgroundcolor\":\"#E5ECF6\",\"gridcolor\":\"white\",\"gridwidth\":2,\"linecolor\":\"white\",\"showbackground\":true,\"ticks\":\"\",\"zerolinecolor\":\"white\"}},\"shapedefaults\":{\"line\":{\"color\":\"#2a3f5f\"}},\"ternary\":{\"aaxis\":{\"gridcolor\":\"white\",\"linecolor\":\"white\",\"ticks\":\"\"},\"baxis\":{\"gridcolor\":\"white\",\"linecolor\":\"white\",\"ticks\":\"\"},\"bgcolor\":\"#E5ECF6\",\"caxis\":{\"gridcolor\":\"white\",\"linecolor\":\"white\",\"ticks\":\"\"}},\"title\":{\"x\":0.05},\"xaxis\":{\"automargin\":true,\"gridcolor\":\"white\",\"linecolor\":\"white\",\"ticks\":\"\",\"title\":{\"standoff\":15},\"zerolinecolor\":\"white\",\"zerolinewidth\":2},\"yaxis\":{\"automargin\":true,\"gridcolor\":\"white\",\"linecolor\":\"white\",\"ticks\":\"\",\"title\":{\"standoff\":15},\"zerolinecolor\":\"white\",\"zerolinewidth\":2}}},\"xaxis\":{\"anchor\":\"y\",\"domain\":[0.0,1.0],\"title\":{\"text\":\"course_difficulty\"}},\"yaxis\":{\"anchor\":\"x\",\"domain\":[0.0,1.0],\"title\":{\"text\":\"course_students_enrolled\"}}},                        {\"responsive\": true}                    ).then(function(){\n",
       "                            \n",
       "var gd = document.getElementById('7a7c336d-9b4e-4ef1-8605-13e5842c7ded');\n",
       "var x = new MutationObserver(function (mutations, observer) {{\n",
       "        var display = window.getComputedStyle(gd).display;\n",
       "        if (!display || display === 'none') {{\n",
       "            console.log([gd, 'removed!']);\n",
       "            Plotly.purge(gd);\n",
       "            observer.disconnect();\n",
       "        }}\n",
       "}});\n",
       "\n",
       "// Listen for the removal of the full notebook cells\n",
       "var notebookContainer = gd.closest('#notebook-container');\n",
       "if (notebookContainer) {{\n",
       "    x.observe(notebookContainer, {childList: true});\n",
       "}}\n",
       "\n",
       "// Listen for the clearing of the current output cell\n",
       "var outputEl = gd.closest('.output');\n",
       "if (outputEl) {{\n",
       "    x.observe(outputEl, {childList: true});\n",
       "}}\n",
       "\n",
       "                        })                };                });            </script>        </div>"
      ]
     },
     "metadata": {},
     "output_type": "display_data"
    }
   ],
   "source": [
    "fig = px.box(df, x=\"course_difficulty\", y=\"course_students_enrolled\",color=\"Language\")\n",
    "\n",
    "fig.show()"
   ]
  },
  {
   "cell_type": "code",
   "execution_count": null,
   "id": "1cbd990f",
   "metadata": {
    "papermill": {
     "duration": 0.03,
     "end_time": "2021-09-18T14:41:58.425759",
     "exception": false,
     "start_time": "2021-09-18T14:41:58.395759",
     "status": "completed"
    },
    "tags": []
   },
   "outputs": [],
   "source": []
  },
  {
   "cell_type": "code",
   "execution_count": null,
   "id": "db25b960",
   "metadata": {
    "papermill": {
     "duration": 0.028866,
     "end_time": "2021-09-18T14:41:58.484866",
     "exception": false,
     "start_time": "2021-09-18T14:41:58.456000",
     "status": "completed"
    },
    "tags": []
   },
   "outputs": [],
   "source": []
  }
 ],
 "metadata": {
  "kernelspec": {
   "display_name": "Python 3",
   "language": "python",
   "name": "python3"
  },
  "language_info": {
   "codemirror_mode": {
    "name": "ipython",
    "version": 3
   },
   "file_extension": ".py",
   "mimetype": "text/x-python",
   "name": "python",
   "nbconvert_exporter": "python",
   "pygments_lexer": "ipython3",
   "version": "3.7.10"
  },
  "papermill": {
   "default_parameters": {},
   "duration": 31.733794,
   "end_time": "2021-09-18T14:41:59.525748",
   "environment_variables": {},
   "exception": null,
   "input_path": "__notebook__.ipynb",
   "output_path": "__notebook__.ipynb",
   "parameters": {},
   "start_time": "2021-09-18T14:41:27.791954",
   "version": "2.3.3"
  }
 },
 "nbformat": 4,
 "nbformat_minor": 5
}
